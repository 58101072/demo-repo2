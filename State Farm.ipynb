{
 "cells": [
  {
   "cell_type": "markdown",
   "metadata": {},
   "source": [
    "# State Farm Classification Exercise\n",
    "## 1. Data cleaning"
   ]
  },
  {
   "cell_type": "code",
   "execution_count": 1,
   "metadata": {},
   "outputs": [],
   "source": [
    "#standard import\n",
    "import numpy as np\n",
    "import pandas as pd\n",
    "import os \n",
    "# Suppress warnings\n",
    "import warnings\n",
    "warnings.filterwarnings('ignore')"
   ]
  },
  {
   "cell_type": "markdown",
   "metadata": {},
   "source": [
    "### 1.1 loading and exploring the data"
   ]
  },
  {
   "cell_type": "code",
   "execution_count": 2,
   "metadata": {},
   "outputs": [],
   "source": [
    "#loading data\n",
    "Train = pd.read_csv(os.path.join(os.getcwd(), \"exercise_40_train.csv\"), header = 0)\n",
    "Test = pd.read_csv(os.path.join(os.getcwd(), \"exercise_40_test.csv\"), header = 0)"
   ]
  },
  {
   "cell_type": "markdown",
   "metadata": {},
   "source": [
    "Combine Test and Trian to Main for data cleaning"
   ]
  },
  {
   "cell_type": "code",
   "execution_count": 3,
   "metadata": {},
   "outputs": [],
   "source": [
    "Main = pd.concat([Test.assign(ind=\"test\"), Train.assign(ind=\"train\")])\n",
    "#test, train = df[df[\"ind\"].eq(\"test\")], df[df[\"ind\"].eq(\"train\")]"
   ]
  },
  {
   "cell_type": "code",
   "execution_count": 4,
   "metadata": {
    "scrolled": false
   },
   "outputs": [
    {
     "data": {
      "text/html": [
       "<div>\n",
       "<style scoped>\n",
       "    .dataframe tbody tr th:only-of-type {\n",
       "        vertical-align: middle;\n",
       "    }\n",
       "\n",
       "    .dataframe tbody tr th {\n",
       "        vertical-align: top;\n",
       "    }\n",
       "\n",
       "    .dataframe thead th {\n",
       "        text-align: right;\n",
       "    }\n",
       "</style>\n",
       "<table border=\"1\" class=\"dataframe\">\n",
       "  <thead>\n",
       "    <tr style=\"text-align: right;\">\n",
       "      <th></th>\n",
       "      <th>x1</th>\n",
       "      <th>x2</th>\n",
       "      <th>x3</th>\n",
       "      <th>x4</th>\n",
       "      <th>x5</th>\n",
       "      <th>x6</th>\n",
       "      <th>x7</th>\n",
       "      <th>x8</th>\n",
       "      <th>x9</th>\n",
       "      <th>x10</th>\n",
       "      <th>...</th>\n",
       "      <th>x93</th>\n",
       "      <th>x94</th>\n",
       "      <th>x95</th>\n",
       "      <th>x96</th>\n",
       "      <th>x97</th>\n",
       "      <th>x98</th>\n",
       "      <th>x99</th>\n",
       "      <th>x100</th>\n",
       "      <th>ind</th>\n",
       "      <th>y</th>\n",
       "    </tr>\n",
       "  </thead>\n",
       "  <tbody>\n",
       "    <tr>\n",
       "      <th>0</th>\n",
       "      <td>4.747627</td>\n",
       "      <td>20.509439</td>\n",
       "      <td>Wednesday</td>\n",
       "      <td>2.299105</td>\n",
       "      <td>-1.815777</td>\n",
       "      <td>-0.752166</td>\n",
       "      <td>0.0098%</td>\n",
       "      <td>-3.240309</td>\n",
       "      <td>0.587948</td>\n",
       "      <td>-0.260721</td>\n",
       "      <td>...</td>\n",
       "      <td>no</td>\n",
       "      <td>3.107683</td>\n",
       "      <td>0.533904</td>\n",
       "      <td>12.438759</td>\n",
       "      <td>7.298306</td>\n",
       "      <td>0</td>\n",
       "      <td>NaN</td>\n",
       "      <td>93.567120</td>\n",
       "      <td>test</td>\n",
       "      <td>NaN</td>\n",
       "    </tr>\n",
       "    <tr>\n",
       "      <th>1</th>\n",
       "      <td>1.148654</td>\n",
       "      <td>19.301465</td>\n",
       "      <td>Fri</td>\n",
       "      <td>1.862200</td>\n",
       "      <td>-0.773707</td>\n",
       "      <td>-1.461276</td>\n",
       "      <td>0.0076%</td>\n",
       "      <td>0.443209</td>\n",
       "      <td>0.522113</td>\n",
       "      <td>-1.090886</td>\n",
       "      <td>...</td>\n",
       "      <td>yes</td>\n",
       "      <td>4.276078</td>\n",
       "      <td>NaN</td>\n",
       "      <td>10.386987</td>\n",
       "      <td>12.527094</td>\n",
       "      <td>1</td>\n",
       "      <td>yes</td>\n",
       "      <td>98.607486</td>\n",
       "      <td>test</td>\n",
       "      <td>NaN</td>\n",
       "    </tr>\n",
       "    <tr>\n",
       "      <th>2</th>\n",
       "      <td>4.986860</td>\n",
       "      <td>18.769675</td>\n",
       "      <td>Saturday</td>\n",
       "      <td>1.040845</td>\n",
       "      <td>-1.548690</td>\n",
       "      <td>2.632948</td>\n",
       "      <td>-5e-04%</td>\n",
       "      <td>-1.167885</td>\n",
       "      <td>5.739275</td>\n",
       "      <td>0.222975</td>\n",
       "      <td>...</td>\n",
       "      <td>no</td>\n",
       "      <td>2.090868</td>\n",
       "      <td>-1.780474</td>\n",
       "      <td>11.328177</td>\n",
       "      <td>11.628247</td>\n",
       "      <td>0</td>\n",
       "      <td>yes</td>\n",
       "      <td>94.578246</td>\n",
       "      <td>test</td>\n",
       "      <td>NaN</td>\n",
       "    </tr>\n",
       "    <tr>\n",
       "      <th>3</th>\n",
       "      <td>3.709183</td>\n",
       "      <td>18.374375</td>\n",
       "      <td>Tuesday</td>\n",
       "      <td>-0.169882</td>\n",
       "      <td>-2.396549</td>\n",
       "      <td>-0.784673</td>\n",
       "      <td>-0.016%</td>\n",
       "      <td>-2.662226</td>\n",
       "      <td>1.548050</td>\n",
       "      <td>0.210141</td>\n",
       "      <td>...</td>\n",
       "      <td>no</td>\n",
       "      <td>2.643847</td>\n",
       "      <td>1.662240</td>\n",
       "      <td>10.064961</td>\n",
       "      <td>10.550014</td>\n",
       "      <td>1</td>\n",
       "      <td>NaN</td>\n",
       "      <td>100.346261</td>\n",
       "      <td>test</td>\n",
       "      <td>NaN</td>\n",
       "    </tr>\n",
       "    <tr>\n",
       "      <th>4</th>\n",
       "      <td>3.801616</td>\n",
       "      <td>20.205541</td>\n",
       "      <td>Monday</td>\n",
       "      <td>2.092652</td>\n",
       "      <td>-0.732784</td>\n",
       "      <td>-0.703101</td>\n",
       "      <td>0.0186%</td>\n",
       "      <td>0.056422</td>\n",
       "      <td>2.878167</td>\n",
       "      <td>-0.457618</td>\n",
       "      <td>...</td>\n",
       "      <td>yes</td>\n",
       "      <td>4.074434</td>\n",
       "      <td>NaN</td>\n",
       "      <td>9.255766</td>\n",
       "      <td>12.716137</td>\n",
       "      <td>1</td>\n",
       "      <td>yes</td>\n",
       "      <td>102.578918</td>\n",
       "      <td>test</td>\n",
       "      <td>NaN</td>\n",
       "    </tr>\n",
       "  </tbody>\n",
       "</table>\n",
       "<p>5 rows × 102 columns</p>\n",
       "</div>"
      ],
      "text/plain": [
       "         x1         x2         x3        x4        x5        x6       x7  \\\n",
       "0  4.747627  20.509439  Wednesday  2.299105 -1.815777 -0.752166  0.0098%   \n",
       "1  1.148654  19.301465        Fri  1.862200 -0.773707 -1.461276  0.0076%   \n",
       "2  4.986860  18.769675   Saturday  1.040845 -1.548690  2.632948  -5e-04%   \n",
       "3  3.709183  18.374375    Tuesday -0.169882 -2.396549 -0.784673  -0.016%   \n",
       "4  3.801616  20.205541     Monday  2.092652 -0.732784 -0.703101  0.0186%   \n",
       "\n",
       "         x8        x9       x10  ...  x93       x94       x95        x96  \\\n",
       "0 -3.240309  0.587948 -0.260721  ...   no  3.107683  0.533904  12.438759   \n",
       "1  0.443209  0.522113 -1.090886  ...  yes  4.276078       NaN  10.386987   \n",
       "2 -1.167885  5.739275  0.222975  ...   no  2.090868 -1.780474  11.328177   \n",
       "3 -2.662226  1.548050  0.210141  ...   no  2.643847  1.662240  10.064961   \n",
       "4  0.056422  2.878167 -0.457618  ...  yes  4.074434       NaN   9.255766   \n",
       "\n",
       "         x97  x98  x99        x100   ind   y  \n",
       "0   7.298306    0  NaN   93.567120  test NaN  \n",
       "1  12.527094    1  yes   98.607486  test NaN  \n",
       "2  11.628247    0  yes   94.578246  test NaN  \n",
       "3  10.550014    1  NaN  100.346261  test NaN  \n",
       "4  12.716137    1  yes  102.578918  test NaN  \n",
       "\n",
       "[5 rows x 102 columns]"
      ]
     },
     "execution_count": 4,
     "metadata": {},
     "output_type": "execute_result"
    }
   ],
   "source": [
    "Main.head()"
   ]
  },
  {
   "cell_type": "code",
   "execution_count": 5,
   "metadata": {
    "scrolled": true
   },
   "outputs": [
    {
     "name": "stdout",
     "output_type": "stream",
     "text": [
      "<class 'pandas.core.frame.DataFrame'>\n",
      "Int64Index: 50000 entries, 0 to 39999\n",
      "Columns: 102 entries, x1 to y\n",
      "dtypes: float64(87), int64(2), object(13)\n",
      "memory usage: 39.3+ MB\n"
     ]
    }
   ],
   "source": [
    "Main.info(null_counts='True')"
   ]
  },
  {
   "cell_type": "markdown",
   "metadata": {},
   "source": [
    "### 1.2 cleaning object features"
   ]
  },
  {
   "cell_type": "code",
   "execution_count": 6,
   "metadata": {
    "scrolled": true
   },
   "outputs": [
    {
     "name": "stdout",
     "output_type": "stream",
     "text": [
      "<class 'pandas.core.frame.DataFrame'>\n",
      "Int64Index: 50000 entries, 0 to 39999\n",
      "Data columns (total 13 columns):\n",
      " #   Column  Non-Null Count  Dtype \n",
      "---  ------  --------------  ----- \n",
      " 0   x3      50000 non-null  object\n",
      " 1   x7      50000 non-null  object\n",
      " 2   x19     50000 non-null  object\n",
      " 3   x24     45175 non-null  object\n",
      " 4   x31     50000 non-null  object\n",
      " 5   x33     41059 non-null  object\n",
      " 6   x39     50000 non-null  object\n",
      " 7   x60     50000 non-null  object\n",
      " 8   x65     50000 non-null  object\n",
      " 9   x77     38425 non-null  object\n",
      " 10  x93     50000 non-null  object\n",
      " 11  x99     33864 non-null  object\n",
      " 12  ind     50000 non-null  object\n",
      "dtypes: object(13)\n",
      "memory usage: 5.3+ MB\n"
     ]
    }
   ],
   "source": [
    "#find the object features with null\n",
    "Main.loc[:, Main.dtypes == np.object].info(null_counts='True')"
   ]
  },
  {
   "cell_type": "code",
   "execution_count": 7,
   "metadata": {
    "scrolled": true
   },
   "outputs": [
    {
     "data": {
      "text/html": [
       "<div>\n",
       "<style scoped>\n",
       "    .dataframe tbody tr th:only-of-type {\n",
       "        vertical-align: middle;\n",
       "    }\n",
       "\n",
       "    .dataframe tbody tr th {\n",
       "        vertical-align: top;\n",
       "    }\n",
       "\n",
       "    .dataframe thead th {\n",
       "        text-align: right;\n",
       "    }\n",
       "</style>\n",
       "<table border=\"1\" class=\"dataframe\">\n",
       "  <thead>\n",
       "    <tr style=\"text-align: right;\">\n",
       "      <th></th>\n",
       "      <th>x3</th>\n",
       "      <th>x7</th>\n",
       "      <th>x19</th>\n",
       "      <th>x24</th>\n",
       "      <th>x31</th>\n",
       "      <th>x33</th>\n",
       "      <th>x39</th>\n",
       "      <th>x60</th>\n",
       "      <th>x65</th>\n",
       "      <th>x77</th>\n",
       "      <th>x93</th>\n",
       "      <th>x99</th>\n",
       "      <th>ind</th>\n",
       "    </tr>\n",
       "  </thead>\n",
       "  <tbody>\n",
       "    <tr>\n",
       "      <th>0</th>\n",
       "      <td>Wednesday</td>\n",
       "      <td>0.0098%</td>\n",
       "      <td>$120.216189955777</td>\n",
       "      <td>NaN</td>\n",
       "      <td>no</td>\n",
       "      <td>Florida</td>\n",
       "      <td>5-10 miles</td>\n",
       "      <td>May</td>\n",
       "      <td>progressive</td>\n",
       "      <td>mercedes</td>\n",
       "      <td>no</td>\n",
       "      <td>NaN</td>\n",
       "      <td>test</td>\n",
       "    </tr>\n",
       "    <tr>\n",
       "      <th>1</th>\n",
       "      <td>Fri</td>\n",
       "      <td>0.0076%</td>\n",
       "      <td>$-267.562586413086</td>\n",
       "      <td>female</td>\n",
       "      <td>yes</td>\n",
       "      <td>North Carolina</td>\n",
       "      <td>5-10 miles</td>\n",
       "      <td>July</td>\n",
       "      <td>allstate</td>\n",
       "      <td>ford</td>\n",
       "      <td>yes</td>\n",
       "      <td>yes</td>\n",
       "      <td>test</td>\n",
       "    </tr>\n",
       "    <tr>\n",
       "      <th>2</th>\n",
       "      <td>Saturday</td>\n",
       "      <td>-5e-04%</td>\n",
       "      <td>$-311.292903116571</td>\n",
       "      <td>male</td>\n",
       "      <td>no</td>\n",
       "      <td>NaN</td>\n",
       "      <td>5-10 miles</td>\n",
       "      <td>January</td>\n",
       "      <td>progressive</td>\n",
       "      <td>NaN</td>\n",
       "      <td>no</td>\n",
       "      <td>yes</td>\n",
       "      <td>test</td>\n",
       "    </tr>\n",
       "    <tr>\n",
       "      <th>3</th>\n",
       "      <td>Tuesday</td>\n",
       "      <td>-0.016%</td>\n",
       "      <td>$2229.14940030076</td>\n",
       "      <td>female</td>\n",
       "      <td>no</td>\n",
       "      <td>Mississippi</td>\n",
       "      <td>5-10 miles</td>\n",
       "      <td>July</td>\n",
       "      <td>geico</td>\n",
       "      <td>subaru</td>\n",
       "      <td>no</td>\n",
       "      <td>NaN</td>\n",
       "      <td>test</td>\n",
       "    </tr>\n",
       "    <tr>\n",
       "      <th>4</th>\n",
       "      <td>Monday</td>\n",
       "      <td>0.0186%</td>\n",
       "      <td>$-469.049529991235</td>\n",
       "      <td>female</td>\n",
       "      <td>yes</td>\n",
       "      <td>Georgia</td>\n",
       "      <td>5-10 miles</td>\n",
       "      <td>January</td>\n",
       "      <td>progressive</td>\n",
       "      <td>ford</td>\n",
       "      <td>yes</td>\n",
       "      <td>yes</td>\n",
       "      <td>test</td>\n",
       "    </tr>\n",
       "  </tbody>\n",
       "</table>\n",
       "</div>"
      ],
      "text/plain": [
       "          x3       x7                 x19     x24  x31             x33  \\\n",
       "0  Wednesday  0.0098%   $120.216189955777     NaN   no         Florida   \n",
       "1        Fri  0.0076%  $-267.562586413086  female  yes  North Carolina   \n",
       "2   Saturday  -5e-04%  $-311.292903116571    male   no             NaN   \n",
       "3    Tuesday  -0.016%   $2229.14940030076  female   no     Mississippi   \n",
       "4     Monday  0.0186%  $-469.049529991235  female  yes         Georgia   \n",
       "\n",
       "          x39      x60          x65       x77  x93  x99   ind  \n",
       "0  5-10 miles      May  progressive  mercedes   no  NaN  test  \n",
       "1  5-10 miles     July     allstate      ford  yes  yes  test  \n",
       "2  5-10 miles  January  progressive       NaN   no  yes  test  \n",
       "3  5-10 miles     July        geico    subaru   no  NaN  test  \n",
       "4  5-10 miles  January  progressive      ford  yes  yes  test  "
      ]
     },
     "execution_count": 7,
     "metadata": {},
     "output_type": "execute_result"
    }
   ],
   "source": [
    "Main.loc[:, Main.dtypes == np.object].head()"
   ]
  },
  {
   "cell_type": "markdown",
   "metadata": {},
   "source": [
    "Explore X3 and replace full name with Abbreviation"
   ]
  },
  {
   "cell_type": "code",
   "execution_count": 8,
   "metadata": {
    "scrolled": false
   },
   "outputs": [
    {
     "data": {
      "text/plain": [
       "Wednesday    6154\n",
       "Monday       5149\n",
       "Friday       5064\n",
       "Tuesday      4925\n",
       "Sunday       4563\n",
       "Saturday     4442\n",
       "Tue          3636\n",
       "Thursday     3493\n",
       "Mon          2722\n",
       "Wed          2567\n",
       "Sat          2212\n",
       "Thur         2069\n",
       "Fri          2002\n",
       "Sun          1002\n",
       "Name: x3, dtype: int64"
      ]
     },
     "execution_count": 8,
     "metadata": {},
     "output_type": "execute_result"
    }
   ],
   "source": [
    "Main.x3.value_counts(dropna=False)"
   ]
  },
  {
   "cell_type": "code",
   "execution_count": 9,
   "metadata": {},
   "outputs": [],
   "source": [
    "Main.x3=Train.x3.replace(['Monday', 'Tuesday', 'Wednesday', 'Thursday','Friday','Saturday','Sunday'], \n",
    "                 ['Mon', 'Tue', 'Wed', 'Thur', 'Fri', 'Sat', 'Sun'])"
   ]
  },
  {
   "cell_type": "code",
   "execution_count": 10,
   "metadata": {
    "scrolled": true
   },
   "outputs": [
    {
     "data": {
      "text/plain": [
       "Wed     8708\n",
       "Tue     8557\n",
       "Mon     7954\n",
       "Fri     7012\n",
       "Sat     6734\n",
       "Thur    5546\n",
       "Sun     5489\n",
       "Name: x3, dtype: int64"
      ]
     },
     "execution_count": 10,
     "metadata": {},
     "output_type": "execute_result"
    }
   ],
   "source": [
    "Main.x3.value_counts(dropna=False)"
   ]
  },
  {
   "cell_type": "markdown",
   "metadata": {},
   "source": [
    "Convert X7 to float"
   ]
  },
  {
   "cell_type": "code",
   "execution_count": 11,
   "metadata": {},
   "outputs": [],
   "source": [
    "Main['x7'] = Main['x7'].str.rstrip('%').astype('float') / 100.0"
   ]
  },
  {
   "cell_type": "markdown",
   "metadata": {},
   "source": [
    "Remove '$' from x19 and convert to float"
   ]
  },
  {
   "cell_type": "code",
   "execution_count": 12,
   "metadata": {
    "scrolled": true
   },
   "outputs": [],
   "source": [
    "Main['x19'] = Main['x19'].str.replace(',', '').str.replace('$', '').astype('float')"
   ]
  },
  {
   "cell_type": "markdown",
   "metadata": {},
   "source": [
    "Explore X24 and fill null with 'unknown_gender'"
   ]
  },
  {
   "cell_type": "code",
   "execution_count": 13,
   "metadata": {
    "scrolled": false
   },
   "outputs": [
    {
     "data": {
      "text/plain": [
       "female    22690\n",
       "male      22485\n",
       "NaN        4825\n",
       "Name: x24, dtype: int64"
      ]
     },
     "execution_count": 13,
     "metadata": {},
     "output_type": "execute_result"
    }
   ],
   "source": [
    "Main.x24.value_counts(dropna=False)"
   ]
  },
  {
   "cell_type": "code",
   "execution_count": 14,
   "metadata": {
    "scrolled": true
   },
   "outputs": [],
   "source": [
    "Main.x24=Main.x24.fillna('unknown_gender')"
   ]
  },
  {
   "cell_type": "code",
   "execution_count": 15,
   "metadata": {},
   "outputs": [
    {
     "data": {
      "text/plain": [
       "female            22690\n",
       "male              22485\n",
       "unknown_gender     4825\n",
       "Name: x24, dtype: int64"
      ]
     },
     "execution_count": 15,
     "metadata": {},
     "output_type": "execute_result"
    }
   ],
   "source": [
    "Main.x24.value_counts(dropna=False)"
   ]
  },
  {
   "cell_type": "markdown",
   "metadata": {},
   "source": [
    "Explore X31 and replace no with 0, yes with 1"
   ]
  },
  {
   "cell_type": "code",
   "execution_count": 16,
   "metadata": {
    "scrolled": true
   },
   "outputs": [
    {
     "data": {
      "text/plain": [
       "no     42522\n",
       "yes     7478\n",
       "Name: x31, dtype: int64"
      ]
     },
     "execution_count": 16,
     "metadata": {},
     "output_type": "execute_result"
    }
   ],
   "source": [
    "Main.x31.value_counts(dropna=False)"
   ]
  },
  {
   "cell_type": "code",
   "execution_count": 17,
   "metadata": {},
   "outputs": [],
   "source": [
    "Main.x31=Train.x31.replace(['no', 'yes'], [ 0, 1])"
   ]
  },
  {
   "cell_type": "code",
   "execution_count": 18,
   "metadata": {},
   "outputs": [
    {
     "data": {
      "text/plain": [
       "0    42543\n",
       "1     7457\n",
       "Name: x31, dtype: int64"
      ]
     },
     "execution_count": 18,
     "metadata": {},
     "output_type": "execute_result"
    }
   ],
   "source": [
    "Main.x31.value_counts(dropna=False)"
   ]
  },
  {
   "cell_type": "markdown",
   "metadata": {},
   "source": [
    "Explore X33 and fill null with 'unknown_state'"
   ]
  },
  {
   "cell_type": "code",
   "execution_count": 19,
   "metadata": {
    "scrolled": false
   },
   "outputs": [
    {
     "data": {
      "text/plain": [
       "NaN               8941\n",
       "California        4234\n",
       "Texas             2845\n",
       "Florida           2277\n",
       "New York          2176\n",
       "Pennsylvania      1554\n",
       "Illinois          1546\n",
       "Ohio              1392\n",
       "Michigan          1227\n",
       "Georgia           1154\n",
       "North Carolina    1148\n",
       "New Jersey        1074\n",
       "Virginia           979\n",
       "Washington         939\n",
       "Tennessee          847\n",
       "Indiana            836\n",
       "Massachusetts      816\n",
       "Arizona            789\n",
       "Missouri           787\n",
       "Wisconsin          780\n",
       "Minnesota          759\n",
       "Maryland           720\n",
       "Alabama            703\n",
       "Colorado           690\n",
       "South Carolina     623\n",
       "Louisiana          620\n",
       "Kentucky           592\n",
       "Oregon             554\n",
       "Oklahoma           550\n",
       "Connecticut        522\n",
       "Utah               479\n",
       "Kansas             465\n",
       "Nevada             461\n",
       "Arkansas           459\n",
       "Mississippi        446\n",
       "Iowa               442\n",
       "Nebraska           400\n",
       "New Mexico         395\n",
       "West Virginia      370\n",
       "Idaho              344\n",
       "Hawaii             328\n",
       "New Hampshire      304\n",
       "Rhode Island       303\n",
       "Maine              301\n",
       "Vermont            236\n",
       "Montana            235\n",
       "South Dakota       233\n",
       "Wyoming            230\n",
       "DC                 230\n",
       "North Dakota       229\n",
       "Alaska             221\n",
       "Delaware           215\n",
       "Name: x33, dtype: int64"
      ]
     },
     "execution_count": 19,
     "metadata": {},
     "output_type": "execute_result"
    }
   ],
   "source": [
    "Main.x33.value_counts(dropna=False)"
   ]
  },
  {
   "cell_type": "code",
   "execution_count": 20,
   "metadata": {},
   "outputs": [],
   "source": [
    "Main.x33=Main.x33.fillna('unknown_state')"
   ]
  },
  {
   "cell_type": "code",
   "execution_count": 21,
   "metadata": {
    "scrolled": true
   },
   "outputs": [
    {
     "data": {
      "text/plain": [
       "unknown_state     8941\n",
       "California        4234\n",
       "Texas             2845\n",
       "Florida           2277\n",
       "New York          2176\n",
       "Pennsylvania      1554\n",
       "Illinois          1546\n",
       "Ohio              1392\n",
       "Michigan          1227\n",
       "Georgia           1154\n",
       "North Carolina    1148\n",
       "New Jersey        1074\n",
       "Virginia           979\n",
       "Washington         939\n",
       "Tennessee          847\n",
       "Indiana            836\n",
       "Massachusetts      816\n",
       "Arizona            789\n",
       "Missouri           787\n",
       "Wisconsin          780\n",
       "Minnesota          759\n",
       "Maryland           720\n",
       "Alabama            703\n",
       "Colorado           690\n",
       "South Carolina     623\n",
       "Louisiana          620\n",
       "Kentucky           592\n",
       "Oregon             554\n",
       "Oklahoma           550\n",
       "Connecticut        522\n",
       "Utah               479\n",
       "Kansas             465\n",
       "Nevada             461\n",
       "Arkansas           459\n",
       "Mississippi        446\n",
       "Iowa               442\n",
       "Nebraska           400\n",
       "New Mexico         395\n",
       "West Virginia      370\n",
       "Idaho              344\n",
       "Hawaii             328\n",
       "New Hampshire      304\n",
       "Rhode Island       303\n",
       "Maine              301\n",
       "Vermont            236\n",
       "Montana            235\n",
       "South Dakota       233\n",
       "Wyoming            230\n",
       "DC                 230\n",
       "North Dakota       229\n",
       "Alaska             221\n",
       "Delaware           215\n",
       "Name: x33, dtype: int64"
      ]
     },
     "execution_count": 21,
     "metadata": {},
     "output_type": "execute_result"
    }
   ],
   "source": [
    "Main.x33.value_counts(dropna=False)"
   ]
  },
  {
   "cell_type": "markdown",
   "metadata": {},
   "source": [
    "Explore x39. That column contains only one value. So, the column can be deleted."
   ]
  },
  {
   "cell_type": "code",
   "execution_count": 22,
   "metadata": {
    "scrolled": false
   },
   "outputs": [
    {
     "data": {
      "text/plain": [
       "5-10 miles    50000\n",
       "Name: x39, dtype: int64"
      ]
     },
     "execution_count": 22,
     "metadata": {},
     "output_type": "execute_result"
    }
   ],
   "source": [
    "Main.x39.value_counts()"
   ]
  },
  {
   "cell_type": "code",
   "execution_count": 23,
   "metadata": {},
   "outputs": [],
   "source": [
    "Main = Main.drop(['x39'], axis=1)"
   ]
  },
  {
   "cell_type": "markdown",
   "metadata": {},
   "source": [
    "Explore X60"
   ]
  },
  {
   "cell_type": "code",
   "execution_count": 24,
   "metadata": {
    "scrolled": false
   },
   "outputs": [
    {
     "data": {
      "text/plain": [
       "December     8136\n",
       "January      7922\n",
       "July         7912\n",
       "August       7907\n",
       "June         1272\n",
       "September    1245\n",
       "February     1213\n",
       "November     1043\n",
       "April         951\n",
       "March         807\n",
       "May           799\n",
       "October       793\n",
       "Name: x60, dtype: int64"
      ]
     },
     "execution_count": 24,
     "metadata": {},
     "output_type": "execute_result"
    }
   ],
   "source": [
    "Train.x60.value_counts(dropna=False)"
   ]
  },
  {
   "cell_type": "markdown",
   "metadata": {},
   "source": [
    "Explore X65"
   ]
  },
  {
   "cell_type": "code",
   "execution_count": 25,
   "metadata": {
    "scrolled": false
   },
   "outputs": [
    {
     "data": {
      "text/plain": [
       "progressive    10877\n",
       "allstate       10859\n",
       "esurance        7144\n",
       "farmers         5600\n",
       "geico           5520\n",
       "Name: x65, dtype: int64"
      ]
     },
     "execution_count": 25,
     "metadata": {},
     "output_type": "execute_result"
    }
   ],
   "source": [
    "Train.x65.value_counts(dropna=False)"
   ]
  },
  {
   "cell_type": "markdown",
   "metadata": {},
   "source": [
    "Explore X77 and fill null with 'unknown_vendor'"
   ]
  },
  {
   "cell_type": "code",
   "execution_count": 26,
   "metadata": {
    "scrolled": true
   },
   "outputs": [
    {
     "data": {
      "text/plain": [
       "NaN          9257\n",
       "ford         9005\n",
       "subaru       5047\n",
       "chevrolet    5011\n",
       "mercedes     4494\n",
       "toyota       3555\n",
       "nissan       2575\n",
       "buick        1056\n",
       "Name: x77, dtype: int64"
      ]
     },
     "execution_count": 26,
     "metadata": {},
     "output_type": "execute_result"
    }
   ],
   "source": [
    "Train.x77.value_counts(dropna=False)"
   ]
  },
  {
   "cell_type": "code",
   "execution_count": 27,
   "metadata": {},
   "outputs": [],
   "source": [
    "Main.x77=Main.x77.fillna('unknown_vendor')"
   ]
  },
  {
   "cell_type": "markdown",
   "metadata": {},
   "source": [
    "Explore X93. Replace 'no' with 0, 'yes' with 1"
   ]
  },
  {
   "cell_type": "code",
   "execution_count": 28,
   "metadata": {
    "scrolled": true
   },
   "outputs": [
    {
     "data": {
      "text/plain": [
       "no     44354\n",
       "yes     5646\n",
       "Name: x93, dtype: int64"
      ]
     },
     "execution_count": 28,
     "metadata": {},
     "output_type": "execute_result"
    }
   ],
   "source": [
    "Main.x93.value_counts(dropna=False)"
   ]
  },
  {
   "cell_type": "code",
   "execution_count": 29,
   "metadata": {},
   "outputs": [],
   "source": [
    "Main.x93=Train.x93.replace(['no', 'yes'], [ 0, 1])"
   ]
  },
  {
   "cell_type": "code",
   "execution_count": 30,
   "metadata": {},
   "outputs": [
    {
     "data": {
      "text/plain": [
       "0    44374\n",
       "1     5626\n",
       "Name: x93, dtype: int64"
      ]
     },
     "execution_count": 30,
     "metadata": {},
     "output_type": "execute_result"
    }
   ],
   "source": [
    "Main.x93.value_counts(dropna=False)"
   ]
  },
  {
   "cell_type": "markdown",
   "metadata": {},
   "source": [
    "Explore X99. Replace 'yes' with 1. Fill NaN with 0"
   ]
  },
  {
   "cell_type": "code",
   "execution_count": 31,
   "metadata": {
    "scrolled": true
   },
   "outputs": [
    {
     "data": {
      "text/plain": [
       "yes    33864\n",
       "NaN    16136\n",
       "Name: x99, dtype: int64"
      ]
     },
     "execution_count": 31,
     "metadata": {},
     "output_type": "execute_result"
    }
   ],
   "source": [
    "Main.x99.value_counts(dropna=False)"
   ]
  },
  {
   "cell_type": "code",
   "execution_count": 32,
   "metadata": {},
   "outputs": [],
   "source": [
    "Main.x99=Main.x99.replace(['yes'], [1])\n",
    "Main.x99=Main.x99.fillna(0)"
   ]
  },
  {
   "cell_type": "code",
   "execution_count": 33,
   "metadata": {},
   "outputs": [
    {
     "data": {
      "text/plain": [
       "1.0    33864\n",
       "0.0    16136\n",
       "Name: x99, dtype: int64"
      ]
     },
     "execution_count": 33,
     "metadata": {},
     "output_type": "execute_result"
    }
   ],
   "source": [
    "Main.x99.value_counts(dropna=False)"
   ]
  },
  {
   "cell_type": "code",
   "execution_count": 34,
   "metadata": {
    "scrolled": true
   },
   "outputs": [
    {
     "name": "stdout",
     "output_type": "stream",
     "text": [
      "<class 'pandas.core.frame.DataFrame'>\n",
      "Int64Index: 50000 entries, 0 to 39999\n",
      "Data columns (total 7 columns):\n",
      " #   Column  Non-Null Count  Dtype \n",
      "---  ------  --------------  ----- \n",
      " 0   x3      50000 non-null  object\n",
      " 1   x24     50000 non-null  object\n",
      " 2   x33     50000 non-null  object\n",
      " 3   x60     50000 non-null  object\n",
      " 4   x65     50000 non-null  object\n",
      " 5   x77     50000 non-null  object\n",
      " 6   ind     50000 non-null  object\n",
      "dtypes: object(7)\n",
      "memory usage: 3.1+ MB\n"
     ]
    }
   ],
   "source": [
    "#check the object features with null\n",
    "Main.loc[:, Main.dtypes == np.object].info(null_counts='True')"
   ]
  },
  {
   "cell_type": "code",
   "execution_count": 35,
   "metadata": {
    "scrolled": true
   },
   "outputs": [
    {
     "data": {
      "text/html": [
       "<div>\n",
       "<style scoped>\n",
       "    .dataframe tbody tr th:only-of-type {\n",
       "        vertical-align: middle;\n",
       "    }\n",
       "\n",
       "    .dataframe tbody tr th {\n",
       "        vertical-align: top;\n",
       "    }\n",
       "\n",
       "    .dataframe thead th {\n",
       "        text-align: right;\n",
       "    }\n",
       "</style>\n",
       "<table border=\"1\" class=\"dataframe\">\n",
       "  <thead>\n",
       "    <tr style=\"text-align: right;\">\n",
       "      <th></th>\n",
       "      <th>x3</th>\n",
       "      <th>x24</th>\n",
       "      <th>x33</th>\n",
       "      <th>x60</th>\n",
       "      <th>x65</th>\n",
       "      <th>x77</th>\n",
       "      <th>ind</th>\n",
       "    </tr>\n",
       "  </thead>\n",
       "  <tbody>\n",
       "    <tr>\n",
       "      <th>0</th>\n",
       "      <td>Wed</td>\n",
       "      <td>unknown_gender</td>\n",
       "      <td>Florida</td>\n",
       "      <td>May</td>\n",
       "      <td>progressive</td>\n",
       "      <td>mercedes</td>\n",
       "      <td>test</td>\n",
       "    </tr>\n",
       "    <tr>\n",
       "      <th>1</th>\n",
       "      <td>Fri</td>\n",
       "      <td>female</td>\n",
       "      <td>North Carolina</td>\n",
       "      <td>July</td>\n",
       "      <td>allstate</td>\n",
       "      <td>ford</td>\n",
       "      <td>test</td>\n",
       "    </tr>\n",
       "    <tr>\n",
       "      <th>2</th>\n",
       "      <td>Thur</td>\n",
       "      <td>male</td>\n",
       "      <td>unknown_state</td>\n",
       "      <td>January</td>\n",
       "      <td>progressive</td>\n",
       "      <td>unknown_vendor</td>\n",
       "      <td>test</td>\n",
       "    </tr>\n",
       "    <tr>\n",
       "      <th>3</th>\n",
       "      <td>Tue</td>\n",
       "      <td>female</td>\n",
       "      <td>Mississippi</td>\n",
       "      <td>July</td>\n",
       "      <td>geico</td>\n",
       "      <td>subaru</td>\n",
       "      <td>test</td>\n",
       "    </tr>\n",
       "    <tr>\n",
       "      <th>4</th>\n",
       "      <td>Sun</td>\n",
       "      <td>female</td>\n",
       "      <td>Georgia</td>\n",
       "      <td>January</td>\n",
       "      <td>progressive</td>\n",
       "      <td>ford</td>\n",
       "      <td>test</td>\n",
       "    </tr>\n",
       "  </tbody>\n",
       "</table>\n",
       "</div>"
      ],
      "text/plain": [
       "     x3             x24             x33      x60          x65             x77  \\\n",
       "0   Wed  unknown_gender         Florida      May  progressive        mercedes   \n",
       "1   Fri          female  North Carolina     July     allstate            ford   \n",
       "2  Thur            male   unknown_state  January  progressive  unknown_vendor   \n",
       "3   Tue          female     Mississippi     July        geico          subaru   \n",
       "4   Sun          female         Georgia  January  progressive            ford   \n",
       "\n",
       "    ind  \n",
       "0  test  \n",
       "1  test  \n",
       "2  test  \n",
       "3  test  \n",
       "4  test  "
      ]
     },
     "execution_count": 35,
     "metadata": {},
     "output_type": "execute_result"
    }
   ],
   "source": [
    "#check the new object features\n",
    "Main.loc[:, Main.dtypes == np.object].head()"
   ]
  },
  {
   "cell_type": "code",
   "execution_count": 36,
   "metadata": {
    "scrolled": true
   },
   "outputs": [
    {
     "name": "stdout",
     "output_type": "stream",
     "text": [
      "<class 'pandas.core.frame.DataFrame'>\n",
      "Int64Index: 50000 entries, 0 to 39999\n",
      "Columns: 101 entries, x1 to y\n",
      "dtypes: float64(90), int64(4), object(7)\n",
      "memory usage: 38.9+ MB\n"
     ]
    }
   ],
   "source": [
    "Main.info(null_counts='True')"
   ]
  },
  {
   "cell_type": "code",
   "execution_count": 37,
   "metadata": {},
   "outputs": [
    {
     "data": {
      "text/html": [
       "<div>\n",
       "<style scoped>\n",
       "    .dataframe tbody tr th:only-of-type {\n",
       "        vertical-align: middle;\n",
       "    }\n",
       "\n",
       "    .dataframe tbody tr th {\n",
       "        vertical-align: top;\n",
       "    }\n",
       "\n",
       "    .dataframe thead th {\n",
       "        text-align: right;\n",
       "    }\n",
       "</style>\n",
       "<table border=\"1\" class=\"dataframe\">\n",
       "  <thead>\n",
       "    <tr style=\"text-align: right;\">\n",
       "      <th></th>\n",
       "      <th>x31</th>\n",
       "      <th>x59</th>\n",
       "      <th>x93</th>\n",
       "      <th>x98</th>\n",
       "    </tr>\n",
       "  </thead>\n",
       "  <tbody>\n",
       "    <tr>\n",
       "      <th>0</th>\n",
       "      <td>0</td>\n",
       "      <td>0</td>\n",
       "      <td>0</td>\n",
       "      <td>0</td>\n",
       "    </tr>\n",
       "    <tr>\n",
       "      <th>1</th>\n",
       "      <td>0</td>\n",
       "      <td>0</td>\n",
       "      <td>0</td>\n",
       "      <td>1</td>\n",
       "    </tr>\n",
       "    <tr>\n",
       "      <th>2</th>\n",
       "      <td>0</td>\n",
       "      <td>0</td>\n",
       "      <td>0</td>\n",
       "      <td>0</td>\n",
       "    </tr>\n",
       "    <tr>\n",
       "      <th>3</th>\n",
       "      <td>0</td>\n",
       "      <td>0</td>\n",
       "      <td>0</td>\n",
       "      <td>1</td>\n",
       "    </tr>\n",
       "    <tr>\n",
       "      <th>4</th>\n",
       "      <td>1</td>\n",
       "      <td>0</td>\n",
       "      <td>1</td>\n",
       "      <td>1</td>\n",
       "    </tr>\n",
       "  </tbody>\n",
       "</table>\n",
       "</div>"
      ],
      "text/plain": [
       "   x31  x59  x93  x98\n",
       "0    0    0    0    0\n",
       "1    0    0    0    1\n",
       "2    0    0    0    0\n",
       "3    0    0    0    1\n",
       "4    1    0    1    1"
      ]
     },
     "execution_count": 37,
     "metadata": {},
     "output_type": "execute_result"
    }
   ],
   "source": [
    "#check the new object features\n",
    "Main.loc[:, Main.dtypes == np.int64].head()"
   ]
  },
  {
   "cell_type": "markdown",
   "metadata": {},
   "source": [
    "## 1.2 Identify columns that may need further transformation:\n",
    "\n",
    "Constant features (note: Binary 1/0, 'ind' test/train and 'y'. no transformation needed)\n",
    "\n",
    "Categorical features for one-hot encoding (that are not already binary or one-hot encoded)\n",
    "\n",
    "Numerical features"
   ]
  },
  {
   "cell_type": "code",
   "execution_count": 38,
   "metadata": {
    "scrolled": true
   },
   "outputs": [],
   "source": [
    "all_feat = list(Main.columns.values)"
   ]
  },
  {
   "cell_type": "code",
   "execution_count": 39,
   "metadata": {},
   "outputs": [],
   "source": [
    "#Constant features\n",
    "con_feat = ['x31','x59','x93','x98','x99','ind','y'] "
   ]
  },
  {
   "cell_type": "code",
   "execution_count": 40,
   "metadata": {},
   "outputs": [],
   "source": [
    "# Categorical features that are *not* already binary or one-hot encoded\n",
    "cat_feat = ['x3', 'x24', 'x33', 'x60','x65', 'x77']"
   ]
  },
  {
   "cell_type": "code",
   "execution_count": 41,
   "metadata": {},
   "outputs": [],
   "source": [
    "non_num_feat = con_feat + cat_feat"
   ]
  },
  {
   "cell_type": "code",
   "execution_count": 42,
   "metadata": {
    "scrolled": false
   },
   "outputs": [],
   "source": [
    "#Create Numerical featureas using all_features-(con_feat+cat_feat)\n",
    "non_num_feat = con_feat + cat_feat\n",
    "num_feat = [x for x in all_feat if (x not in non_num_feat)]"
   ]
  },
  {
   "cell_type": "markdown",
   "metadata": {},
   "source": [
    "Check length to make sure all the features are there"
   ]
  },
  {
   "cell_type": "code",
   "execution_count": 43,
   "metadata": {},
   "outputs": [
    {
     "data": {
      "text/plain": [
       "101"
      ]
     },
     "execution_count": 43,
     "metadata": {},
     "output_type": "execute_result"
    }
   ],
   "source": [
    "len(all_feat)"
   ]
  },
  {
   "cell_type": "code",
   "execution_count": 44,
   "metadata": {},
   "outputs": [
    {
     "data": {
      "text/plain": [
       "7"
      ]
     },
     "execution_count": 44,
     "metadata": {},
     "output_type": "execute_result"
    }
   ],
   "source": [
    "len(con_feat)"
   ]
  },
  {
   "cell_type": "code",
   "execution_count": 45,
   "metadata": {},
   "outputs": [
    {
     "data": {
      "text/plain": [
       "6"
      ]
     },
     "execution_count": 45,
     "metadata": {},
     "output_type": "execute_result"
    }
   ],
   "source": [
    "len(cat_feat)"
   ]
  },
  {
   "cell_type": "code",
   "execution_count": 46,
   "metadata": {},
   "outputs": [
    {
     "data": {
      "text/plain": [
       "88"
      ]
     },
     "execution_count": 46,
     "metadata": {},
     "output_type": "execute_result"
    }
   ],
   "source": [
    "len(num_feat)"
   ]
  },
  {
   "cell_type": "markdown",
   "metadata": {
    "collapsed": true
   },
   "source": [
    "## 1.3 Prepare the data transformation pipeline"
   ]
  },
  {
   "cell_type": "code",
   "execution_count": 47,
   "metadata": {},
   "outputs": [],
   "source": [
    "from sklearn.preprocessing import OneHotEncoder, MinMaxScaler #, StandardScaler\n",
    "from sklearn.compose import ColumnTransformer"
   ]
  },
  {
   "cell_type": "code",
   "execution_count": 48,
   "metadata": {},
   "outputs": [],
   "source": [
    "# Define custom transformer: NoTransformer\n",
    "# Just returns the feature without transformation\n",
    "\n",
    "from sklearn.base import BaseEstimator, TransformerMixin\n",
    "\n",
    "class NoTransformer(BaseEstimator, TransformerMixin):\n",
    "    def fit(self, X, y=None):\n",
    "        return self\n",
    "    def transform(self, X):\n",
    "        assert isinstance(X, pd.DataFrame)\n",
    "        return X"
   ]
  },
  {
   "cell_type": "code",
   "execution_count": 49,
   "metadata": {},
   "outputs": [],
   "source": [
    "# Define another custom transformer: CapFloorTransformer\n",
    "# Provides caps and floors for numerical features\n",
    "\n",
    "class CapFloorTransformer(BaseEstimator, TransformerMixin):\n",
    "    def __init__(self, num_feature_list):\n",
    "        self.num_feature_list = num_feature_list\n",
    "    def fit(self, X, y=None):\n",
    "        return self\n",
    "    def transform(self, X):\n",
    "        X_ = X.copy()\n",
    "        for feature in self.num_feature_list:\n",
    "            X_[feature] = np.where(X_[feature] < X_[feature].quantile(0.0005),\n",
    "                                   X_[feature].quantile(0.0005), X_[feature])\n",
    "            X_[feature] = np.where(X_[feature] > X_[feature].quantile(0.9995),\n",
    "                                   X_[feature].quantile(0.9995), X_[feature])\n",
    "        return X_"
   ]
  },
  {
   "cell_type": "code",
   "execution_count": 50,
   "metadata": {},
   "outputs": [],
   "source": [
    "# Define pipeline for numerical features\n",
    "\n",
    "from sklearn.pipeline import Pipeline\n",
    "\n",
    "num_pipeline = Pipeline([\n",
    "    ('cap_floor', CapFloorTransformer(num_feature_list=num_feat)),\n",
    "    ('min_max', MinMaxScaler())\n",
    "])"
   ]
  },
  {
   "cell_type": "markdown",
   "metadata": {},
   "source": [
    "#### Define data transformation pipeline"
   ]
  },
  {
   "cell_type": "code",
   "execution_count": 51,
   "metadata": {},
   "outputs": [],
   "source": [
    "full_pipeline = ColumnTransformer([\n",
    "    ('no_trans', NoTransformer(), con_feat),\n",
    "    ('categorical', OneHotEncoder(), cat_feat),\n",
    "    ('numerical', num_pipeline, num_feat)\n",
    "])"
   ]
  },
  {
   "cell_type": "markdown",
   "metadata": {},
   "source": [
    "## 1.4 Run the pipeline to fit and transform Main"
   ]
  },
  {
   "cell_type": "code",
   "execution_count": 52,
   "metadata": {},
   "outputs": [
    {
     "name": "stdout",
     "output_type": "stream",
     "text": [
      "CPU times: user 1.84 s, sys: 351 ms, total: 2.19 s\n",
      "Wall time: 972 ms\n"
     ]
    }
   ],
   "source": [
    "%%time\n",
    "\n",
    "# Run pipeline fit_transform -- takes ~ 90 sec\n",
    "Main_prepared = full_pipeline.fit_transform(Main)"
   ]
  },
  {
   "cell_type": "code",
   "execution_count": 53,
   "metadata": {},
   "outputs": [
    {
     "data": {
      "text/plain": [
       "(50000, 182)"
      ]
     },
     "execution_count": 53,
     "metadata": {},
     "output_type": "execute_result"
    }
   ],
   "source": [
    "Main_prepared.shape"
   ]
  },
  {
   "cell_type": "code",
   "execution_count": 54,
   "metadata": {},
   "outputs": [
    {
     "data": {
      "text/plain": [
       "array([[0, 0, 0, ..., 0.5389060542036326, 0.2954983093304213,\n",
       "        0.3048764763602221],\n",
       "       [0, 0, 0, ..., 0.2772212679288337, 0.6879797078577634,\n",
       "        0.4520051258250257],\n",
       "       [0, 0, 0, ..., 0.397261459526135, 0.620510778610277,\n",
       "        0.3343913177068121],\n",
       "       ...,\n",
       "       [1, 0, 0, ..., 0.5141453972092866, 0.3229301108227761,\n",
       "        0.49331053805603675],\n",
       "       [0, 0, 0, ..., 0.21207147833186046, 0.3965486900500568,\n",
       "        0.7687971899910235],\n",
       "       [0, 1, 0, ..., 0.06814300929219064, 0.6878870817949392,\n",
       "        0.7943314687075262]], dtype=object)"
      ]
     },
     "execution_count": 54,
     "metadata": {},
     "output_type": "execute_result"
    }
   ],
   "source": [
    "Main_prepared"
   ]
  },
  {
   "cell_type": "markdown",
   "metadata": {},
   "source": [
    "## 1.5 Store prepared data in a pandas DataFrame:\n",
    "\n",
    "Find column names for transformed data (including one-hot transformed features)\n",
    "\n",
    "Find transformed column names"
   ]
  },
  {
   "cell_type": "code",
   "execution_count": 55,
   "metadata": {},
   "outputs": [],
   "source": [
    "# Get column names for transformed df:\n",
    "trans_col_names = []\n",
    "\n",
    "for i in range(len(full_pipeline.transformers_)):\n",
    "    trans = full_pipeline.transformers_[i][1]\n",
    "    \n",
    "    # Check if transformer is OHE instance\n",
    "    if isinstance(trans, OneHotEncoder):\n",
    "        \n",
    "        # Create list of feature names for OHE transformer\n",
    "        # Use .get_feature_names() from transformers_ and remove 'x0_' etc. from feature names by using only [3:]\n",
    "        feat_names = [feat_name[3:] for feat_name in trans.get_feature_names()]\n",
    "    else:\n",
    "        \n",
    "        # For non-OHE instances, access the feature names in full_pipeline.transformers_[i][2]\n",
    "        feat_names = [feat_name for feat_name in full_pipeline.transformers_[i][2]]\n",
    "        \n",
    "    trans_col_names += feat_names"
   ]
  },
  {
   "cell_type": "code",
   "execution_count": 56,
   "metadata": {},
   "outputs": [
    {
     "data": {
      "text/plain": [
       "182"
      ]
     },
     "execution_count": 56,
     "metadata": {},
     "output_type": "execute_result"
    }
   ],
   "source": [
    "len(trans_col_names)"
   ]
  },
  {
   "cell_type": "markdown",
   "metadata": {},
   "source": [
    "Create dataframe"
   ]
  },
  {
   "cell_type": "code",
   "execution_count": 57,
   "metadata": {},
   "outputs": [],
   "source": [
    "# Create dataframe\n",
    "Main_transformed = pd.DataFrame(Main_prepared, columns=trans_col_names)"
   ]
  },
  {
   "cell_type": "code",
   "execution_count": 58,
   "metadata": {},
   "outputs": [
    {
     "data": {
      "text/html": [
       "<div>\n",
       "<style scoped>\n",
       "    .dataframe tbody tr th:only-of-type {\n",
       "        vertical-align: middle;\n",
       "    }\n",
       "\n",
       "    .dataframe tbody tr th {\n",
       "        vertical-align: top;\n",
       "    }\n",
       "\n",
       "    .dataframe thead th {\n",
       "        text-align: right;\n",
       "    }\n",
       "</style>\n",
       "<table border=\"1\" class=\"dataframe\">\n",
       "  <thead>\n",
       "    <tr style=\"text-align: right;\">\n",
       "      <th></th>\n",
       "      <th>x31</th>\n",
       "      <th>x59</th>\n",
       "      <th>x93</th>\n",
       "      <th>x98</th>\n",
       "      <th>x99</th>\n",
       "      <th>ind</th>\n",
       "      <th>y</th>\n",
       "      <th>Fri</th>\n",
       "      <th>Mon</th>\n",
       "      <th>Sat</th>\n",
       "      <th>...</th>\n",
       "      <th>x88</th>\n",
       "      <th>x89</th>\n",
       "      <th>x90</th>\n",
       "      <th>x91</th>\n",
       "      <th>x92</th>\n",
       "      <th>x94</th>\n",
       "      <th>x95</th>\n",
       "      <th>x96</th>\n",
       "      <th>x97</th>\n",
       "      <th>x100</th>\n",
       "    </tr>\n",
       "  </thead>\n",
       "  <tbody>\n",
       "    <tr>\n",
       "      <th>0</th>\n",
       "      <td>0</td>\n",
       "      <td>0</td>\n",
       "      <td>0</td>\n",
       "      <td>0</td>\n",
       "      <td>0.0</td>\n",
       "      <td>test</td>\n",
       "      <td>NaN</td>\n",
       "      <td>0.0</td>\n",
       "      <td>0.0</td>\n",
       "      <td>0.0</td>\n",
       "      <td>...</td>\n",
       "      <td>0.866722</td>\n",
       "      <td>0.217677</td>\n",
       "      <td>0.891929</td>\n",
       "      <td>NaN</td>\n",
       "      <td>0.907117</td>\n",
       "      <td>0.355609</td>\n",
       "      <td>0.531887</td>\n",
       "      <td>0.538906</td>\n",
       "      <td>0.295498</td>\n",
       "      <td>0.304876</td>\n",
       "    </tr>\n",
       "    <tr>\n",
       "      <th>1</th>\n",
       "      <td>0</td>\n",
       "      <td>0</td>\n",
       "      <td>0</td>\n",
       "      <td>1</td>\n",
       "      <td>1.0</td>\n",
       "      <td>test</td>\n",
       "      <td>NaN</td>\n",
       "      <td>1.0</td>\n",
       "      <td>0.0</td>\n",
       "      <td>0.0</td>\n",
       "      <td>...</td>\n",
       "      <td>0.447324</td>\n",
       "      <td>0.004173</td>\n",
       "      <td>0.756481</td>\n",
       "      <td>0.416633</td>\n",
       "      <td>0.591244</td>\n",
       "      <td>0.47562</td>\n",
       "      <td>NaN</td>\n",
       "      <td>0.277221</td>\n",
       "      <td>0.68798</td>\n",
       "      <td>0.452005</td>\n",
       "    </tr>\n",
       "    <tr>\n",
       "      <th>2</th>\n",
       "      <td>0</td>\n",
       "      <td>0</td>\n",
       "      <td>0</td>\n",
       "      <td>0</td>\n",
       "      <td>1.0</td>\n",
       "      <td>test</td>\n",
       "      <td>NaN</td>\n",
       "      <td>0.0</td>\n",
       "      <td>0.0</td>\n",
       "      <td>0.0</td>\n",
       "      <td>...</td>\n",
       "      <td>0.638263</td>\n",
       "      <td>NaN</td>\n",
       "      <td>0.700983</td>\n",
       "      <td>0.620915</td>\n",
       "      <td>0.785095</td>\n",
       "      <td>0.251167</td>\n",
       "      <td>0.334468</td>\n",
       "      <td>0.397261</td>\n",
       "      <td>0.620511</td>\n",
       "      <td>0.334391</td>\n",
       "    </tr>\n",
       "    <tr>\n",
       "      <th>3</th>\n",
       "      <td>0</td>\n",
       "      <td>0</td>\n",
       "      <td>0</td>\n",
       "      <td>1</td>\n",
       "      <td>0.0</td>\n",
       "      <td>test</td>\n",
       "      <td>NaN</td>\n",
       "      <td>0.0</td>\n",
       "      <td>0.0</td>\n",
       "      <td>0.0</td>\n",
       "      <td>...</td>\n",
       "      <td>0.469652</td>\n",
       "      <td>0.483384</td>\n",
       "      <td>0.634022</td>\n",
       "      <td>0.574792</td>\n",
       "      <td>0.392599</td>\n",
       "      <td>0.307966</td>\n",
       "      <td>0.628135</td>\n",
       "      <td>0.23615</td>\n",
       "      <td>0.539577</td>\n",
       "      <td>0.50276</td>\n",
       "    </tr>\n",
       "    <tr>\n",
       "      <th>4</th>\n",
       "      <td>1</td>\n",
       "      <td>0</td>\n",
       "      <td>1</td>\n",
       "      <td>1</td>\n",
       "      <td>1.0</td>\n",
       "      <td>test</td>\n",
       "      <td>NaN</td>\n",
       "      <td>0.0</td>\n",
       "      <td>0.0</td>\n",
       "      <td>0.0</td>\n",
       "      <td>...</td>\n",
       "      <td>0.532595</td>\n",
       "      <td>0.15618</td>\n",
       "      <td>0.329675</td>\n",
       "      <td>0.418049</td>\n",
       "      <td>0.378916</td>\n",
       "      <td>0.454908</td>\n",
       "      <td>NaN</td>\n",
       "      <td>0.132944</td>\n",
       "      <td>0.70217</td>\n",
       "      <td>0.567932</td>\n",
       "    </tr>\n",
       "  </tbody>\n",
       "</table>\n",
       "<p>5 rows × 182 columns</p>\n",
       "</div>"
      ],
      "text/plain": [
       "  x31 x59 x93 x98  x99   ind    y  Fri  Mon  Sat  ...       x88       x89  \\\n",
       "0   0   0   0   0  0.0  test  NaN  0.0  0.0  0.0  ...  0.866722  0.217677   \n",
       "1   0   0   0   1  1.0  test  NaN  1.0  0.0  0.0  ...  0.447324  0.004173   \n",
       "2   0   0   0   0  1.0  test  NaN  0.0  0.0  0.0  ...  0.638263       NaN   \n",
       "3   0   0   0   1  0.0  test  NaN  0.0  0.0  0.0  ...  0.469652  0.483384   \n",
       "4   1   0   1   1  1.0  test  NaN  0.0  0.0  0.0  ...  0.532595   0.15618   \n",
       "\n",
       "        x90       x91       x92       x94       x95       x96       x97  \\\n",
       "0  0.891929       NaN  0.907117  0.355609  0.531887  0.538906  0.295498   \n",
       "1  0.756481  0.416633  0.591244   0.47562       NaN  0.277221   0.68798   \n",
       "2  0.700983  0.620915  0.785095  0.251167  0.334468  0.397261  0.620511   \n",
       "3  0.634022  0.574792  0.392599  0.307966  0.628135   0.23615  0.539577   \n",
       "4  0.329675  0.418049  0.378916  0.454908       NaN  0.132944   0.70217   \n",
       "\n",
       "       x100  \n",
       "0  0.304876  \n",
       "1  0.452005  \n",
       "2  0.334391  \n",
       "3   0.50276  \n",
       "4  0.567932  \n",
       "\n",
       "[5 rows x 182 columns]"
      ]
     },
     "execution_count": 58,
     "metadata": {},
     "output_type": "execute_result"
    }
   ],
   "source": [
    "Main_transformed.head()"
   ]
  },
  {
   "cell_type": "markdown",
   "metadata": {},
   "source": [
    "## 1.6 Fill remaining Nan with -1\n",
    "\n",
    "(For the test y, I'll drop the column later. So, I don't care for now.)\n",
    "\n",
    "Remaining NaN values should only be numerical at this point.\n",
    "Since numerical features have already been transformed by MinMaxScaler, now we can fill NaN with -1."
   ]
  },
  {
   "cell_type": "code",
   "execution_count": 59,
   "metadata": {},
   "outputs": [
    {
     "data": {
      "text/plain": [
       "0.0"
      ]
     },
     "execution_count": 59,
     "metadata": {},
     "output_type": "execute_result"
    }
   ],
   "source": [
    "# Overall minimum numerical value\n",
    "np.min(Main_transformed[num_feat].min())"
   ]
  },
  {
   "cell_type": "code",
   "execution_count": 60,
   "metadata": {},
   "outputs": [
    {
     "data": {
      "text/plain": [
       "1.0000000000000002"
      ]
     },
     "execution_count": 60,
     "metadata": {},
     "output_type": "execute_result"
    }
   ],
   "source": [
    "# Overall maximum numerical value\n",
    "np.max(Main_transformed[num_feat].max())"
   ]
  },
  {
   "cell_type": "code",
   "execution_count": 61,
   "metadata": {},
   "outputs": [
    {
     "name": "stdout",
     "output_type": "stream",
     "text": [
      "CPU times: user 3.05 s, sys: 160 ms, total: 3.21 s\n",
      "Wall time: 2.73 s\n"
     ]
    }
   ],
   "source": [
    "%%time\n",
    "\n",
    "# Fill NaN values with -1\n",
    "Main_transformed = Main_transformed.fillna(-1)"
   ]
  },
  {
   "cell_type": "code",
   "execution_count": 62,
   "metadata": {},
   "outputs": [
    {
     "data": {
      "text/html": [
       "<div>\n",
       "<style scoped>\n",
       "    .dataframe tbody tr th:only-of-type {\n",
       "        vertical-align: middle;\n",
       "    }\n",
       "\n",
       "    .dataframe tbody tr th {\n",
       "        vertical-align: top;\n",
       "    }\n",
       "\n",
       "    .dataframe thead th {\n",
       "        text-align: right;\n",
       "    }\n",
       "</style>\n",
       "<table border=\"1\" class=\"dataframe\">\n",
       "  <thead>\n",
       "    <tr style=\"text-align: right;\">\n",
       "      <th></th>\n",
       "      <th>x31</th>\n",
       "      <th>x59</th>\n",
       "      <th>x93</th>\n",
       "      <th>x98</th>\n",
       "      <th>x99</th>\n",
       "      <th>ind</th>\n",
       "      <th>y</th>\n",
       "      <th>Fri</th>\n",
       "      <th>Mon</th>\n",
       "      <th>Sat</th>\n",
       "      <th>...</th>\n",
       "      <th>x88</th>\n",
       "      <th>x89</th>\n",
       "      <th>x90</th>\n",
       "      <th>x91</th>\n",
       "      <th>x92</th>\n",
       "      <th>x94</th>\n",
       "      <th>x95</th>\n",
       "      <th>x96</th>\n",
       "      <th>x97</th>\n",
       "      <th>x100</th>\n",
       "    </tr>\n",
       "  </thead>\n",
       "  <tbody>\n",
       "    <tr>\n",
       "      <th>0</th>\n",
       "      <td>0</td>\n",
       "      <td>0</td>\n",
       "      <td>0</td>\n",
       "      <td>0</td>\n",
       "      <td>0.0</td>\n",
       "      <td>test</td>\n",
       "      <td>-1.0</td>\n",
       "      <td>0.0</td>\n",
       "      <td>0.0</td>\n",
       "      <td>0.0</td>\n",
       "      <td>...</td>\n",
       "      <td>0.866722</td>\n",
       "      <td>0.217677</td>\n",
       "      <td>0.891929</td>\n",
       "      <td>-1.000000</td>\n",
       "      <td>0.907117</td>\n",
       "      <td>0.355609</td>\n",
       "      <td>0.531887</td>\n",
       "      <td>0.538906</td>\n",
       "      <td>0.295498</td>\n",
       "      <td>0.304876</td>\n",
       "    </tr>\n",
       "    <tr>\n",
       "      <th>1</th>\n",
       "      <td>0</td>\n",
       "      <td>0</td>\n",
       "      <td>0</td>\n",
       "      <td>1</td>\n",
       "      <td>1.0</td>\n",
       "      <td>test</td>\n",
       "      <td>-1.0</td>\n",
       "      <td>1.0</td>\n",
       "      <td>0.0</td>\n",
       "      <td>0.0</td>\n",
       "      <td>...</td>\n",
       "      <td>0.447324</td>\n",
       "      <td>0.004173</td>\n",
       "      <td>0.756481</td>\n",
       "      <td>0.416633</td>\n",
       "      <td>0.591244</td>\n",
       "      <td>0.475620</td>\n",
       "      <td>-1.000000</td>\n",
       "      <td>0.277221</td>\n",
       "      <td>0.687980</td>\n",
       "      <td>0.452005</td>\n",
       "    </tr>\n",
       "    <tr>\n",
       "      <th>2</th>\n",
       "      <td>0</td>\n",
       "      <td>0</td>\n",
       "      <td>0</td>\n",
       "      <td>0</td>\n",
       "      <td>1.0</td>\n",
       "      <td>test</td>\n",
       "      <td>-1.0</td>\n",
       "      <td>0.0</td>\n",
       "      <td>0.0</td>\n",
       "      <td>0.0</td>\n",
       "      <td>...</td>\n",
       "      <td>0.638263</td>\n",
       "      <td>-1.000000</td>\n",
       "      <td>0.700983</td>\n",
       "      <td>0.620915</td>\n",
       "      <td>0.785095</td>\n",
       "      <td>0.251167</td>\n",
       "      <td>0.334468</td>\n",
       "      <td>0.397261</td>\n",
       "      <td>0.620511</td>\n",
       "      <td>0.334391</td>\n",
       "    </tr>\n",
       "    <tr>\n",
       "      <th>3</th>\n",
       "      <td>0</td>\n",
       "      <td>0</td>\n",
       "      <td>0</td>\n",
       "      <td>1</td>\n",
       "      <td>0.0</td>\n",
       "      <td>test</td>\n",
       "      <td>-1.0</td>\n",
       "      <td>0.0</td>\n",
       "      <td>0.0</td>\n",
       "      <td>0.0</td>\n",
       "      <td>...</td>\n",
       "      <td>0.469652</td>\n",
       "      <td>0.483384</td>\n",
       "      <td>0.634022</td>\n",
       "      <td>0.574792</td>\n",
       "      <td>0.392599</td>\n",
       "      <td>0.307966</td>\n",
       "      <td>0.628135</td>\n",
       "      <td>0.236150</td>\n",
       "      <td>0.539577</td>\n",
       "      <td>0.502760</td>\n",
       "    </tr>\n",
       "    <tr>\n",
       "      <th>4</th>\n",
       "      <td>1</td>\n",
       "      <td>0</td>\n",
       "      <td>1</td>\n",
       "      <td>1</td>\n",
       "      <td>1.0</td>\n",
       "      <td>test</td>\n",
       "      <td>-1.0</td>\n",
       "      <td>0.0</td>\n",
       "      <td>0.0</td>\n",
       "      <td>0.0</td>\n",
       "      <td>...</td>\n",
       "      <td>0.532595</td>\n",
       "      <td>0.156180</td>\n",
       "      <td>0.329675</td>\n",
       "      <td>0.418049</td>\n",
       "      <td>0.378916</td>\n",
       "      <td>0.454908</td>\n",
       "      <td>-1.000000</td>\n",
       "      <td>0.132944</td>\n",
       "      <td>0.702170</td>\n",
       "      <td>0.567932</td>\n",
       "    </tr>\n",
       "  </tbody>\n",
       "</table>\n",
       "<p>5 rows × 182 columns</p>\n",
       "</div>"
      ],
      "text/plain": [
       "   x31  x59  x93  x98  x99   ind    y  Fri  Mon  Sat  ...       x88       x89  \\\n",
       "0    0    0    0    0  0.0  test -1.0  0.0  0.0  0.0  ...  0.866722  0.217677   \n",
       "1    0    0    0    1  1.0  test -1.0  1.0  0.0  0.0  ...  0.447324  0.004173   \n",
       "2    0    0    0    0  1.0  test -1.0  0.0  0.0  0.0  ...  0.638263 -1.000000   \n",
       "3    0    0    0    1  0.0  test -1.0  0.0  0.0  0.0  ...  0.469652  0.483384   \n",
       "4    1    0    1    1  1.0  test -1.0  0.0  0.0  0.0  ...  0.532595  0.156180   \n",
       "\n",
       "        x90       x91       x92       x94       x95       x96       x97  \\\n",
       "0  0.891929 -1.000000  0.907117  0.355609  0.531887  0.538906  0.295498   \n",
       "1  0.756481  0.416633  0.591244  0.475620 -1.000000  0.277221  0.687980   \n",
       "2  0.700983  0.620915  0.785095  0.251167  0.334468  0.397261  0.620511   \n",
       "3  0.634022  0.574792  0.392599  0.307966  0.628135  0.236150  0.539577   \n",
       "4  0.329675  0.418049  0.378916  0.454908 -1.000000  0.132944  0.702170   \n",
       "\n",
       "       x100  \n",
       "0  0.304876  \n",
       "1  0.452005  \n",
       "2  0.334391  \n",
       "3  0.502760  \n",
       "4  0.567932  \n",
       "\n",
       "[5 rows x 182 columns]"
      ]
     },
     "execution_count": 62,
     "metadata": {},
     "output_type": "execute_result"
    }
   ],
   "source": [
    "Main_transformed.head()"
   ]
  },
  {
   "cell_type": "markdown",
   "metadata": {},
   "source": [
    "## 1.7 Split train and test"
   ]
  },
  {
   "cell_type": "code",
   "execution_count": 63,
   "metadata": {},
   "outputs": [],
   "source": [
    "test_transformed, train_transformed = Main_transformed[Main_transformed[\"ind\"].eq(\"test\")], Main_transformed[Main_transformed[\"ind\"].eq(\"train\")]"
   ]
  },
  {
   "cell_type": "markdown",
   "metadata": {},
   "source": [
    "Drop column 'ind' for train and test"
   ]
  },
  {
   "cell_type": "code",
   "execution_count": 64,
   "metadata": {},
   "outputs": [],
   "source": [
    "train_transformed = train_transformed.drop(['ind'], axis=1)\n",
    "test_transformed = test_transformed.drop(['ind'], axis=1)"
   ]
  },
  {
   "cell_type": "code",
   "execution_count": 65,
   "metadata": {
    "scrolled": true
   },
   "outputs": [
    {
     "data": {
      "text/html": [
       "<div>\n",
       "<style scoped>\n",
       "    .dataframe tbody tr th:only-of-type {\n",
       "        vertical-align: middle;\n",
       "    }\n",
       "\n",
       "    .dataframe tbody tr th {\n",
       "        vertical-align: top;\n",
       "    }\n",
       "\n",
       "    .dataframe thead th {\n",
       "        text-align: right;\n",
       "    }\n",
       "</style>\n",
       "<table border=\"1\" class=\"dataframe\">\n",
       "  <thead>\n",
       "    <tr style=\"text-align: right;\">\n",
       "      <th></th>\n",
       "      <th>x31</th>\n",
       "      <th>x59</th>\n",
       "      <th>x93</th>\n",
       "      <th>x98</th>\n",
       "      <th>x99</th>\n",
       "      <th>y</th>\n",
       "      <th>Fri</th>\n",
       "      <th>Mon</th>\n",
       "      <th>Sat</th>\n",
       "      <th>Sun</th>\n",
       "      <th>...</th>\n",
       "      <th>x88</th>\n",
       "      <th>x89</th>\n",
       "      <th>x90</th>\n",
       "      <th>x91</th>\n",
       "      <th>x92</th>\n",
       "      <th>x94</th>\n",
       "      <th>x95</th>\n",
       "      <th>x96</th>\n",
       "      <th>x97</th>\n",
       "      <th>x100</th>\n",
       "    </tr>\n",
       "  </thead>\n",
       "  <tbody>\n",
       "    <tr>\n",
       "      <th>10000</th>\n",
       "      <td>0</td>\n",
       "      <td>0</td>\n",
       "      <td>0</td>\n",
       "      <td>0</td>\n",
       "      <td>1.0</td>\n",
       "      <td>0.0</td>\n",
       "      <td>0.0</td>\n",
       "      <td>0.0</td>\n",
       "      <td>0.0</td>\n",
       "      <td>0.0</td>\n",
       "      <td>...</td>\n",
       "      <td>0.552565</td>\n",
       "      <td>0.179670</td>\n",
       "      <td>0.479024</td>\n",
       "      <td>0.462899</td>\n",
       "      <td>0.217523</td>\n",
       "      <td>0.600563</td>\n",
       "      <td>-1.000000</td>\n",
       "      <td>0.260461</td>\n",
       "      <td>0.320225</td>\n",
       "      <td>0.616750</td>\n",
       "    </tr>\n",
       "    <tr>\n",
       "      <th>10001</th>\n",
       "      <td>0</td>\n",
       "      <td>0</td>\n",
       "      <td>0</td>\n",
       "      <td>1</td>\n",
       "      <td>1.0</td>\n",
       "      <td>1.0</td>\n",
       "      <td>1.0</td>\n",
       "      <td>0.0</td>\n",
       "      <td>0.0</td>\n",
       "      <td>0.0</td>\n",
       "      <td>...</td>\n",
       "      <td>0.571926</td>\n",
       "      <td>0.171904</td>\n",
       "      <td>0.601845</td>\n",
       "      <td>0.570998</td>\n",
       "      <td>0.702668</td>\n",
       "      <td>0.380131</td>\n",
       "      <td>0.854944</td>\n",
       "      <td>-1.000000</td>\n",
       "      <td>0.536219</td>\n",
       "      <td>0.528575</td>\n",
       "    </tr>\n",
       "    <tr>\n",
       "      <th>10002</th>\n",
       "      <td>0</td>\n",
       "      <td>0</td>\n",
       "      <td>0</td>\n",
       "      <td>0</td>\n",
       "      <td>1.0</td>\n",
       "      <td>1.0</td>\n",
       "      <td>0.0</td>\n",
       "      <td>0.0</td>\n",
       "      <td>0.0</td>\n",
       "      <td>0.0</td>\n",
       "      <td>...</td>\n",
       "      <td>0.360281</td>\n",
       "      <td>-1.000000</td>\n",
       "      <td>0.640605</td>\n",
       "      <td>0.714877</td>\n",
       "      <td>0.181699</td>\n",
       "      <td>0.494158</td>\n",
       "      <td>-1.000000</td>\n",
       "      <td>0.069022</td>\n",
       "      <td>0.333980</td>\n",
       "      <td>0.765440</td>\n",
       "    </tr>\n",
       "    <tr>\n",
       "      <th>10003</th>\n",
       "      <td>0</td>\n",
       "      <td>0</td>\n",
       "      <td>0</td>\n",
       "      <td>1</td>\n",
       "      <td>1.0</td>\n",
       "      <td>0.0</td>\n",
       "      <td>0.0</td>\n",
       "      <td>0.0</td>\n",
       "      <td>0.0</td>\n",
       "      <td>0.0</td>\n",
       "      <td>...</td>\n",
       "      <td>0.644036</td>\n",
       "      <td>-1.000000</td>\n",
       "      <td>0.500483</td>\n",
       "      <td>0.595892</td>\n",
       "      <td>0.517615</td>\n",
       "      <td>0.457536</td>\n",
       "      <td>0.584533</td>\n",
       "      <td>-1.000000</td>\n",
       "      <td>0.436616</td>\n",
       "      <td>0.580864</td>\n",
       "    </tr>\n",
       "    <tr>\n",
       "      <th>10004</th>\n",
       "      <td>1</td>\n",
       "      <td>0</td>\n",
       "      <td>1</td>\n",
       "      <td>0</td>\n",
       "      <td>1.0</td>\n",
       "      <td>0.0</td>\n",
       "      <td>0.0</td>\n",
       "      <td>0.0</td>\n",
       "      <td>0.0</td>\n",
       "      <td>1.0</td>\n",
       "      <td>...</td>\n",
       "      <td>0.279920</td>\n",
       "      <td>-1.000000</td>\n",
       "      <td>0.498980</td>\n",
       "      <td>0.811686</td>\n",
       "      <td>0.225621</td>\n",
       "      <td>0.368587</td>\n",
       "      <td>0.663337</td>\n",
       "      <td>0.226207</td>\n",
       "      <td>0.626097</td>\n",
       "      <td>0.286160</td>\n",
       "    </tr>\n",
       "  </tbody>\n",
       "</table>\n",
       "<p>5 rows × 181 columns</p>\n",
       "</div>"
      ],
      "text/plain": [
       "       x31  x59  x93  x98  x99    y  Fri  Mon  Sat  Sun  ...       x88  \\\n",
       "10000    0    0    0    0  1.0  0.0  0.0  0.0  0.0  0.0  ...  0.552565   \n",
       "10001    0    0    0    1  1.0  1.0  1.0  0.0  0.0  0.0  ...  0.571926   \n",
       "10002    0    0    0    0  1.0  1.0  0.0  0.0  0.0  0.0  ...  0.360281   \n",
       "10003    0    0    0    1  1.0  0.0  0.0  0.0  0.0  0.0  ...  0.644036   \n",
       "10004    1    0    1    0  1.0  0.0  0.0  0.0  0.0  1.0  ...  0.279920   \n",
       "\n",
       "            x89       x90       x91       x92       x94       x95       x96  \\\n",
       "10000  0.179670  0.479024  0.462899  0.217523  0.600563 -1.000000  0.260461   \n",
       "10001  0.171904  0.601845  0.570998  0.702668  0.380131  0.854944 -1.000000   \n",
       "10002 -1.000000  0.640605  0.714877  0.181699  0.494158 -1.000000  0.069022   \n",
       "10003 -1.000000  0.500483  0.595892  0.517615  0.457536  0.584533 -1.000000   \n",
       "10004 -1.000000  0.498980  0.811686  0.225621  0.368587  0.663337  0.226207   \n",
       "\n",
       "            x97      x100  \n",
       "10000  0.320225  0.616750  \n",
       "10001  0.536219  0.528575  \n",
       "10002  0.333980  0.765440  \n",
       "10003  0.436616  0.580864  \n",
       "10004  0.626097  0.286160  \n",
       "\n",
       "[5 rows x 181 columns]"
      ]
     },
     "execution_count": 65,
     "metadata": {},
     "output_type": "execute_result"
    }
   ],
   "source": [
    "train_transformed.head()"
   ]
  },
  {
   "cell_type": "code",
   "execution_count": 66,
   "metadata": {},
   "outputs": [],
   "source": [
    "# save data locally\n",
    "# train_transformed.to_pickle(os.path.join('train_transformed_minmax_final.pkl'))\n",
    "# test_transformed.to_pickle(os.path.join('test_transformed_minmax_final.pkl'))"
   ]
  },
  {
   "cell_type": "code",
   "execution_count": 67,
   "metadata": {
    "scrolled": false
   },
   "outputs": [
    {
     "data": {
      "text/plain": [
       "0.0    34197\n",
       "1.0     5803\n",
       "Name: y, dtype: int64"
      ]
     },
     "execution_count": 67,
     "metadata": {},
     "output_type": "execute_result"
    }
   ],
   "source": [
    "train_transformed.y.value_counts()"
   ]
  },
  {
   "cell_type": "markdown",
   "metadata": {},
   "source": [
    "# 2 Modeling \n",
    "Create X & y objects with train_transformed"
   ]
  },
  {
   "cell_type": "code",
   "execution_count": 68,
   "metadata": {
    "scrolled": true
   },
   "outputs": [],
   "source": [
    "X = train_transformed.drop(['y'], axis=1)\n",
    "y = train_transformed.y"
   ]
  },
  {
   "cell_type": "code",
   "execution_count": 69,
   "metadata": {},
   "outputs": [
    {
     "data": {
      "text/plain": [
       "(40000, 180)"
      ]
     },
     "execution_count": 69,
     "metadata": {},
     "output_type": "execute_result"
    }
   ],
   "source": [
    "X.shape"
   ]
  },
  {
   "cell_type": "code",
   "execution_count": 70,
   "metadata": {},
   "outputs": [
    {
     "data": {
      "text/plain": [
       "(40000,)"
      ]
     },
     "execution_count": 70,
     "metadata": {},
     "output_type": "execute_result"
    }
   ],
   "source": [
    "y.shape"
   ]
  },
  {
   "cell_type": "markdown",
   "metadata": {},
   "source": [
    "Generate X_train, X_test, y_train & y_test. Use 80% for train & 20% for test."
   ]
  },
  {
   "cell_type": "code",
   "execution_count": 71,
   "metadata": {},
   "outputs": [],
   "source": [
    "from sklearn.model_selection import train_test_split\n",
    "X_train, X_test, y_train, y_test = train_test_split(X, y,test_size = 0.2, random_state = 365) "
   ]
  },
  {
   "cell_type": "markdown",
   "metadata": {},
   "source": [
    "## 2.1 logistic regression model"
   ]
  },
  {
   "cell_type": "code",
   "execution_count": 72,
   "metadata": {},
   "outputs": [],
   "source": [
    "# Import classification model:\n",
    "from sklearn.linear_model import LogisticRegression\n",
    "\n",
    "# Import other tools:\n",
    "from sklearn.metrics import precision_recall_curve, auc, recall_score, roc_auc_score, roc_curve\n",
    "from sklearn.metrics import accuracy_score\n",
    "from sklearn.metrics import classification_report, confusion_matrix\n",
    "from sklearn.model_selection import cross_val_score, cross_val_predict\n",
    "from sklearn.model_selection import GridSearchCV, RandomizedSearchCV\n",
    "\n",
    "\n",
    "# Visualization\n",
    "%matplotlib inline\n",
    "import matplotlib.pyplot as plt"
   ]
  },
  {
   "cell_type": "markdown",
   "metadata": {},
   "source": [
    "### 2.1.1 Run quick logistic regression model"
   ]
  },
  {
   "cell_type": "code",
   "execution_count": 73,
   "metadata": {},
   "outputs": [],
   "source": [
    "LR = LogisticRegression(multi_class='ovr')"
   ]
  },
  {
   "cell_type": "code",
   "execution_count": 74,
   "metadata": {},
   "outputs": [
    {
     "name": "stdout",
     "output_type": "stream",
     "text": [
      "{'C': 1.0, 'class_weight': None, 'dual': False, 'fit_intercept': True, 'intercept_scaling': 1, 'l1_ratio': None, 'max_iter': 100, 'multi_class': 'ovr', 'n_jobs': None, 'penalty': 'l2', 'random_state': None, 'solver': 'lbfgs', 'tol': 0.0001, 'verbose': 0, 'warm_start': False}\n"
     ]
    }
   ],
   "source": [
    "# Default hyperparameters\n",
    "print(LR.get_params())"
   ]
  },
  {
   "cell_type": "code",
   "execution_count": 75,
   "metadata": {},
   "outputs": [
    {
     "name": "stdout",
     "output_type": "stream",
     "text": [
      "CPU times: user 1.8 s, sys: 174 ms, total: 1.98 s\n",
      "Wall time: 507 ms\n"
     ]
    },
    {
     "data": {
      "text/plain": [
       "LogisticRegression(multi_class='ovr')"
      ]
     },
     "execution_count": 75,
     "metadata": {},
     "output_type": "execute_result"
    }
   ],
   "source": [
    "%%time\n",
    "# Fit model\n",
    "LR.fit(X_train, y_train)"
   ]
  },
  {
   "cell_type": "code",
   "execution_count": 76,
   "metadata": {},
   "outputs": [
    {
     "name": "stdout",
     "output_type": "stream",
     "text": [
      "quick logistic regression accuracy: \t0.8590\n"
     ]
    }
   ],
   "source": [
    "# Calculate accuracy score for training prediction:\n",
    "LR_Q_train_accuracy = LR.score(X_train, y_train)\n",
    "\n",
    "print('quick logistic regression accuracy: \\t%0.4f' % LR_Q_train_accuracy)"
   ]
  },
  {
   "cell_type": "markdown",
   "metadata": {},
   "source": [
    "### 2.1.2 Tune hyperparameters using GridSearchCV"
   ]
  },
  {
   "cell_type": "code",
   "execution_count": 77,
   "metadata": {},
   "outputs": [],
   "source": [
    "# Specify parameters to search\n",
    "LR_param_grid = {'penalty' : ['l1', 'l2'],\n",
    "              'C' : [1e-3, 1e-2, 1e-1, 1, 10, 100],\n",
    "              'solver' : ['liblinear','lbfgs']}"
   ]
  },
  {
   "cell_type": "code",
   "execution_count": 78,
   "metadata": {},
   "outputs": [],
   "source": [
    "LR_grid_search = GridSearchCV(estimator=LR,\n",
    "                           param_grid=LR_param_grid,\n",
    "                           cv=5)"
   ]
  },
  {
   "cell_type": "code",
   "execution_count": 79,
   "metadata": {},
   "outputs": [
    {
     "name": "stdout",
     "output_type": "stream",
     "text": [
      "CPU times: user 3min 45s, sys: 12.1 s, total: 3min 57s\n",
      "Wall time: 2min 48s\n"
     ]
    },
    {
     "data": {
      "text/plain": [
       "GridSearchCV(cv=5, estimator=LogisticRegression(multi_class='ovr'),\n",
       "             param_grid={'C': [0.001, 0.01, 0.1, 1, 10, 100],\n",
       "                         'penalty': ['l1', 'l2'],\n",
       "                         'solver': ['liblinear', 'lbfgs']})"
      ]
     },
     "execution_count": 79,
     "metadata": {},
     "output_type": "execute_result"
    }
   ],
   "source": [
    "%%time\n",
    "\n",
    "# Fit\n",
    "LR_grid_search.fit(X_train, y_train)"
   ]
  },
  {
   "cell_type": "code",
   "execution_count": 80,
   "metadata": {},
   "outputs": [
    {
     "data": {
      "text/plain": [
       "{'C': 0.1, 'penalty': 'l2', 'solver': 'lbfgs'}"
      ]
     },
     "execution_count": 80,
     "metadata": {},
     "output_type": "execute_result"
    }
   ],
   "source": [
    "LR_grid_search.best_params_"
   ]
  },
  {
   "cell_type": "code",
   "execution_count": 81,
   "metadata": {},
   "outputs": [],
   "source": [
    "LR_best = LR_grid_search.best_estimator_"
   ]
  },
  {
   "cell_type": "code",
   "execution_count": 82,
   "metadata": {},
   "outputs": [
    {
     "name": "stdout",
     "output_type": "stream",
     "text": [
      "CPU times: user 1.64 s, sys: 102 ms, total: 1.74 s\n",
      "Wall time: 439 ms\n"
     ]
    },
    {
     "data": {
      "text/plain": [
       "LogisticRegression(C=0.1, multi_class='ovr')"
      ]
     },
     "execution_count": 82,
     "metadata": {},
     "output_type": "execute_result"
    }
   ],
   "source": [
    "%%time\n",
    "\n",
    "# Fit model\n",
    "LR_best.fit(X_train, y_train)"
   ]
  },
  {
   "cell_type": "code",
   "execution_count": 83,
   "metadata": {},
   "outputs": [
    {
     "name": "stdout",
     "output_type": "stream",
     "text": [
      "Best logistic regression accuracy: \t0.8581\n"
     ]
    }
   ],
   "source": [
    "# Calculate accuracy score for training prediction:\n",
    "LR_train_accuracy_best = LR_best.score(X_train, y_train)\n",
    "print('Best logistic regression accuracy: \\t%0.4f' % LR_train_accuracy_best)"
   ]
  },
  {
   "cell_type": "markdown",
   "metadata": {},
   "source": [
    "### 2.1.3 Test optimized model against test set"
   ]
  },
  {
   "cell_type": "code",
   "execution_count": 84,
   "metadata": {},
   "outputs": [],
   "source": [
    "y_pred_test_LR = LR_best.predict(X_test)"
   ]
  },
  {
   "cell_type": "code",
   "execution_count": 85,
   "metadata": {},
   "outputs": [
    {
     "name": "stdout",
     "output_type": "stream",
     "text": [
      "              precision    recall  f1-score   support\n",
      "\n",
      "         0.0       0.87      0.99      0.92      6883\n",
      "         1.0       0.53      0.06      0.11      1117\n",
      "\n",
      "    accuracy                           0.86      8000\n",
      "   macro avg       0.70      0.53      0.52      8000\n",
      "weighted avg       0.82      0.86      0.81      8000\n",
      "\n"
     ]
    }
   ],
   "source": [
    "# Classification report\n",
    "print(classification_report(y_test, y_pred_test_LR))"
   ]
  },
  {
   "cell_type": "code",
   "execution_count": 86,
   "metadata": {},
   "outputs": [
    {
     "name": "stdout",
     "output_type": "stream",
     "text": [
      "[[6822   61]\n",
      " [1049   68]]\n"
     ]
    }
   ],
   "source": [
    "# Confusion matrix\n",
    "print(confusion_matrix(y_test, y_pred_test_LR))"
   ]
  },
  {
   "cell_type": "markdown",
   "metadata": {},
   "source": [
    "### 2.1.4 Evaluate AUC for ROC and PR for performance against test set\n",
    "\n",
    "For imbalanced targets, area under the precision-recall curve is usually a better indicator of model performance than area under the receiver operating characteristic curve."
   ]
  },
  {
   "cell_type": "code",
   "execution_count": 87,
   "metadata": {},
   "outputs": [],
   "source": [
    "# Find probability estimates for y_pred_test\n",
    "y_pred_proba_test_LR = LR_best.predict_proba(X_test)[:, 1] # use second column for probabilities"
   ]
  },
  {
   "cell_type": "code",
   "execution_count": 88,
   "metadata": {},
   "outputs": [],
   "source": [
    "# Calculate false positive rate and true positive rate:\n",
    "fpr, tpr, thresholds_roc = roc_curve(y_test, y_pred_proba_test_LR)\n",
    "\n",
    "# Calculate precision and recall\n",
    "precision, recall, thresholds_pr = precision_recall_curve(y_test, y_pred_proba_test_LR)"
   ]
  },
  {
   "cell_type": "code",
   "execution_count": 89,
   "metadata": {},
   "outputs": [
    {
     "data": {
      "image/png": "[encoded data removed]",
      "text/plain": [
       "<Figure size 1152x432 with 2 Axes>"
      ]
     },
     "metadata": {
      "needs_background": "light"
     },
     "output_type": "display_data"
    }
   ],
   "source": [
    "# Plot Precision-Recall curve for clf_best:\n",
    "plt.figure(figsize=(16,6))\n",
    "plt.subplot(1,2,1)\n",
    "plt.step(recall, precision, label='Precision-recall curve (area = %0.4f)' % auc(recall, precision))\n",
    "plt.title('Logistic Regression model: Precision-recall curve', size=13)\n",
    "plt.xlabel('Recall')\n",
    "plt.ylabel('Precision')\n",
    "plt.legend(loc='lower left', fontsize=13)\n",
    "plt.ylim([-0.05, 1.05])\n",
    "plt.xlim([-0.05, 1.05])\n",
    "\n",
    "# Plot ROC curve for clf_best:\n",
    "plt.subplot(1,2,2)\n",
    "plt.plot(fpr, tpr, label='ROC curve (area = %0.4f)' % auc(fpr, tpr))\n",
    "plt.plot([0, 1], [0, 1], 'r--')\n",
    "plt.title('Logistic Regression model: ROC curve', size=13)\n",
    "plt.xlabel('False Positive Rate')\n",
    "plt.ylabel('True Positive Rate')\n",
    "plt.legend(loc='lower right', fontsize=13)\n",
    "plt.ylim([-0.05, 1.05])\n",
    "plt.xlim([-0.05, 1.05])\n",
    "\n",
    "plt.show()"
   ]
  },
  {
   "cell_type": "code",
   "execution_count": 90,
   "metadata": {},
   "outputs": [
    {
     "data": {
      "text/plain": [
       "0.7537954695120944"
      ]
     },
     "execution_count": 90,
     "metadata": {},
     "output_type": "execute_result"
    }
   ],
   "source": [
    "# Area under curve for ROC\n",
    "auc(fpr, tpr)"
   ]
  },
  {
   "cell_type": "code",
   "execution_count": 91,
   "metadata": {},
   "outputs": [
    {
     "data": {
      "text/plain": [
       "0.350694974716933"
      ]
     },
     "execution_count": 91,
     "metadata": {},
     "output_type": "execute_result"
    }
   ],
   "source": [
    "# Area under precision-recall curve\n",
    "auc(recall, precision)"
   ]
  },
  {
   "cell_type": "markdown",
   "metadata": {},
   "source": [
    "## 2.2 DNN in Keras model"
   ]
  },
  {
   "cell_type": "code",
   "execution_count": 92,
   "metadata": {},
   "outputs": [],
   "source": [
    "# Import Keras and Tensorflow\n",
    "import tensorflow as tf\n",
    "from tensorflow import keras\n",
    "from tensorflow.keras import layers"
   ]
  },
  {
   "cell_type": "markdown",
   "metadata": {},
   "source": [
    "### Create validation set from training data to evaluate model training"
   ]
  },
  {
   "cell_type": "code",
   "execution_count": 93,
   "metadata": {},
   "outputs": [],
   "source": [
    "X_train_train, X_train_val, y_train_train, y_train_val = train_test_split(X_train, y_train,test_size = 0.2, random_state = 365) "
   ]
  },
  {
   "cell_type": "markdown",
   "metadata": {},
   "source": [
    "### Convert pandas dataframes to NumPy arrays\n",
    "\n",
    "NOTE: In order to use validation_split or validation_data during model training, the training data should be in NumPy format."
   ]
  },
  {
   "cell_type": "code",
   "execution_count": 94,
   "metadata": {},
   "outputs": [],
   "source": [
    "X_train_train_np = X_train_train.to_numpy()\n",
    "y_train_train_np = y_train_train.to_numpy()\n",
    "X_train_val_np = X_train_val.to_numpy()\n",
    "y_train_val_np = y_train_val.to_numpy()\n",
    "\n",
    "X_test_np = X_test.to_numpy()\n",
    "y_test_np = y_test.to_numpy()"
   ]
  },
  {
   "cell_type": "markdown",
   "metadata": {},
   "source": [
    "### 2.2.1 Run a quick DNN model "
   ]
  },
  {
   "cell_type": "code",
   "execution_count": 95,
   "metadata": {},
   "outputs": [],
   "source": [
    "# Create Sequential model with 2 hidden layers\n",
    "\n",
    "DNN = keras.Sequential()\n",
    "DNN.add(layers.Dense(300, input_shape=(X_train.shape[1],), activation='relu', name='layer1'))\n",
    "DNN.add(layers.Dense(100, activation='relu', name='layer2'))\n",
    "DNN.add(layers.Dense(30, activation='relu', name='layer3'))\n",
    "DNN.add(layers.Dense(1, activation='sigmoid', name='ouput'))"
   ]
  },
  {
   "cell_type": "code",
   "execution_count": 96,
   "metadata": {},
   "outputs": [
    {
     "name": "stdout",
     "output_type": "stream",
     "text": [
      "Model: \"sequential\"\n",
      "_________________________________________________________________\n",
      "Layer (type)                 Output Shape              Param #   \n",
      "=================================================================\n",
      "layer1 (Dense)               (None, 300)               54300     \n",
      "_________________________________________________________________\n",
      "layer2 (Dense)               (None, 100)               30100     \n",
      "_________________________________________________________________\n",
      "layer3 (Dense)               (None, 30)                3030      \n",
      "_________________________________________________________________\n",
      "ouput (Dense)                (None, 1)                 31        \n",
      "=================================================================\n",
      "Total params: 87,461\n",
      "Trainable params: 87,461\n",
      "Non-trainable params: 0\n",
      "_________________________________________________________________\n"
     ]
    }
   ],
   "source": [
    "DNN.summary()"
   ]
  },
  {
   "cell_type": "code",
   "execution_count": 97,
   "metadata": {},
   "outputs": [],
   "source": [
    "# Compile model\n",
    "DNN.compile(loss='binary_crossentropy', optimizer='adam', metrics=['accuracy', 'AUC'])"
   ]
  },
  {
   "cell_type": "code",
   "execution_count": 98,
   "metadata": {},
   "outputs": [
    {
     "name": "stdout",
     "output_type": "stream",
     "text": [
      "Train on 25600 samples, validate on 6400 samples\n",
      "Epoch 1/20\n",
      "25600/25600 [==============================] - 2s 72us/sample - loss: 0.3952 - accuracy: 0.8527 - AUC: 0.6639 - val_loss: 0.3768 - val_accuracy: 0.8550 - val_AUC: 0.7191\n",
      "Epoch 2/20\n",
      "25600/25600 [==============================] - 1s 44us/sample - loss: 0.3700 - accuracy: 0.8546 - AUC: 0.7362 - val_loss: 0.3691 - val_accuracy: 0.8558 - val_AUC: 0.7346\n",
      "Epoch 3/20\n",
      "25600/25600 [==============================] - 1s 44us/sample - loss: 0.3585 - accuracy: 0.8575 - AUC: 0.7616 - val_loss: 0.3719 - val_accuracy: 0.8552 - val_AUC: 0.7321\n",
      "Epoch 4/20\n",
      "25600/25600 [==============================] - 1s 43us/sample - loss: 0.3491 - accuracy: 0.8620 - AUC: 0.7789 - val_loss: 0.3738 - val_accuracy: 0.8550 - val_AUC: 0.7278\n",
      "Epoch 5/20\n",
      "25600/25600 [==============================] - 1s 44us/sample - loss: 0.3361 - accuracy: 0.8645 - AUC: 0.8012 - val_loss: 0.3794 - val_accuracy: 0.8545 - val_AUC: 0.7251\n",
      "Epoch 6/20\n",
      "25600/25600 [==============================] - 1s 44us/sample - loss: 0.3188 - accuracy: 0.8720 - AUC: 0.8263 - val_loss: 0.4061 - val_accuracy: 0.8427 - val_AUC: 0.6945\n",
      "Epoch 7/20\n",
      "25600/25600 [==============================] - 1s 44us/sample - loss: 0.2940 - accuracy: 0.8815 - AUC: 0.8572 - val_loss: 0.4212 - val_accuracy: 0.8423 - val_AUC: 0.6922\n",
      "CPU times: user 15.4 s, sys: 3.09 s, total: 18.5 s\n",
      "Wall time: 8.64 s\n"
     ]
    }
   ],
   "source": [
    " %%time\n",
    "\n",
    " # Use early stopping if model does not improve after 5 epochs\n",
    "early_stopping_cb = keras.callbacks.EarlyStopping(patience=5, restore_best_weights=True)\n",
    "\n",
    " # Fit model\n",
    " history = DNN.fit(X_train_train_np, y_train_train_np,\n",
    "                    epochs=20,\n",
    "                    validation_data=(X_train_val_np, y_train_val_np),\n",
    "                    callbacks=[early_stopping_cb]) "
   ]
  },
  {
   "cell_type": "code",
   "execution_count": 99,
   "metadata": {},
   "outputs": [
    {
     "name": "stdout",
     "output_type": "stream",
     "text": [
      "8000/8000 [==============================] - 0s 21us/sample - loss: 0.3618 - accuracy: 0.8619 - AUC: 0.7313\n",
      "deep neural network quick Test loss: \t0.3618\n",
      "deep neural network quick Test accuracy: \t0.8619\n",
      "deep neural network quick Test AUC: \t0.7313\n"
     ]
    }
   ],
   "source": [
    "# Evaluate against test set\n",
    "DNN_test_loss, DNN_test_acc, DNN_test_auc = DNN.evaluate(X_test_np, y_test_np)\n",
    "print('deep neural network quick Test loss: \\t%0.4f' % DNN_test_loss)\n",
    "print('deep neural network quick Test accuracy: \\t%0.4f' % DNN_test_acc)\n",
    "print('deep neural network quick Test AUC: \\t%0.4f' % DNN_test_auc)"
   ]
  },
  {
   "cell_type": "code",
   "execution_count": 100,
   "metadata": {},
   "outputs": [],
   "source": [
    "# Find probability estimates\n",
    "y_pred_proba_test_quick_DNN = DNN.predict(X_test_np) # use predict for probabilities"
   ]
  },
  {
   "cell_type": "code",
   "execution_count": 101,
   "metadata": {},
   "outputs": [],
   "source": [
    "# # Calculate false positive rate and true positive rate:\n",
    "DNN_fpr_quick, DNN_tpr_quick, DNN_thresholds_roc_quick = roc_curve(y_test_np, y_pred_proba_test_quick_DNN)\n",
    "\n",
    "# # Calculate precision and recall\n",
    "DNN_precision_quick, DNN_recall_quick, DNN_thresholds_pr_quick = precision_recall_curve(y_test_np, y_pred_proba_test_quick_DNN)"
   ]
  },
  {
   "cell_type": "code",
   "execution_count": 102,
   "metadata": {},
   "outputs": [
    {
     "data": {
      "text/plain": [
       "0.7313740300047696"
      ]
     },
     "execution_count": 102,
     "metadata": {},
     "output_type": "execute_result"
    }
   ],
   "source": [
    "# Area under curve for ROC\n",
    "auc(DNN_fpr_quick, DNN_tpr_quick)"
   ]
  },
  {
   "cell_type": "code",
   "execution_count": 103,
   "metadata": {},
   "outputs": [
    {
     "data": {
      "text/plain": [
       "0.3248472685689368"
      ]
     },
     "execution_count": 103,
     "metadata": {},
     "output_type": "execute_result"
    }
   ],
   "source": [
    "# Area under precision-recall curve\n",
    "auc(DNN_recall_quick, DNN_precision_quick)"
   ]
  },
  {
   "cell_type": "markdown",
   "metadata": {},
   "source": [
    "### 2.2.2 Tune hyperparameters for DNN model"
   ]
  },
  {
   "cell_type": "code",
   "execution_count": 104,
   "metadata": {},
   "outputs": [],
   "source": [
    "# Create function to build and compile model\n",
    "def build_model(n_neurons1=300, n_neurons2=100, n_hidden_add=1, n_neurons_add=50, dropout=True,\n",
    "                input_shape=(X_train.shape[1],)):\n",
    "    model = keras.Sequential()\n",
    "    model.add(layers.InputLayer(input_shape=input_shape)) # Create input layer\n",
    "    model.add(layers.Dense(n_neurons1, activation='elu')) # First hidden layer\n",
    "    model.add(layers.Dense(n_neurons2, activation='elu')) # Second hidden layer\n",
    "    for layer in range(n_hidden_add):\n",
    "        model.add(layers.Dense(n_neurons_add, activation='elu')) # Additional hidden layer(s)\n",
    "    if dropout:\n",
    "        model.add(layers.Dropout(rate=0.1)) # Optional dropout layer after last hidden layer\n",
    "    model.add(layers.Dense(1, activation='sigmoid')) # Output layer\n",
    "    optimizer = keras.optimizers.Adam(lr=0.0005)\n",
    "    model.compile(loss='binary_crossentropy', optimizer=optimizer, metrics=['accuracy', 'AUC'])\n",
    "    return model"
   ]
  },
  {
   "cell_type": "code",
   "execution_count": 105,
   "metadata": {},
   "outputs": [],
   "source": [
    "# Create KerasClassifier model\n",
    "keras_clf = keras.wrappers.scikit_learn.KerasClassifier(build_model)"
   ]
  },
  {
   "cell_type": "code",
   "execution_count": 106,
   "metadata": {},
   "outputs": [],
   "source": [
    "# Define parameter grid\n",
    "n_neurons1 = [200,300]\n",
    "n_neurons2 = [100,200]\n",
    "n_hidden_add = [2, 3]\n",
    "n_neurons_add = [30]\n",
    "dropout = [True]\n",
    "\n",
    "DNN_param_grid = dict(n_neurons1=n_neurons1,\n",
    "                  n_neurons2=n_neurons2,\n",
    "                  n_hidden_add=n_hidden_add,\n",
    "                  n_neurons_add=n_neurons_add,\n",
    "                  dropout=dropout)"
   ]
  },
  {
   "cell_type": "code",
   "execution_count": 107,
   "metadata": {},
   "outputs": [],
   "source": [
    "DNN_grid_search = GridSearchCV(estimator=keras_clf,\n",
    "                               param_grid=DNN_param_grid,\n",
    "                               cv=5)"
   ]
  },
  {
   "cell_type": "code",
   "execution_count": 108,
   "metadata": {},
   "outputs": [
    {
     "name": "stdout",
     "output_type": "stream",
     "text": [
      "Train on 20480 samples, validate on 6400 samples\n",
      "Epoch 1/20\n",
      "20480/20480 [==============================] - 2s 76us/sample - loss: 0.3983 - accuracy: 0.8531 - AUC: 0.6492 - val_loss: 0.3881 - val_accuracy: 0.8556 - val_AUC: 0.7158\n",
      "Epoch 2/20\n",
      "20480/20480 [==============================] - 1s 47us/sample - loss: 0.3753 - accuracy: 0.8553 - AUC: 0.7209 - val_loss: 0.3720 - val_accuracy: 0.8552 - val_AUC: 0.7328\n",
      "Epoch 3/20\n",
      "20480/20480 [==============================] - 1s 47us/sample - loss: 0.3665 - accuracy: 0.8570 - AUC: 0.7420 - val_loss: 0.3690 - val_accuracy: 0.8559 - val_AUC: 0.7339\n",
      "Epoch 4/20\n",
      "20480/20480 [==============================] - 1s 47us/sample - loss: 0.3631 - accuracy: 0.8572 - AUC: 0.7501 - val_loss: 0.3770 - val_accuracy: 0.8520 - val_AUC: 0.7423\n",
      "Epoch 5/20\n",
      "20480/20480 [==============================] - 1s 48us/sample - loss: 0.3588 - accuracy: 0.8583 - AUC: 0.7573 - val_loss: 0.3715 - val_accuracy: 0.8564 - val_AUC: 0.7273\n",
      "Epoch 6/20\n",
      "20480/20480 [==============================] - 1s 47us/sample - loss: 0.3560 - accuracy: 0.8595 - AUC: 0.7622 - val_loss: 0.3670 - val_accuracy: 0.8545 - val_AUC: 0.7403\n",
      "Epoch 7/20\n",
      "20480/20480 [==============================] - 1s 46us/sample - loss: 0.3512 - accuracy: 0.8616 - AUC: 0.7711 - val_loss: 0.3750 - val_accuracy: 0.8505 - val_AUC: 0.7300\n",
      "Epoch 8/20\n",
      "20480/20480 [==============================] - 1s 47us/sample - loss: 0.3479 - accuracy: 0.8611 - AUC: 0.7786 - val_loss: 0.3711 - val_accuracy: 0.8558 - val_AUC: 0.7306\n",
      "Epoch 9/20\n",
      "20480/20480 [==============================] - 1s 47us/sample - loss: 0.3443 - accuracy: 0.8634 - AUC: 0.7842 - val_loss: 0.3769 - val_accuracy: 0.8562 - val_AUC: 0.7279\n",
      "Epoch 10/20\n",
      "20480/20480 [==============================] - 1s 47us/sample - loss: 0.3395 - accuracy: 0.8665 - AUC: 0.7914 - val_loss: 0.3760 - val_accuracy: 0.8548 - val_AUC: 0.7209\n",
      "Epoch 11/20\n",
      "20480/20480 [==============================] - 1s 47us/sample - loss: 0.3336 - accuracy: 0.8667 - AUC: 0.8020 - val_loss: 0.3857 - val_accuracy: 0.8534 - val_AUC: 0.7217\n",
      "5120/5120 [==============================] - 0s 53us/sample - loss: 0.3680 - accuracy: 0.8518 - AUC: 0.7550\n",
      "Train on 20480 samples, validate on 6400 samples\n",
      "Epoch 1/20\n",
      "20480/20480 [==============================] - 2s 86us/sample - loss: 0.4024 - accuracy: 0.8522 - AUC: 0.6439 - val_loss: 0.3763 - val_accuracy: 0.8559 - val_AUC: 0.7182\n",
      "Epoch 2/20\n",
      "20480/20480 [==============================] - 1s 50us/sample - loss: 0.3779 - accuracy: 0.8546 - AUC: 0.7192 - val_loss: 0.3894 - val_accuracy: 0.8552 - val_AUC: 0.7267\n",
      "Epoch 3/20\n",
      "20480/20480 [==============================] - 1s 48us/sample - loss: 0.3710 - accuracy: 0.8541 - AUC: 0.7354 - val_loss: 0.3781 - val_accuracy: 0.8564 - val_AUC: 0.7357\n",
      "Epoch 4/20\n",
      "20480/20480 [==============================] - 1s 49us/sample - loss: 0.3634 - accuracy: 0.8580 - AUC: 0.7520 - val_loss: 0.3655 - val_accuracy: 0.8584 - val_AUC: 0.7394\n",
      "Epoch 5/20\n",
      "20480/20480 [==============================] - 1s 49us/sample - loss: 0.3610 - accuracy: 0.8586 - AUC: 0.7572 - val_loss: 0.3845 - val_accuracy: 0.8442 - val_AUC: 0.7277\n",
      "Epoch 6/20\n",
      "20480/20480 [==============================] - 1s 49us/sample - loss: 0.3581 - accuracy: 0.8587 - AUC: 0.7620 - val_loss: 0.3691 - val_accuracy: 0.8564 - val_AUC: 0.7318\n",
      "Epoch 7/20\n",
      "20480/20480 [==============================] - 1s 49us/sample - loss: 0.3542 - accuracy: 0.8599 - AUC: 0.7705 - val_loss: 0.3712 - val_accuracy: 0.8525 - val_AUC: 0.7335\n",
      "Epoch 8/20\n",
      "20480/20480 [==============================] - 1s 49us/sample - loss: 0.3488 - accuracy: 0.8595 - AUC: 0.7807 - val_loss: 0.3845 - val_accuracy: 0.8427 - val_AUC: 0.7280\n",
      "Epoch 9/20\n",
      "20480/20480 [==============================] - 1s 49us/sample - loss: 0.3462 - accuracy: 0.8636 - AUC: 0.7829 - val_loss: 0.3864 - val_accuracy: 0.8516 - val_AUC: 0.7267\n",
      "5120/5120 [==============================] - 0s 56us/sample - loss: 0.3581 - accuracy: 0.8564 - AUC: 0.7615\n",
      "Train on 20480 samples, validate on 6400 samples\n",
      "Epoch 1/20\n",
      "20480/20480 [==============================] - 2s 77us/sample - loss: 0.4037 - accuracy: 0.8515 - AUC: 0.6333 - val_loss: 0.3785 - val_accuracy: 0.8545 - val_AUC: 0.7153\n",
      "Epoch 2/20\n",
      "20480/20480 [==============================] - 1s 48us/sample - loss: 0.3769 - accuracy: 0.8547 - AUC: 0.7169 - val_loss: 0.3685 - val_accuracy: 0.8570 - val_AUC: 0.7347\n",
      "Epoch 3/20\n",
      "20480/20480 [==============================] - 1s 48us/sample - loss: 0.3665 - accuracy: 0.8566 - AUC: 0.7434 - val_loss: 0.3659 - val_accuracy: 0.8578 - val_AUC: 0.7411\n",
      "Epoch 4/20\n",
      "20480/20480 [==============================] - 1s 48us/sample - loss: 0.3608 - accuracy: 0.8572 - AUC: 0.7539 - val_loss: 0.3677 - val_accuracy: 0.8553 - val_AUC: 0.7380\n",
      "Epoch 5/20\n",
      "20480/20480 [==============================] - 1s 48us/sample - loss: 0.3572 - accuracy: 0.8600 - AUC: 0.7606 - val_loss: 0.3763 - val_accuracy: 0.8511 - val_AUC: 0.7353\n",
      "Epoch 6/20\n",
      "20480/20480 [==============================] - 1s 48us/sample - loss: 0.3556 - accuracy: 0.8601 - AUC: 0.7634 - val_loss: 0.3758 - val_accuracy: 0.8550 - val_AUC: 0.7326\n",
      "Epoch 7/20\n",
      "20480/20480 [==============================] - 1s 48us/sample - loss: 0.3499 - accuracy: 0.8620 - AUC: 0.7742 - val_loss: 0.3687 - val_accuracy: 0.8559 - val_AUC: 0.7353\n",
      "Epoch 8/20\n",
      "20480/20480 [==============================] - 1s 50us/sample - loss: 0.3463 - accuracy: 0.8627 - AUC: 0.7805 - val_loss: 0.3729 - val_accuracy: 0.8497 - val_AUC: 0.7348\n",
      "5120/5120 [==============================] - 0s 59us/sample - loss: 0.3731 - accuracy: 0.8527 - AUC: 0.7444\n",
      "Train on 20480 samples, validate on 6400 samples\n",
      "Epoch 1/20\n",
      "20480/20480 [==============================] - 2s 81us/sample - loss: 0.4043 - accuracy: 0.8509 - AUC: 0.6376 - val_loss: 0.3792 - val_accuracy: 0.8555 - val_AUC: 0.7148\n",
      "Epoch 2/20\n",
      "20480/20480 [==============================] - 1s 51us/sample - loss: 0.3796 - accuracy: 0.8538 - AUC: 0.7150 - val_loss: 0.3735 - val_accuracy: 0.8541 - val_AUC: 0.7294\n",
      "Epoch 3/20\n",
      "20480/20480 [==============================] - 1s 58us/sample - loss: 0.3690 - accuracy: 0.8551 - AUC: 0.7425 - val_loss: 0.3720 - val_accuracy: 0.8564 - val_AUC: 0.7364\n",
      "Epoch 4/20\n",
      "20480/20480 [==============================] - 1s 66us/sample - loss: 0.3637 - accuracy: 0.8564 - AUC: 0.7531 - val_loss: 0.3762 - val_accuracy: 0.8556 - val_AUC: 0.7355\n",
      "Epoch 5/20\n",
      "20480/20480 [==============================] - 1s 58us/sample - loss: 0.3616 - accuracy: 0.8562 - AUC: 0.7576 - val_loss: 0.3692 - val_accuracy: 0.8547 - val_AUC: 0.7387\n",
      "Epoch 6/20\n",
      "20480/20480 [==============================] - 1s 59us/sample - loss: 0.3584 - accuracy: 0.8579 - AUC: 0.7635 - val_loss: 0.3669 - val_accuracy: 0.8556 - val_AUC: 0.7399\n",
      "Epoch 7/20\n",
      "20480/20480 [==============================] - 1s 58us/sample - loss: 0.3546 - accuracy: 0.8586 - AUC: 0.7701 - val_loss: 0.3755 - val_accuracy: 0.8520 - val_AUC: 0.7309\n",
      "Epoch 8/20\n",
      "20480/20480 [==============================] - 1s 57us/sample - loss: 0.3507 - accuracy: 0.8597 - AUC: 0.7774 - val_loss: 0.3726 - val_accuracy: 0.8559 - val_AUC: 0.7298\n",
      "Epoch 9/20\n",
      "20480/20480 [==============================] - 1s 57us/sample - loss: 0.3467 - accuracy: 0.8610 - AUC: 0.7838 - val_loss: 0.3733 - val_accuracy: 0.8556 - val_AUC: 0.7281\n",
      "Epoch 10/20\n",
      "20480/20480 [==============================] - 1s 60us/sample - loss: 0.3428 - accuracy: 0.8634 - AUC: 0.7900 - val_loss: 0.3814 - val_accuracy: 0.8458 - val_AUC: 0.7227\n",
      "Epoch 11/20\n",
      "20480/20480 [==============================] - 1s 57us/sample - loss: 0.3395 - accuracy: 0.8624 - AUC: 0.7964 - val_loss: 0.3932 - val_accuracy: 0.8388 - val_AUC: 0.7217\n",
      "5120/5120 [==============================] - 0s 63us/sample - loss: 0.3606 - accuracy: 0.8580 - AUC: 0.7476\n",
      "Train on 20480 samples, validate on 6400 samples\n",
      "Epoch 1/20\n",
      "20480/20480 [==============================] - 2s 99us/sample - loss: 0.4002 - accuracy: 0.8524 - AUC: 0.6478 - val_loss: 0.3829 - val_accuracy: 0.8556 - val_AUC: 0.7036\n",
      "Epoch 2/20\n",
      "20480/20480 [==============================] - 1s 52us/sample - loss: 0.3772 - accuracy: 0.8553 - AUC: 0.7167 - val_loss: 0.3752 - val_accuracy: 0.8525 - val_AUC: 0.7274\n",
      "Epoch 3/20\n"
     ]
    },
    {
     "name": "stdout",
     "output_type": "stream",
     "text": [
      "20480/20480 [==============================] - 1s 51us/sample - loss: 0.3664 - accuracy: 0.8552 - AUC: 0.7445 - val_loss: 0.3744 - val_accuracy: 0.8530 - val_AUC: 0.7311\n",
      "Epoch 4/20\n",
      "20480/20480 [==============================] - 1s 59us/sample - loss: 0.3620 - accuracy: 0.8568 - AUC: 0.7531 - val_loss: 0.3684 - val_accuracy: 0.8566 - val_AUC: 0.7342\n",
      "Epoch 5/20\n",
      "20480/20480 [==============================] - 1s 60us/sample - loss: 0.3569 - accuracy: 0.8570 - AUC: 0.7632 - val_loss: 0.3714 - val_accuracy: 0.8564 - val_AUC: 0.7303\n",
      "Epoch 6/20\n",
      "20480/20480 [==============================] - 1s 53us/sample - loss: 0.3528 - accuracy: 0.8599 - AUC: 0.7711 - val_loss: 0.3798 - val_accuracy: 0.8486 - val_AUC: 0.7279\n",
      "Epoch 7/20\n",
      "20480/20480 [==============================] - 1s 56us/sample - loss: 0.3479 - accuracy: 0.8611 - AUC: 0.7801 - val_loss: 0.3743 - val_accuracy: 0.8544 - val_AUC: 0.7240\n",
      "Epoch 8/20\n",
      "20480/20480 [==============================] - 1s 54us/sample - loss: 0.3445 - accuracy: 0.8624 - AUC: 0.7843 - val_loss: 0.3794 - val_accuracy: 0.8544 - val_AUC: 0.7287\n",
      "Epoch 9/20\n",
      "20480/20480 [==============================] - 1s 55us/sample - loss: 0.3415 - accuracy: 0.8641 - AUC: 0.7902 - val_loss: 0.3831 - val_accuracy: 0.8444 - val_AUC: 0.7287\n",
      "5120/5120 [==============================] - 0s 62us/sample - loss: 0.3720 - accuracy: 0.8562 - AUC: 0.7347\n",
      "Train on 20480 samples, validate on 6400 samples\n",
      "Epoch 1/20\n",
      "20480/20480 [==============================] - 2s 88us/sample - loss: 0.3998 - accuracy: 0.8531 - AUC: 0.6496 - val_loss: 0.3758 - val_accuracy: 0.8556 - val_AUC: 0.7228\n",
      "Epoch 2/20\n",
      "20480/20480 [==============================] - 1s 57us/sample - loss: 0.3763 - accuracy: 0.8558 - AUC: 0.7155 - val_loss: 0.3720 - val_accuracy: 0.8544 - val_AUC: 0.7287\n",
      "Epoch 3/20\n",
      "20480/20480 [==============================] - 1s 58us/sample - loss: 0.3684 - accuracy: 0.8569 - AUC: 0.7364 - val_loss: 0.3714 - val_accuracy: 0.8556 - val_AUC: 0.7357\n",
      "Epoch 4/20\n",
      "20480/20480 [==============================] - 1s 55us/sample - loss: 0.3625 - accuracy: 0.8584 - AUC: 0.7492 - val_loss: 0.3692 - val_accuracy: 0.8553 - val_AUC: 0.7335\n",
      "Epoch 5/20\n",
      "20480/20480 [==============================] - 1s 56us/sample - loss: 0.3589 - accuracy: 0.8589 - AUC: 0.7579 - val_loss: 0.3697 - val_accuracy: 0.8558 - val_AUC: 0.7360\n",
      "Epoch 6/20\n",
      "20480/20480 [==============================] - 1s 58us/sample - loss: 0.3572 - accuracy: 0.8591 - AUC: 0.7609 - val_loss: 0.3685 - val_accuracy: 0.8556 - val_AUC: 0.7357\n",
      "Epoch 7/20\n",
      "20480/20480 [==============================] - 1s 56us/sample - loss: 0.3526 - accuracy: 0.8616 - AUC: 0.7684 - val_loss: 0.3740 - val_accuracy: 0.8556 - val_AUC: 0.7282\n",
      "Epoch 8/20\n",
      "20480/20480 [==============================] - 1s 56us/sample - loss: 0.3474 - accuracy: 0.8626 - AUC: 0.7781 - val_loss: 0.3808 - val_accuracy: 0.8487 - val_AUC: 0.7241\n",
      "Epoch 9/20\n",
      "20480/20480 [==============================] - 1s 56us/sample - loss: 0.3461 - accuracy: 0.8640 - AUC: 0.7795 - val_loss: 0.3726 - val_accuracy: 0.8542 - val_AUC: 0.7333\n",
      "Epoch 10/20\n",
      "20480/20480 [==============================] - 1s 59us/sample - loss: 0.3386 - accuracy: 0.8676 - AUC: 0.7923 - val_loss: 0.3813 - val_accuracy: 0.8555 - val_AUC: 0.7291\n",
      "Epoch 11/20\n",
      "20480/20480 [==============================] - 1s 58us/sample - loss: 0.3333 - accuracy: 0.8685 - AUC: 0.7993 - val_loss: 0.3834 - val_accuracy: 0.8502 - val_AUC: 0.7155\n",
      "5120/5120 [==============================] - 0s 62us/sample - loss: 0.3710 - accuracy: 0.8496 - AUC: 0.7506\n",
      "Train on 20480 samples, validate on 6400 samples\n",
      "Epoch 1/20\n",
      "20480/20480 [==============================] - 2s 84us/sample - loss: 0.4004 - accuracy: 0.8513 - AUC: 0.6515 - val_loss: 0.3839 - val_accuracy: 0.8552 - val_AUC: 0.7274\n",
      "Epoch 2/20\n",
      "20480/20480 [==============================] - 1s 55us/sample - loss: 0.3782 - accuracy: 0.8537 - AUC: 0.7178 - val_loss: 0.3694 - val_accuracy: 0.8586 - val_AUC: 0.7344\n",
      "Epoch 3/20\n",
      "20480/20480 [==============================] - 1s 55us/sample - loss: 0.3713 - accuracy: 0.8552 - AUC: 0.7357 - val_loss: 0.3673 - val_accuracy: 0.8570 - val_AUC: 0.7369\n",
      "Epoch 4/20\n",
      "20480/20480 [==============================] - 1s 54us/sample - loss: 0.3673 - accuracy: 0.8559 - AUC: 0.7448 - val_loss: 0.3746 - val_accuracy: 0.8566 - val_AUC: 0.7349\n",
      "Epoch 5/20\n",
      "20480/20480 [==============================] - 1s 56us/sample - loss: 0.3619 - accuracy: 0.8581 - AUC: 0.7546 - val_loss: 0.3708 - val_accuracy: 0.8566 - val_AUC: 0.7323\n",
      "Epoch 6/20\n",
      "20480/20480 [==============================] - 1s 54us/sample - loss: 0.3604 - accuracy: 0.8580 - AUC: 0.7587 - val_loss: 0.3673 - val_accuracy: 0.8569 - val_AUC: 0.7375\n",
      "Epoch 7/20\n",
      "20480/20480 [==============================] - 1s 54us/sample - loss: 0.3566 - accuracy: 0.8595 - AUC: 0.7657 - val_loss: 0.3777 - val_accuracy: 0.8562 - val_AUC: 0.7323\n",
      "Epoch 8/20\n",
      "20480/20480 [==============================] - 1s 56us/sample - loss: 0.3536 - accuracy: 0.8593 - AUC: 0.7715 - val_loss: 0.3845 - val_accuracy: 0.8558 - val_AUC: 0.7135\n",
      "5120/5120 [==============================] - 0s 62us/sample - loss: 0.3566 - accuracy: 0.8615 - AUC: 0.7616\n",
      "Train on 20480 samples, validate on 6400 samples\n",
      "Epoch 1/20\n",
      "20480/20480 [==============================] - 2s 89us/sample - loss: 0.3987 - accuracy: 0.8533 - AUC: 0.6512 - val_loss: 0.3907 - val_accuracy: 0.8548 - val_AUC: 0.7106\n",
      "Epoch 2/20\n",
      "20480/20480 [==============================] - 1s 57us/sample - loss: 0.3742 - accuracy: 0.8546 - AUC: 0.7267 - val_loss: 0.3808 - val_accuracy: 0.8511 - val_AUC: 0.7230\n",
      "Epoch 3/20\n",
      "20480/20480 [==============================] - 1s 56us/sample - loss: 0.3672 - accuracy: 0.8556 - AUC: 0.7410 - val_loss: 0.3698 - val_accuracy: 0.8567 - val_AUC: 0.7307\n",
      "Epoch 4/20\n",
      "20480/20480 [==============================] - 1s 58us/sample - loss: 0.3635 - accuracy: 0.8563 - AUC: 0.7489 - val_loss: 0.3718 - val_accuracy: 0.8536 - val_AUC: 0.7318\n",
      "Epoch 5/20\n",
      "20480/20480 [==============================] - 1s 56us/sample - loss: 0.3596 - accuracy: 0.8577 - AUC: 0.7566 - val_loss: 0.3685 - val_accuracy: 0.8530 - val_AUC: 0.7367\n",
      "Epoch 6/20\n",
      "20480/20480 [==============================] - 1s 54us/sample - loss: 0.3561 - accuracy: 0.8608 - AUC: 0.7612 - val_loss: 0.3696 - val_accuracy: 0.8553 - val_AUC: 0.7354\n",
      "Epoch 7/20\n",
      "20480/20480 [==============================] - 1s 54us/sample - loss: 0.3518 - accuracy: 0.8610 - AUC: 0.7704 - val_loss: 0.3787 - val_accuracy: 0.8514 - val_AUC: 0.7312\n",
      "Epoch 8/20\n",
      "20480/20480 [==============================] - 1s 54us/sample - loss: 0.3487 - accuracy: 0.8641 - AUC: 0.7755 - val_loss: 0.3755 - val_accuracy: 0.8531 - val_AUC: 0.7304\n",
      "Epoch 9/20\n",
      "20480/20480 [==============================] - 1s 54us/sample - loss: 0.3434 - accuracy: 0.8647 - AUC: 0.7843 - val_loss: 0.3790 - val_accuracy: 0.8492 - val_AUC: 0.7314\n",
      "Epoch 10/20\n",
      "20480/20480 [==============================] - 1s 55us/sample - loss: 0.3402 - accuracy: 0.8656 - AUC: 0.7900 - val_loss: 0.3844 - val_accuracy: 0.8500 - val_AUC: 0.7209\n",
      "5120/5120 [==============================] - 0s 61us/sample - loss: 0.3720 - accuracy: 0.8518 - AUC: 0.7433\n",
      "Train on 20480 samples, validate on 6400 samples\n",
      "Epoch 1/20\n",
      "20480/20480 [==============================] - 2s 104us/sample - loss: 0.4005 - accuracy: 0.8513 - AUC: 0.6530 - val_loss: 0.3773 - val_accuracy: 0.8564 - val_AUC: 0.7116\n",
      "Epoch 2/20\n",
      "20480/20480 [==============================] - 1s 61us/sample - loss: 0.3785 - accuracy: 0.8518 - AUC: 0.7222 - val_loss: 0.3709 - val_accuracy: 0.8566 - val_AUC: 0.7286\n",
      "Epoch 3/20\n",
      "20480/20480 [==============================] - 1s 63us/sample - loss: 0.3692 - accuracy: 0.8546 - AUC: 0.7414 - val_loss: 0.3694 - val_accuracy: 0.8564 - val_AUC: 0.7337\n",
      "Epoch 4/20\n",
      "20480/20480 [==============================] - 1s 62us/sample - loss: 0.3663 - accuracy: 0.8562 - AUC: 0.7484 - val_loss: 0.3799 - val_accuracy: 0.8578 - val_AUC: 0.7333\n",
      "Epoch 5/20\n",
      "20480/20480 [==============================] - 1s 59us/sample - loss: 0.3619 - accuracy: 0.8569 - AUC: 0.7564 - val_loss: 0.3692 - val_accuracy: 0.8561 - val_AUC: 0.7342\n",
      "Epoch 6/20\n",
      "20480/20480 [==============================] - 1s 63us/sample - loss: 0.3576 - accuracy: 0.8576 - AUC: 0.7644 - val_loss: 0.3703 - val_accuracy: 0.8586 - val_AUC: 0.7341\n"
     ]
    },
    {
     "name": "stdout",
     "output_type": "stream",
     "text": [
      "Epoch 7/20\n",
      "20480/20480 [==============================] - 1s 60us/sample - loss: 0.3545 - accuracy: 0.8589 - AUC: 0.7713 - val_loss: 0.3723 - val_accuracy: 0.8572 - val_AUC: 0.7291\n",
      "Epoch 8/20\n",
      "20480/20480 [==============================] - 1s 58us/sample - loss: 0.3514 - accuracy: 0.8610 - AUC: 0.7749 - val_loss: 0.3711 - val_accuracy: 0.8562 - val_AUC: 0.7308\n",
      "Epoch 9/20\n",
      "20480/20480 [==============================] - 1s 61us/sample - loss: 0.3459 - accuracy: 0.8629 - AUC: 0.7841 - val_loss: 0.3763 - val_accuracy: 0.8556 - val_AUC: 0.7262\n",
      "Epoch 10/20\n",
      "20480/20480 [==============================] - 1s 61us/sample - loss: 0.3419 - accuracy: 0.8638 - AUC: 0.7919 - val_loss: 0.3912 - val_accuracy: 0.8573 - val_AUC: 0.7262\n",
      "5120/5120 [==============================] - 0s 67us/sample - loss: 0.3639 - accuracy: 0.8578 - AUC: 0.7426\n",
      "Train on 20480 samples, validate on 6400 samples\n",
      "Epoch 1/20\n",
      "20480/20480 [==============================] - 2s 99us/sample - loss: 0.4027 - accuracy: 0.8518 - AUC: 0.6426 - val_loss: 0.3828 - val_accuracy: 0.8550 - val_AUC: 0.7184\n",
      "Epoch 2/20\n",
      "20480/20480 [==============================] - 1s 60us/sample - loss: 0.3744 - accuracy: 0.8553 - AUC: 0.7253 - val_loss: 0.3734 - val_accuracy: 0.8556 - val_AUC: 0.7333\n",
      "Epoch 3/20\n",
      "20480/20480 [==============================] - 1s 59us/sample - loss: 0.3674 - accuracy: 0.8567 - AUC: 0.7408 - val_loss: 0.3753 - val_accuracy: 0.8511 - val_AUC: 0.7280\n",
      "Epoch 4/20\n",
      "20480/20480 [==============================] - 1s 60us/sample - loss: 0.3623 - accuracy: 0.8566 - AUC: 0.7515 - val_loss: 0.3721 - val_accuracy: 0.8562 - val_AUC: 0.7264\n",
      "Epoch 5/20\n",
      "20480/20480 [==============================] - 1s 60us/sample - loss: 0.3574 - accuracy: 0.8591 - AUC: 0.7613 - val_loss: 0.3720 - val_accuracy: 0.8537 - val_AUC: 0.7305\n",
      "Epoch 6/20\n",
      "20480/20480 [==============================] - 1s 60us/sample - loss: 0.3551 - accuracy: 0.8598 - AUC: 0.7664 - val_loss: 0.3765 - val_accuracy: 0.8561 - val_AUC: 0.7316\n",
      "Epoch 7/20\n",
      "20480/20480 [==============================] - 1s 62us/sample - loss: 0.3513 - accuracy: 0.8606 - AUC: 0.7735 - val_loss: 0.3810 - val_accuracy: 0.8439 - val_AUC: 0.7304\n",
      "Epoch 8/20\n",
      "20480/20480 [==============================] - 1s 60us/sample - loss: 0.3474 - accuracy: 0.8616 - AUC: 0.7816 - val_loss: 0.3778 - val_accuracy: 0.8556 - val_AUC: 0.7311\n",
      "Epoch 9/20\n",
      "20480/20480 [==============================] - 1s 60us/sample - loss: 0.3418 - accuracy: 0.8646 - AUC: 0.7899 - val_loss: 0.3834 - val_accuracy: 0.8481 - val_AUC: 0.7191\n",
      "Epoch 10/20\n",
      "20480/20480 [==============================] - 1s 60us/sample - loss: 0.3365 - accuracy: 0.8669 - AUC: 0.7967 - val_loss: 0.3842 - val_accuracy: 0.8458 - val_AUC: 0.7249\n",
      "5120/5120 [==============================] - 0s 63us/sample - loss: 0.3725 - accuracy: 0.8568 - AUC: 0.7345\n",
      "Train on 20480 samples, validate on 6400 samples\n",
      "Epoch 1/20\n",
      "20480/20480 [==============================] - 2s 90us/sample - loss: 0.4001 - accuracy: 0.8537 - AUC: 0.6469 - val_loss: 0.3763 - val_accuracy: 0.8547 - val_AUC: 0.7183\n",
      "Epoch 2/20\n",
      "20480/20480 [==============================] - 1s 57us/sample - loss: 0.3767 - accuracy: 0.8544 - AUC: 0.7190 - val_loss: 0.3703 - val_accuracy: 0.8544 - val_AUC: 0.7325\n",
      "Epoch 3/20\n",
      "20480/20480 [==============================] - 1s 57us/sample - loss: 0.3688 - accuracy: 0.8577 - AUC: 0.7346 - val_loss: 0.3732 - val_accuracy: 0.8530 - val_AUC: 0.7388\n",
      "Epoch 4/20\n",
      "20480/20480 [==============================] - 1s 57us/sample - loss: 0.3645 - accuracy: 0.8576 - AUC: 0.7446 - val_loss: 0.3662 - val_accuracy: 0.8541 - val_AUC: 0.7430\n",
      "Epoch 5/20\n",
      "20480/20480 [==============================] - 1s 57us/sample - loss: 0.3586 - accuracy: 0.8585 - AUC: 0.7578 - val_loss: 0.3832 - val_accuracy: 0.8422 - val_AUC: 0.7360\n",
      "Epoch 6/20\n",
      "20480/20480 [==============================] - 1s 58us/sample - loss: 0.3543 - accuracy: 0.8609 - AUC: 0.7655 - val_loss: 0.3725 - val_accuracy: 0.8553 - val_AUC: 0.7336\n",
      "Epoch 7/20\n",
      "20480/20480 [==============================] - 1s 57us/sample - loss: 0.3528 - accuracy: 0.8605 - AUC: 0.7676 - val_loss: 0.3762 - val_accuracy: 0.8570 - val_AUC: 0.7329\n",
      "Epoch 8/20\n",
      "20480/20480 [==============================] - 1s 57us/sample - loss: 0.3463 - accuracy: 0.8625 - AUC: 0.7804 - val_loss: 0.3785 - val_accuracy: 0.8547 - val_AUC: 0.7235\n",
      "Epoch 9/20\n",
      "20480/20480 [==============================] - 1s 57us/sample - loss: 0.3434 - accuracy: 0.8639 - AUC: 0.7857 - val_loss: 0.3754 - val_accuracy: 0.8550 - val_AUC: 0.7257\n",
      "5120/5120 [==============================] - 0s 61us/sample - loss: 0.3677 - accuracy: 0.8533 - AUC: 0.7531\n",
      "Train on 20480 samples, validate on 6400 samples\n",
      "Epoch 1/20\n",
      "20480/20480 [==============================] - 2s 90us/sample - loss: 0.4023 - accuracy: 0.8521 - AUC: 0.6461 - val_loss: 0.3782 - val_accuracy: 0.8548 - val_AUC: 0.7115\n",
      "Epoch 2/20\n",
      "20480/20480 [==============================] - 1s 61us/sample - loss: 0.3799 - accuracy: 0.8536 - AUC: 0.7157 - val_loss: 0.3716 - val_accuracy: 0.8564 - val_AUC: 0.7267\n",
      "Epoch 3/20\n",
      "20480/20480 [==============================] - 1s 62us/sample - loss: 0.3692 - accuracy: 0.8561 - AUC: 0.7376 - val_loss: 0.3821 - val_accuracy: 0.8561 - val_AUC: 0.7332\n",
      "Epoch 4/20\n",
      "20480/20480 [==============================] - 1s 60us/sample - loss: 0.3652 - accuracy: 0.8567 - AUC: 0.7481 - val_loss: 0.3857 - val_accuracy: 0.8573 - val_AUC: 0.7283\n",
      "Epoch 5/20\n",
      "20480/20480 [==============================] - 1s 62us/sample - loss: 0.3623 - accuracy: 0.8581 - AUC: 0.7536 - val_loss: 0.3702 - val_accuracy: 0.8566 - val_AUC: 0.7345\n",
      "Epoch 6/20\n",
      "20480/20480 [==============================] - 1s 60us/sample - loss: 0.3584 - accuracy: 0.8595 - AUC: 0.7604 - val_loss: 0.3713 - val_accuracy: 0.8562 - val_AUC: 0.7311\n",
      "Epoch 7/20\n",
      "20480/20480 [==============================] - 1s 62us/sample - loss: 0.3546 - accuracy: 0.8586 - AUC: 0.7693 - val_loss: 0.3760 - val_accuracy: 0.8545 - val_AUC: 0.7306\n",
      "Epoch 8/20\n",
      "20480/20480 [==============================] - 1s 63us/sample - loss: 0.3492 - accuracy: 0.8612 - AUC: 0.7786 - val_loss: 0.3773 - val_accuracy: 0.8562 - val_AUC: 0.7199\n",
      "Epoch 9/20\n",
      "20480/20480 [==============================] - 1s 65us/sample - loss: 0.3430 - accuracy: 0.8635 - AUC: 0.7901 - val_loss: 0.3844 - val_accuracy: 0.8509 - val_AUC: 0.7134\n",
      "Epoch 10/20\n",
      "20480/20480 [==============================] - 1s 66us/sample - loss: 0.3383 - accuracy: 0.8657 - AUC: 0.7951 - val_loss: 0.3853 - val_accuracy: 0.8517 - val_AUC: 0.7087\n",
      "5120/5120 [==============================] - 0s 72us/sample - loss: 0.3616 - accuracy: 0.8559 - AUC: 0.7552\n",
      "Train on 20480 samples, validate on 6400 samples\n",
      "Epoch 1/20\n",
      "20480/20480 [==============================] - 2s 106us/sample - loss: 0.3982 - accuracy: 0.8532 - AUC: 0.6529 - val_loss: 0.3788 - val_accuracy: 0.8562 - val_AUC: 0.7184\n",
      "Epoch 2/20\n",
      "20480/20480 [==============================] - 1s 67us/sample - loss: 0.3753 - accuracy: 0.8542 - AUC: 0.7207 - val_loss: 0.3686 - val_accuracy: 0.8566 - val_AUC: 0.7388\n",
      "Epoch 3/20\n",
      "20480/20480 [==============================] - 1s 65us/sample - loss: 0.3671 - accuracy: 0.8562 - AUC: 0.7431 - val_loss: 0.3777 - val_accuracy: 0.8566 - val_AUC: 0.7272\n",
      "Epoch 4/20\n",
      "20480/20480 [==============================] - 1s 69us/sample - loss: 0.3616 - accuracy: 0.8569 - AUC: 0.7532 - val_loss: 0.3675 - val_accuracy: 0.8566 - val_AUC: 0.7350\n",
      "Epoch 5/20\n",
      "20480/20480 [==============================] - 1s 64us/sample - loss: 0.3566 - accuracy: 0.8596 - AUC: 0.7628 - val_loss: 0.3723 - val_accuracy: 0.8537 - val_AUC: 0.7320\n",
      "Epoch 6/20\n",
      "20480/20480 [==============================] - 1s 68us/sample - loss: 0.3519 - accuracy: 0.8609 - AUC: 0.7714 - val_loss: 0.3735 - val_accuracy: 0.8531 - val_AUC: 0.7340\n",
      "Epoch 7/20\n",
      "20480/20480 [==============================] - 1s 65us/sample - loss: 0.3483 - accuracy: 0.8618 - AUC: 0.7790 - val_loss: 0.3726 - val_accuracy: 0.8559 - val_AUC: 0.7403\n",
      "Epoch 8/20\n",
      "20480/20480 [==============================] - 1s 65us/sample - loss: 0.3433 - accuracy: 0.8637 - AUC: 0.7858 - val_loss: 0.3782 - val_accuracy: 0.8550 - val_AUC: 0.7291\n",
      "Epoch 9/20\n",
      "20480/20480 [==============================] - 1s 67us/sample - loss: 0.3388 - accuracy: 0.8643 - AUC: 0.7943 - val_loss: 0.3749 - val_accuracy: 0.8555 - val_AUC: 0.7304\n"
     ]
    },
    {
     "name": "stdout",
     "output_type": "stream",
     "text": [
      "5120/5120 [==============================] - 0s 67us/sample - loss: 0.3726 - accuracy: 0.8531 - AUC: 0.7376\n",
      "Train on 20480 samples, validate on 6400 samples\n",
      "Epoch 1/20\n",
      "20480/20480 [==============================] - 2s 97us/sample - loss: 0.4030 - accuracy: 0.8508 - AUC: 0.6463 - val_loss: 0.3992 - val_accuracy: 0.8548 - val_AUC: 0.7176\n",
      "Epoch 2/20\n",
      "20480/20480 [==============================] - 1s 59us/sample - loss: 0.3787 - accuracy: 0.8536 - AUC: 0.7190 - val_loss: 0.3706 - val_accuracy: 0.8570 - val_AUC: 0.7317\n",
      "Epoch 3/20\n",
      "20480/20480 [==============================] - 1s 67us/sample - loss: 0.3678 - accuracy: 0.8553 - AUC: 0.7444 - val_loss: 0.3727 - val_accuracy: 0.8545 - val_AUC: 0.7251\n",
      "Epoch 4/20\n",
      "20480/20480 [==============================] - 1s 59us/sample - loss: 0.3649 - accuracy: 0.8560 - AUC: 0.7508 - val_loss: 0.3690 - val_accuracy: 0.8562 - val_AUC: 0.7325\n",
      "Epoch 5/20\n",
      "20480/20480 [==============================] - 1s 61us/sample - loss: 0.3605 - accuracy: 0.8578 - AUC: 0.7589 - val_loss: 0.3708 - val_accuracy: 0.8566 - val_AUC: 0.7332\n",
      "Epoch 6/20\n",
      "20480/20480 [==============================] - 1s 60us/sample - loss: 0.3564 - accuracy: 0.8588 - AUC: 0.7661 - val_loss: 0.3756 - val_accuracy: 0.8486 - val_AUC: 0.7284\n",
      "Epoch 7/20\n",
      "20480/20480 [==============================] - 1s 62us/sample - loss: 0.3530 - accuracy: 0.8607 - AUC: 0.7725 - val_loss: 0.3812 - val_accuracy: 0.8489 - val_AUC: 0.7289\n",
      "Epoch 8/20\n",
      "20480/20480 [==============================] - 1s 59us/sample - loss: 0.3490 - accuracy: 0.8600 - AUC: 0.7796 - val_loss: 0.3784 - val_accuracy: 0.8577 - val_AUC: 0.7195\n",
      "Epoch 9/20\n",
      "20480/20480 [==============================] - 1s 60us/sample - loss: 0.3425 - accuracy: 0.8625 - AUC: 0.7913 - val_loss: 0.3827 - val_accuracy: 0.8520 - val_AUC: 0.7179\n",
      "5120/5120 [==============================] - 0s 64us/sample - loss: 0.3591 - accuracy: 0.8607 - AUC: 0.7499\n",
      "Train on 20480 samples, validate on 6400 samples\n",
      "Epoch 1/20\n",
      "20480/20480 [==============================] - 2s 102us/sample - loss: 0.3991 - accuracy: 0.8530 - AUC: 0.6510 - val_loss: 0.3802 - val_accuracy: 0.8552 - val_AUC: 0.7153\n",
      "Epoch 2/20\n",
      "20480/20480 [==============================] - 1s 62us/sample - loss: 0.3766 - accuracy: 0.8548 - AUC: 0.7197 - val_loss: 0.3745 - val_accuracy: 0.8519 - val_AUC: 0.7283\n",
      "Epoch 3/20\n",
      "20480/20480 [==============================] - 1s 59us/sample - loss: 0.3667 - accuracy: 0.8561 - AUC: 0.7440 - val_loss: 0.3734 - val_accuracy: 0.8534 - val_AUC: 0.7244\n",
      "Epoch 4/20\n",
      "20480/20480 [==============================] - 1s 60us/sample - loss: 0.3623 - accuracy: 0.8585 - AUC: 0.7529 - val_loss: 0.3695 - val_accuracy: 0.8542 - val_AUC: 0.7343\n",
      "Epoch 5/20\n",
      "20480/20480 [==============================] - 1s 63us/sample - loss: 0.3565 - accuracy: 0.8582 - AUC: 0.7645 - val_loss: 0.3731 - val_accuracy: 0.8536 - val_AUC: 0.7272\n",
      "Epoch 6/20\n",
      "20480/20480 [==============================] - 1s 61us/sample - loss: 0.3555 - accuracy: 0.8595 - AUC: 0.7656 - val_loss: 0.3722 - val_accuracy: 0.8552 - val_AUC: 0.7290\n",
      "Epoch 7/20\n",
      "20480/20480 [==============================] - 1s 65us/sample - loss: 0.3517 - accuracy: 0.8598 - AUC: 0.7728 - val_loss: 0.3726 - val_accuracy: 0.8536 - val_AUC: 0.7294\n",
      "Epoch 8/20\n",
      "20480/20480 [==============================] - 1s 61us/sample - loss: 0.3454 - accuracy: 0.8617 - AUC: 0.7834 - val_loss: 0.3936 - val_accuracy: 0.8403 - val_AUC: 0.7217\n",
      "Epoch 9/20\n",
      "20480/20480 [==============================] - 1s 64us/sample - loss: 0.3427 - accuracy: 0.8639 - AUC: 0.7871 - val_loss: 0.3845 - val_accuracy: 0.8502 - val_AUC: 0.7184\n",
      "5120/5120 [==============================] - 0s 74us/sample - loss: 0.3686 - accuracy: 0.8568 - AUC: 0.7413\n",
      "Train on 20480 samples, validate on 6400 samples\n",
      "Epoch 1/20\n",
      "20480/20480 [==============================] - 2s 101us/sample - loss: 0.3959 - accuracy: 0.8537 - AUC: 0.6604 - val_loss: 0.3753 - val_accuracy: 0.8562 - val_AUC: 0.7198\n",
      "Epoch 2/20\n",
      "20480/20480 [==============================] - 1s 67us/sample - loss: 0.3756 - accuracy: 0.8547 - AUC: 0.7197 - val_loss: 0.3743 - val_accuracy: 0.8544 - val_AUC: 0.7252\n",
      "Epoch 3/20\n",
      "20480/20480 [==============================] - 1s 65us/sample - loss: 0.3677 - accuracy: 0.8564 - AUC: 0.7390 - val_loss: 0.3706 - val_accuracy: 0.8566 - val_AUC: 0.7311\n",
      "Epoch 4/20\n",
      "20480/20480 [==============================] - 1s 65us/sample - loss: 0.3626 - accuracy: 0.8574 - AUC: 0.7500 - val_loss: 0.3860 - val_accuracy: 0.8550 - val_AUC: 0.7363\n",
      "Epoch 5/20\n",
      "20480/20480 [==============================] - 1s 66us/sample - loss: 0.3586 - accuracy: 0.8595 - AUC: 0.7577 - val_loss: 0.3719 - val_accuracy: 0.8570 - val_AUC: 0.7351\n",
      "Epoch 6/20\n",
      "20480/20480 [==============================] - 1s 68us/sample - loss: 0.3550 - accuracy: 0.8592 - AUC: 0.7660 - val_loss: 0.3729 - val_accuracy: 0.8527 - val_AUC: 0.7308\n",
      "Epoch 7/20\n",
      "20480/20480 [==============================] - 1s 67us/sample - loss: 0.3507 - accuracy: 0.8633 - AUC: 0.7710 - val_loss: 0.3732 - val_accuracy: 0.8536 - val_AUC: 0.7290\n",
      "Epoch 8/20\n",
      "20480/20480 [==============================] - 1s 65us/sample - loss: 0.3462 - accuracy: 0.8626 - AUC: 0.7796 - val_loss: 0.3739 - val_accuracy: 0.8541 - val_AUC: 0.7244\n",
      "5120/5120 [==============================] - 0s 69us/sample - loss: 0.3732 - accuracy: 0.8518 - AUC: 0.7439\n",
      "Train on 20480 samples, validate on 6400 samples\n",
      "Epoch 1/20\n",
      "20480/20480 [==============================] - 2s 101us/sample - loss: 0.4050 - accuracy: 0.8510 - AUC: 0.6394 - val_loss: 0.3862 - val_accuracy: 0.8550 - val_AUC: 0.7072\n",
      "Epoch 2/20\n",
      "20480/20480 [==============================] - 1s 63us/sample - loss: 0.3795 - accuracy: 0.8539 - AUC: 0.7158 - val_loss: 0.3733 - val_accuracy: 0.8575 - val_AUC: 0.7304\n",
      "Epoch 3/20\n",
      "20480/20480 [==============================] - 1s 63us/sample - loss: 0.3715 - accuracy: 0.8542 - AUC: 0.7358 - val_loss: 0.3682 - val_accuracy: 0.8573 - val_AUC: 0.7325\n",
      "Epoch 4/20\n",
      "20480/20480 [==============================] - 1s 63us/sample - loss: 0.3643 - accuracy: 0.8564 - AUC: 0.7509 - val_loss: 0.3727 - val_accuracy: 0.8553 - val_AUC: 0.7261\n",
      "Epoch 5/20\n",
      "20480/20480 [==============================] - 1s 64us/sample - loss: 0.3602 - accuracy: 0.8575 - AUC: 0.7591 - val_loss: 0.3700 - val_accuracy: 0.8553 - val_AUC: 0.7302\n",
      "Epoch 6/20\n",
      "20480/20480 [==============================] - 1s 63us/sample - loss: 0.3552 - accuracy: 0.8594 - AUC: 0.7677 - val_loss: 0.3721 - val_accuracy: 0.8555 - val_AUC: 0.7289\n",
      "Epoch 7/20\n",
      "20480/20480 [==============================] - 1s 62us/sample - loss: 0.3538 - accuracy: 0.8604 - AUC: 0.7709 - val_loss: 0.3818 - val_accuracy: 0.8561 - val_AUC: 0.7244\n",
      "Epoch 8/20\n",
      "20480/20480 [==============================] - 1s 63us/sample - loss: 0.3456 - accuracy: 0.8636 - AUC: 0.7857 - val_loss: 0.3822 - val_accuracy: 0.8506 - val_AUC: 0.7076\n",
      "5120/5120 [==============================] - 0s 68us/sample - loss: 0.3617 - accuracy: 0.8561 - AUC: 0.7523\n",
      "Train on 20480 samples, validate on 6400 samples\n",
      "Epoch 1/20\n",
      "20480/20480 [==============================] - 2s 97us/sample - loss: 0.3977 - accuracy: 0.8534 - AUC: 0.6528 - val_loss: 0.3771 - val_accuracy: 0.8550 - val_AUC: 0.7142\n",
      "Epoch 2/20\n",
      "20480/20480 [==============================] - 1s 64us/sample - loss: 0.3758 - accuracy: 0.8542 - AUC: 0.7211 - val_loss: 0.3693 - val_accuracy: 0.8561 - val_AUC: 0.7342\n",
      "Epoch 3/20\n",
      "20480/20480 [==============================] - 1s 63us/sample - loss: 0.3674 - accuracy: 0.8558 - AUC: 0.7399 - val_loss: 0.3670 - val_accuracy: 0.8559 - val_AUC: 0.7362\n",
      "Epoch 4/20\n",
      "20480/20480 [==============================] - 1s 63us/sample - loss: 0.3629 - accuracy: 0.8576 - AUC: 0.7504 - val_loss: 0.3670 - val_accuracy: 0.8575 - val_AUC: 0.7389\n",
      "Epoch 5/20\n",
      "20480/20480 [==============================] - 1s 63us/sample - loss: 0.3581 - accuracy: 0.8589 - AUC: 0.7585 - val_loss: 0.3736 - val_accuracy: 0.8497 - val_AUC: 0.7333\n",
      "Epoch 6/20\n",
      "20480/20480 [==============================] - 1s 63us/sample - loss: 0.3542 - accuracy: 0.8605 - AUC: 0.7669 - val_loss: 0.3769 - val_accuracy: 0.8559 - val_AUC: 0.7338\n",
      "Epoch 7/20\n",
      "20480/20480 [==============================] - 1s 65us/sample - loss: 0.3493 - accuracy: 0.8611 - AUC: 0.7755 - val_loss: 0.4034 - val_accuracy: 0.8309 - val_AUC: 0.7163\n"
     ]
    },
    {
     "name": "stdout",
     "output_type": "stream",
     "text": [
      "Epoch 8/20\n",
      "20480/20480 [==============================] - 1s 65us/sample - loss: 0.3466 - accuracy: 0.8638 - AUC: 0.7786 - val_loss: 0.3760 - val_accuracy: 0.8544 - val_AUC: 0.7261\n",
      "Epoch 9/20\n",
      "20480/20480 [==============================] - 1s 64us/sample - loss: 0.3416 - accuracy: 0.8653 - AUC: 0.7855 - val_loss: 0.3772 - val_accuracy: 0.8561 - val_AUC: 0.7320\n",
      "5120/5120 [==============================] - 0s 69us/sample - loss: 0.3743 - accuracy: 0.8504 - AUC: 0.7416\n",
      "Train on 20480 samples, validate on 6400 samples\n",
      "Epoch 1/20\n",
      "20480/20480 [==============================] - 2s 100us/sample - loss: 0.4051 - accuracy: 0.8519 - AUC: 0.6381 - val_loss: 0.3761 - val_accuracy: 0.8548 - val_AUC: 0.7184\n",
      "Epoch 2/20\n",
      "20480/20480 [==============================] - 1s 65us/sample - loss: 0.3794 - accuracy: 0.8526 - AUC: 0.7177 - val_loss: 0.3845 - val_accuracy: 0.8559 - val_AUC: 0.7373\n",
      "Epoch 3/20\n",
      "20480/20480 [==============================] - 1s 63us/sample - loss: 0.3703 - accuracy: 0.8540 - AUC: 0.7393 - val_loss: 0.3697 - val_accuracy: 0.8567 - val_AUC: 0.7318\n",
      "Epoch 4/20\n",
      "20480/20480 [==============================] - 1s 62us/sample - loss: 0.3668 - accuracy: 0.8560 - AUC: 0.7458 - val_loss: 0.3918 - val_accuracy: 0.8475 - val_AUC: 0.7356\n",
      "Epoch 5/20\n",
      "20480/20480 [==============================] - 1s 63us/sample - loss: 0.3617 - accuracy: 0.8566 - AUC: 0.7563 - val_loss: 0.3784 - val_accuracy: 0.8577 - val_AUC: 0.7324\n",
      "Epoch 6/20\n",
      "20480/20480 [==============================] - 1s 63us/sample - loss: 0.3565 - accuracy: 0.8585 - AUC: 0.7665 - val_loss: 0.3744 - val_accuracy: 0.8562 - val_AUC: 0.7376\n",
      "Epoch 7/20\n",
      "20480/20480 [==============================] - 1s 62us/sample - loss: 0.3525 - accuracy: 0.8601 - AUC: 0.7734 - val_loss: 0.3702 - val_accuracy: 0.8572 - val_AUC: 0.7281\n",
      "Epoch 8/20\n",
      "20480/20480 [==============================] - 1s 62us/sample - loss: 0.3474 - accuracy: 0.8623 - AUC: 0.7814 - val_loss: 0.3741 - val_accuracy: 0.8577 - val_AUC: 0.7347\n",
      "5120/5120 [==============================] - 0s 65us/sample - loss: 0.3616 - accuracy: 0.8584 - AUC: 0.7421\n",
      "Train on 20480 samples, validate on 6400 samples\n",
      "Epoch 1/20\n",
      "20480/20480 [==============================] - 2s 94us/sample - loss: 0.4004 - accuracy: 0.8531 - AUC: 0.6479 - val_loss: 0.3790 - val_accuracy: 0.8552 - val_AUC: 0.7165\n",
      "Epoch 2/20\n",
      "20480/20480 [==============================] - 1s 61us/sample - loss: 0.3764 - accuracy: 0.8544 - AUC: 0.7195 - val_loss: 0.3724 - val_accuracy: 0.8533 - val_AUC: 0.7326\n",
      "Epoch 3/20\n",
      "20480/20480 [==============================] - 1s 60us/sample - loss: 0.3677 - accuracy: 0.8563 - AUC: 0.7417 - val_loss: 0.3811 - val_accuracy: 0.8517 - val_AUC: 0.7357\n",
      "Epoch 4/20\n",
      "20480/20480 [==============================] - 1s 60us/sample - loss: 0.3609 - accuracy: 0.8574 - AUC: 0.7550 - val_loss: 0.3897 - val_accuracy: 0.8547 - val_AUC: 0.7322\n",
      "Epoch 5/20\n",
      "20480/20480 [==============================] - 1s 60us/sample - loss: 0.3585 - accuracy: 0.8590 - AUC: 0.7586 - val_loss: 0.3739 - val_accuracy: 0.8547 - val_AUC: 0.7356\n",
      "Epoch 6/20\n",
      "20480/20480 [==============================] - 1s 60us/sample - loss: 0.3531 - accuracy: 0.8613 - AUC: 0.7685 - val_loss: 0.3736 - val_accuracy: 0.8533 - val_AUC: 0.7298\n",
      "Epoch 7/20\n",
      "20480/20480 [==============================] - 1s 62us/sample - loss: 0.3479 - accuracy: 0.8610 - AUC: 0.7783 - val_loss: 0.3762 - val_accuracy: 0.8516 - val_AUC: 0.7226\n",
      "5120/5120 [==============================] - 0s 69us/sample - loss: 0.3773 - accuracy: 0.8531 - AUC: 0.7268\n",
      "Train on 20480 samples, validate on 6400 samples\n",
      "Epoch 1/20\n",
      "20480/20480 [==============================] - 2s 107us/sample - loss: 0.3998 - accuracy: 0.8518 - AUC: 0.6483 - val_loss: 0.3771 - val_accuracy: 0.8567 - val_AUC: 0.7183\n",
      "Epoch 2/20\n",
      "20480/20480 [==============================] - 1s 55us/sample - loss: 0.3762 - accuracy: 0.8548 - AUC: 0.7203 - val_loss: 0.3695 - val_accuracy: 0.8566 - val_AUC: 0.7319\n",
      "Epoch 3/20\n",
      "20480/20480 [==============================] - 1s 57us/sample - loss: 0.3666 - accuracy: 0.8574 - AUC: 0.7394 - val_loss: 0.3705 - val_accuracy: 0.8533 - val_AUC: 0.7316\n",
      "Epoch 4/20\n",
      "20480/20480 [==============================] - 1s 56us/sample - loss: 0.3616 - accuracy: 0.8596 - AUC: 0.7509 - val_loss: 0.3713 - val_accuracy: 0.8527 - val_AUC: 0.7319\n",
      "Epoch 5/20\n",
      "20480/20480 [==============================] - 1s 55us/sample - loss: 0.3581 - accuracy: 0.8588 - AUC: 0.7578 - val_loss: 0.3688 - val_accuracy: 0.8572 - val_AUC: 0.7317\n",
      "Epoch 6/20\n",
      "20480/20480 [==============================] - 1s 56us/sample - loss: 0.3522 - accuracy: 0.8603 - AUC: 0.7705 - val_loss: 0.3783 - val_accuracy: 0.8569 - val_AUC: 0.7305\n",
      "Epoch 7/20\n",
      "20480/20480 [==============================] - 1s 56us/sample - loss: 0.3498 - accuracy: 0.8616 - AUC: 0.7743 - val_loss: 0.3787 - val_accuracy: 0.8516 - val_AUC: 0.7234\n",
      "Epoch 8/20\n",
      "20480/20480 [==============================] - 1s 56us/sample - loss: 0.3433 - accuracy: 0.8640 - AUC: 0.7850 - val_loss: 0.3794 - val_accuracy: 0.8536 - val_AUC: 0.7167\n",
      "Epoch 9/20\n",
      "20480/20480 [==============================] - 1s 57us/sample - loss: 0.3374 - accuracy: 0.8666 - AUC: 0.7954 - val_loss: 0.3839 - val_accuracy: 0.8508 - val_AUC: 0.7087\n",
      "Epoch 10/20\n",
      "20480/20480 [==============================] - 1s 56us/sample - loss: 0.3331 - accuracy: 0.8669 - AUC: 0.8023 - val_loss: 0.3914 - val_accuracy: 0.8514 - val_AUC: 0.7083\n",
      "5120/5120 [==============================] - 0s 64us/sample - loss: 0.3735 - accuracy: 0.8531 - AUC: 0.7421\n",
      "Train on 20480 samples, validate on 6400 samples\n",
      "Epoch 1/20\n",
      "20480/20480 [==============================] - 2s 90us/sample - loss: 0.4054 - accuracy: 0.8518 - AUC: 0.6334 - val_loss: 0.3929 - val_accuracy: 0.8547 - val_AUC: 0.7132\n",
      "Epoch 2/20\n",
      "20480/20480 [==============================] - 1s 56us/sample - loss: 0.3816 - accuracy: 0.8536 - AUC: 0.7092 - val_loss: 0.3749 - val_accuracy: 0.8537 - val_AUC: 0.7273\n",
      "Epoch 3/20\n",
      "20480/20480 [==============================] - 1s 55us/sample - loss: 0.3701 - accuracy: 0.8563 - AUC: 0.7349 - val_loss: 0.3790 - val_accuracy: 0.8527 - val_AUC: 0.7382\n",
      "Epoch 4/20\n",
      "20480/20480 [==============================] - 1s 55us/sample - loss: 0.3647 - accuracy: 0.8564 - AUC: 0.7488 - val_loss: 0.3777 - val_accuracy: 0.8486 - val_AUC: 0.7302\n",
      "Epoch 5/20\n",
      "20480/20480 [==============================] - 1s 56us/sample - loss: 0.3600 - accuracy: 0.8582 - AUC: 0.7585 - val_loss: 0.3732 - val_accuracy: 0.8564 - val_AUC: 0.7320\n",
      "Epoch 6/20\n",
      "20480/20480 [==============================] - 1s 56us/sample - loss: 0.3571 - accuracy: 0.8589 - AUC: 0.7641 - val_loss: 0.3803 - val_accuracy: 0.8484 - val_AUC: 0.7304\n",
      "Epoch 7/20\n",
      "20480/20480 [==============================] - 1s 56us/sample - loss: 0.3529 - accuracy: 0.8597 - AUC: 0.7709 - val_loss: 0.3734 - val_accuracy: 0.8544 - val_AUC: 0.7271\n",
      "Epoch 8/20\n",
      "20480/20480 [==============================] - 1s 57us/sample - loss: 0.3475 - accuracy: 0.8628 - AUC: 0.7801 - val_loss: 0.3804 - val_accuracy: 0.8514 - val_AUC: 0.7213\n",
      "Epoch 9/20\n",
      "20480/20480 [==============================] - 1s 58us/sample - loss: 0.3448 - accuracy: 0.8621 - AUC: 0.7863 - val_loss: 0.3785 - val_accuracy: 0.8480 - val_AUC: 0.7294\n",
      "Epoch 10/20\n",
      "20480/20480 [==============================] - 1s 57us/sample - loss: 0.3390 - accuracy: 0.8656 - AUC: 0.7946 - val_loss: 0.3841 - val_accuracy: 0.8417 - val_AUC: 0.7234\n",
      "5120/5120 [==============================] - 0s 63us/sample - loss: 0.3648 - accuracy: 0.8578 - AUC: 0.7552\n",
      "Train on 20480 samples, validate on 6400 samples\n",
      "Epoch 1/20\n",
      "20480/20480 [==============================] - 2s 95us/sample - loss: 0.4047 - accuracy: 0.8517 - AUC: 0.6294 - val_loss: 0.3796 - val_accuracy: 0.8545 - val_AUC: 0.7125\n",
      "Epoch 2/20\n",
      "20480/20480 [==============================] - 1s 56us/sample - loss: 0.3753 - accuracy: 0.8543 - AUC: 0.7214 - val_loss: 0.3748 - val_accuracy: 0.8555 - val_AUC: 0.7345\n",
      "Epoch 3/20\n",
      "20480/20480 [==============================] - 1s 57us/sample - loss: 0.3681 - accuracy: 0.8563 - AUC: 0.7381 - val_loss: 0.3877 - val_accuracy: 0.8505 - val_AUC: 0.7367\n",
      "Epoch 4/20\n",
      "20480/20480 [==============================] - 1s 56us/sample - loss: 0.3622 - accuracy: 0.8587 - AUC: 0.7502 - val_loss: 0.3652 - val_accuracy: 0.8586 - val_AUC: 0.7407\n"
     ]
    },
    {
     "name": "stdout",
     "output_type": "stream",
     "text": [
      "Epoch 5/20\n",
      "20480/20480 [==============================] - 1s 56us/sample - loss: 0.3596 - accuracy: 0.8581 - AUC: 0.7560 - val_loss: 0.3744 - val_accuracy: 0.8570 - val_AUC: 0.7389\n",
      "Epoch 6/20\n",
      "20480/20480 [==============================] - 1s 56us/sample - loss: 0.3543 - accuracy: 0.8608 - AUC: 0.7652 - val_loss: 0.3750 - val_accuracy: 0.8528 - val_AUC: 0.7327\n",
      "Epoch 7/20\n",
      "20480/20480 [==============================] - 1s 56us/sample - loss: 0.3497 - accuracy: 0.8620 - AUC: 0.7749 - val_loss: 0.3716 - val_accuracy: 0.8552 - val_AUC: 0.7337\n",
      "Epoch 8/20\n",
      "20480/20480 [==============================] - 1s 57us/sample - loss: 0.3457 - accuracy: 0.8643 - AUC: 0.7802 - val_loss: 0.3795 - val_accuracy: 0.8581 - val_AUC: 0.7291\n",
      "Epoch 9/20\n",
      "20480/20480 [==============================] - 1s 56us/sample - loss: 0.3430 - accuracy: 0.8651 - AUC: 0.7864 - val_loss: 0.3734 - val_accuracy: 0.8506 - val_AUC: 0.7342\n",
      "5120/5120 [==============================] - 0s 69us/sample - loss: 0.3733 - accuracy: 0.8521 - AUC: 0.7422\n",
      "Train on 20480 samples, validate on 6400 samples\n",
      "Epoch 1/20\n",
      "20480/20480 [==============================] - 2s 92us/sample - loss: 0.4006 - accuracy: 0.8521 - AUC: 0.6504 - val_loss: 0.3838 - val_accuracy: 0.8555 - val_AUC: 0.7126\n",
      "Epoch 2/20\n",
      "20480/20480 [==============================] - 1s 56us/sample - loss: 0.3762 - accuracy: 0.8522 - AUC: 0.7264 - val_loss: 0.3764 - val_accuracy: 0.8550 - val_AUC: 0.7267\n",
      "Epoch 3/20\n",
      "20480/20480 [==============================] - 1s 55us/sample - loss: 0.3686 - accuracy: 0.8547 - AUC: 0.7435 - val_loss: 0.3815 - val_accuracy: 0.8566 - val_AUC: 0.7340\n",
      "Epoch 4/20\n",
      "20480/20480 [==============================] - 1s 57us/sample - loss: 0.3647 - accuracy: 0.8569 - AUC: 0.7497 - val_loss: 0.3677 - val_accuracy: 0.8558 - val_AUC: 0.7364\n",
      "Epoch 5/20\n",
      "20480/20480 [==============================] - 1s 59us/sample - loss: 0.3626 - accuracy: 0.8557 - AUC: 0.7558 - val_loss: 0.3763 - val_accuracy: 0.8555 - val_AUC: 0.7364\n",
      "Epoch 6/20\n",
      "20480/20480 [==============================] - 1s 58us/sample - loss: 0.3580 - accuracy: 0.8569 - AUC: 0.7650 - val_loss: 0.3671 - val_accuracy: 0.8570 - val_AUC: 0.7355\n",
      "Epoch 7/20\n",
      "20480/20480 [==============================] - 1s 57us/sample - loss: 0.3531 - accuracy: 0.8603 - AUC: 0.7723 - val_loss: 0.3692 - val_accuracy: 0.8564 - val_AUC: 0.7351\n",
      "Epoch 8/20\n",
      "20480/20480 [==============================] - 1s 57us/sample - loss: 0.3499 - accuracy: 0.8612 - AUC: 0.7789 - val_loss: 0.3751 - val_accuracy: 0.8542 - val_AUC: 0.7266\n",
      "Epoch 9/20\n",
      "20480/20480 [==============================] - 1s 59us/sample - loss: 0.3442 - accuracy: 0.8631 - AUC: 0.7886 - val_loss: 0.4044 - val_accuracy: 0.8570 - val_AUC: 0.7298\n",
      "Epoch 10/20\n",
      "20480/20480 [==============================] - 1s 63us/sample - loss: 0.3408 - accuracy: 0.8646 - AUC: 0.7941 - val_loss: 0.3800 - val_accuracy: 0.8548 - val_AUC: 0.7229\n",
      "Epoch 11/20\n",
      "20480/20480 [==============================] - 1s 64us/sample - loss: 0.3354 - accuracy: 0.8663 - AUC: 0.8025 - val_loss: 0.3892 - val_accuracy: 0.8548 - val_AUC: 0.7132\n",
      "5120/5120 [==============================] - 0s 70us/sample - loss: 0.3608 - accuracy: 0.8572 - AUC: 0.7476\n",
      "Train on 20480 samples, validate on 6400 samples\n",
      "Epoch 1/20\n",
      "20480/20480 [==============================] - 2s 114us/sample - loss: 0.4047 - accuracy: 0.8522 - AUC: 0.6297 - val_loss: 0.3835 - val_accuracy: 0.8547 - val_AUC: 0.7048\n",
      "Epoch 2/20\n",
      "20480/20480 [==============================] - 1s 60us/sample - loss: 0.3777 - accuracy: 0.8550 - AUC: 0.7161 - val_loss: 0.3719 - val_accuracy: 0.8569 - val_AUC: 0.7290\n",
      "Epoch 3/20\n",
      "20480/20480 [==============================] - 1s 60us/sample - loss: 0.3674 - accuracy: 0.8552 - AUC: 0.7409 - val_loss: 0.3776 - val_accuracy: 0.8506 - val_AUC: 0.7236\n",
      "Epoch 4/20\n",
      "20480/20480 [==============================] - 1s 60us/sample - loss: 0.3618 - accuracy: 0.8560 - AUC: 0.7540 - val_loss: 0.3762 - val_accuracy: 0.8552 - val_AUC: 0.7333\n",
      "Epoch 5/20\n",
      "20480/20480 [==============================] - 1s 59us/sample - loss: 0.3585 - accuracy: 0.8581 - AUC: 0.7605 - val_loss: 0.3741 - val_accuracy: 0.8562 - val_AUC: 0.7334\n",
      "Epoch 6/20\n",
      "20480/20480 [==============================] - 1s 64us/sample - loss: 0.3525 - accuracy: 0.8610 - AUC: 0.7704 - val_loss: 0.3769 - val_accuracy: 0.8550 - val_AUC: 0.7303\n",
      "Epoch 7/20\n",
      "20480/20480 [==============================] - 1s 59us/sample - loss: 0.3506 - accuracy: 0.8626 - AUC: 0.7717 - val_loss: 0.3779 - val_accuracy: 0.8525 - val_AUC: 0.7272\n",
      "5120/5120 [==============================] - 0s 63us/sample - loss: 0.3747 - accuracy: 0.8535 - AUC: 0.7284\n",
      "Train on 20480 samples, validate on 6400 samples\n",
      "Epoch 1/20\n",
      "20480/20480 [==============================] - 2s 98us/sample - loss: 0.3990 - accuracy: 0.8534 - AUC: 0.6468 - val_loss: 0.3789 - val_accuracy: 0.8545 - val_AUC: 0.7150\n",
      "Epoch 2/20\n",
      "20480/20480 [==============================] - 1s 66us/sample - loss: 0.3740 - accuracy: 0.8552 - AUC: 0.7231 - val_loss: 0.3709 - val_accuracy: 0.8555 - val_AUC: 0.7334\n",
      "Epoch 3/20\n",
      "20480/20480 [==============================] - 1s 65us/sample - loss: 0.3680 - accuracy: 0.8572 - AUC: 0.7375 - val_loss: 0.3685 - val_accuracy: 0.8567 - val_AUC: 0.7357\n",
      "Epoch 4/20\n",
      "20480/20480 [==============================] - 1s 62us/sample - loss: 0.3636 - accuracy: 0.8597 - AUC: 0.7454 - val_loss: 0.3675 - val_accuracy: 0.8566 - val_AUC: 0.7390\n",
      "Epoch 5/20\n",
      "20480/20480 [==============================] - 1s 63us/sample - loss: 0.3595 - accuracy: 0.8596 - AUC: 0.7559 - val_loss: 0.3679 - val_accuracy: 0.8580 - val_AUC: 0.7361\n",
      "Epoch 6/20\n",
      "20480/20480 [==============================] - 1s 61us/sample - loss: 0.3550 - accuracy: 0.8610 - AUC: 0.7638 - val_loss: 0.3694 - val_accuracy: 0.8578 - val_AUC: 0.7325\n",
      "Epoch 7/20\n",
      "20480/20480 [==============================] - 1s 62us/sample - loss: 0.3517 - accuracy: 0.8620 - AUC: 0.7703 - val_loss: 0.3818 - val_accuracy: 0.8500 - val_AUC: 0.7293\n",
      "Epoch 8/20\n",
      "20480/20480 [==============================] - 1s 63us/sample - loss: 0.3471 - accuracy: 0.8657 - AUC: 0.7759 - val_loss: 0.3742 - val_accuracy: 0.8544 - val_AUC: 0.7312\n",
      "Epoch 9/20\n",
      "20480/20480 [==============================] - 1s 62us/sample - loss: 0.3418 - accuracy: 0.8646 - AUC: 0.7874 - val_loss: 0.3803 - val_accuracy: 0.8519 - val_AUC: 0.7166\n",
      "5120/5120 [==============================] - 0s 64us/sample - loss: 0.3727 - accuracy: 0.8518 - AUC: 0.7474\n",
      "Train on 20480 samples, validate on 6400 samples\n",
      "Epoch 1/20\n",
      "20480/20480 [==============================] - 2s 89us/sample - loss: 0.4050 - accuracy: 0.8519 - AUC: 0.6322 - val_loss: 0.3797 - val_accuracy: 0.8548 - val_AUC: 0.7156\n",
      "Epoch 2/20\n",
      "20480/20480 [==============================] - 1s 56us/sample - loss: 0.3797 - accuracy: 0.8527 - AUC: 0.7168 - val_loss: 0.3741 - val_accuracy: 0.8553 - val_AUC: 0.7311\n",
      "Epoch 3/20\n",
      "20480/20480 [==============================] - 1s 58us/sample - loss: 0.3701 - accuracy: 0.8561 - AUC: 0.7363 - val_loss: 0.3693 - val_accuracy: 0.8552 - val_AUC: 0.7325\n",
      "Epoch 4/20\n",
      "20480/20480 [==============================] - 1s 60us/sample - loss: 0.3652 - accuracy: 0.8562 - AUC: 0.7486 - val_loss: 0.3747 - val_accuracy: 0.8547 - val_AUC: 0.7378\n",
      "Epoch 5/20\n",
      "20480/20480 [==============================] - 1s 61us/sample - loss: 0.3613 - accuracy: 0.8569 - AUC: 0.7552 - val_loss: 0.3738 - val_accuracy: 0.8566 - val_AUC: 0.7251\n",
      "Epoch 6/20\n",
      "20480/20480 [==============================] - 1s 63us/sample - loss: 0.3572 - accuracy: 0.8593 - AUC: 0.7639 - val_loss: 0.3738 - val_accuracy: 0.8550 - val_AUC: 0.7341\n",
      "Epoch 7/20\n",
      "20480/20480 [==============================] - 1s 64us/sample - loss: 0.3529 - accuracy: 0.8599 - AUC: 0.7707 - val_loss: 0.3724 - val_accuracy: 0.8556 - val_AUC: 0.7306\n",
      "Epoch 8/20\n",
      "20480/20480 [==============================] - 1s 65us/sample - loss: 0.3493 - accuracy: 0.8628 - AUC: 0.7771 - val_loss: 0.3810 - val_accuracy: 0.8536 - val_AUC: 0.7237\n",
      "5120/5120 [==============================] - 0s 67us/sample - loss: 0.3620 - accuracy: 0.8566 - AUC: 0.7509\n",
      "Train on 20480 samples, validate on 6400 samples\n",
      "Epoch 1/20\n",
      "20480/20480 [==============================] - 2s 100us/sample - loss: 0.3992 - accuracy: 0.8527 - AUC: 0.6486 - val_loss: 0.3721 - val_accuracy: 0.8556 - val_AUC: 0.7273\n"
     ]
    },
    {
     "name": "stdout",
     "output_type": "stream",
     "text": [
      "Epoch 2/20\n",
      "20480/20480 [==============================] - 1s 59us/sample - loss: 0.3753 - accuracy: 0.8542 - AUC: 0.7225 - val_loss: 0.3779 - val_accuracy: 0.8556 - val_AUC: 0.7321\n",
      "Epoch 3/20\n",
      "20480/20480 [==============================] - 1s 61us/sample - loss: 0.3668 - accuracy: 0.8559 - AUC: 0.7417 - val_loss: 0.3765 - val_accuracy: 0.8536 - val_AUC: 0.7383\n",
      "Epoch 4/20\n",
      "20480/20480 [==============================] - 1s 60us/sample - loss: 0.3639 - accuracy: 0.8573 - AUC: 0.7458 - val_loss: 0.3662 - val_accuracy: 0.8578 - val_AUC: 0.7422\n",
      "Epoch 5/20\n",
      "20480/20480 [==============================] - 1s 60us/sample - loss: 0.3608 - accuracy: 0.8581 - AUC: 0.7538 - val_loss: 0.3735 - val_accuracy: 0.8481 - val_AUC: 0.7344\n",
      "Epoch 6/20\n",
      "20480/20480 [==============================] - 1s 61us/sample - loss: 0.3563 - accuracy: 0.8599 - AUC: 0.7615 - val_loss: 0.3728 - val_accuracy: 0.8550 - val_AUC: 0.7330\n",
      "Epoch 7/20\n",
      "20480/20480 [==============================] - 1s 61us/sample - loss: 0.3526 - accuracy: 0.8610 - AUC: 0.7679 - val_loss: 0.3693 - val_accuracy: 0.8564 - val_AUC: 0.7354\n",
      "Epoch 8/20\n",
      "20480/20480 [==============================] - 1s 58us/sample - loss: 0.3477 - accuracy: 0.8634 - AUC: 0.7768 - val_loss: 0.3737 - val_accuracy: 0.8522 - val_AUC: 0.7355\n",
      "Epoch 9/20\n",
      "20480/20480 [==============================] - 1s 59us/sample - loss: 0.3440 - accuracy: 0.8650 - AUC: 0.7831 - val_loss: 0.3735 - val_accuracy: 0.8534 - val_AUC: 0.7285\n",
      "5120/5120 [==============================] - 0s 66us/sample - loss: 0.3748 - accuracy: 0.8529 - AUC: 0.7392\n",
      "Train on 20480 samples, validate on 6400 samples\n",
      "Epoch 1/20\n",
      "20480/20480 [==============================] - 2s 102us/sample - loss: 0.4001 - accuracy: 0.8523 - AUC: 0.6549 - val_loss: 0.3808 - val_accuracy: 0.8544 - val_AUC: 0.7093\n",
      "Epoch 2/20\n",
      "20480/20480 [==============================] - 1s 55us/sample - loss: 0.3767 - accuracy: 0.8541 - AUC: 0.7226 - val_loss: 0.3747 - val_accuracy: 0.8536 - val_AUC: 0.7241\n",
      "Epoch 3/20\n",
      "20480/20480 [==============================] - 1s 55us/sample - loss: 0.3702 - accuracy: 0.8544 - AUC: 0.7384 - val_loss: 0.3801 - val_accuracy: 0.8558 - val_AUC: 0.7343\n",
      "Epoch 4/20\n",
      "20480/20480 [==============================] - 1s 56us/sample - loss: 0.3640 - accuracy: 0.8570 - AUC: 0.7518 - val_loss: 0.3697 - val_accuracy: 0.8545 - val_AUC: 0.7337\n",
      "Epoch 5/20\n",
      "20480/20480 [==============================] - 1s 58us/sample - loss: 0.3624 - accuracy: 0.8568 - AUC: 0.7539 - val_loss: 0.3776 - val_accuracy: 0.8491 - val_AUC: 0.7324\n",
      "Epoch 6/20\n",
      "20480/20480 [==============================] - 1s 61us/sample - loss: 0.3573 - accuracy: 0.8596 - AUC: 0.7633 - val_loss: 0.3732 - val_accuracy: 0.8556 - val_AUC: 0.7325\n",
      "Epoch 7/20\n",
      "20480/20480 [==============================] - 1s 62us/sample - loss: 0.3552 - accuracy: 0.8581 - AUC: 0.7685 - val_loss: 0.3879 - val_accuracy: 0.8398 - val_AUC: 0.7266\n",
      "Epoch 8/20\n",
      "20480/20480 [==============================] - 1s 62us/sample - loss: 0.3519 - accuracy: 0.8606 - AUC: 0.7728 - val_loss: 0.3789 - val_accuracy: 0.8500 - val_AUC: 0.7271\n",
      "Epoch 9/20\n",
      "20480/20480 [==============================] - 1s 62us/sample - loss: 0.3459 - accuracy: 0.8638 - AUC: 0.7823 - val_loss: 0.3807 - val_accuracy: 0.8531 - val_AUC: 0.7201\n",
      "5120/5120 [==============================] - 0s 66us/sample - loss: 0.3599 - accuracy: 0.8607 - AUC: 0.7480\n",
      "Train on 20480 samples, validate on 6400 samples\n",
      "Epoch 1/20\n",
      "20480/20480 [==============================] - 2s 100us/sample - loss: 0.3977 - accuracy: 0.8530 - AUC: 0.6571 - val_loss: 0.3984 - val_accuracy: 0.8550 - val_AUC: 0.7119\n",
      "Epoch 2/20\n",
      "20480/20480 [==============================] - 1s 67us/sample - loss: 0.3769 - accuracy: 0.8549 - AUC: 0.7204 - val_loss: 0.3846 - val_accuracy: 0.8494 - val_AUC: 0.7255\n",
      "Epoch 3/20\n",
      "20480/20480 [==============================] - 1s 62us/sample - loss: 0.3677 - accuracy: 0.8567 - AUC: 0.7410 - val_loss: 0.3744 - val_accuracy: 0.8542 - val_AUC: 0.7262\n",
      "Epoch 4/20\n",
      "20480/20480 [==============================] - 1s 63us/sample - loss: 0.3624 - accuracy: 0.8575 - AUC: 0.7540 - val_loss: 0.3718 - val_accuracy: 0.8537 - val_AUC: 0.7278\n",
      "Epoch 5/20\n",
      "20480/20480 [==============================] - 1s 63us/sample - loss: 0.3584 - accuracy: 0.8592 - AUC: 0.7611 - val_loss: 0.3721 - val_accuracy: 0.8555 - val_AUC: 0.7291\n",
      "Epoch 6/20\n",
      "20480/20480 [==============================] - 1s 66us/sample - loss: 0.3558 - accuracy: 0.8603 - AUC: 0.7650 - val_loss: 0.3717 - val_accuracy: 0.8537 - val_AUC: 0.7326\n",
      "Epoch 7/20\n",
      "20480/20480 [==============================] - 1s 68us/sample - loss: 0.3515 - accuracy: 0.8594 - AUC: 0.7732 - val_loss: 0.3823 - val_accuracy: 0.8495 - val_AUC: 0.7227\n",
      "Epoch 8/20\n",
      "20480/20480 [==============================] - 1s 69us/sample - loss: 0.3473 - accuracy: 0.8622 - AUC: 0.7817 - val_loss: 0.3980 - val_accuracy: 0.8311 - val_AUC: 0.7278\n",
      "Epoch 9/20\n",
      "20480/20480 [==============================] - 1s 69us/sample - loss: 0.3423 - accuracy: 0.8658 - AUC: 0.7875 - val_loss: 0.3861 - val_accuracy: 0.8562 - val_AUC: 0.7226\n",
      "Epoch 10/20\n",
      "20480/20480 [==============================] - 1s 71us/sample - loss: 0.3376 - accuracy: 0.8661 - AUC: 0.7956 - val_loss: 0.3822 - val_accuracy: 0.8530 - val_AUC: 0.7154\n",
      "Epoch 11/20\n",
      "20480/20480 [==============================] - 1s 70us/sample - loss: 0.3313 - accuracy: 0.8672 - AUC: 0.8061 - val_loss: 0.3898 - val_accuracy: 0.8422 - val_AUC: 0.7189\n",
      "5120/5120 [==============================] - 0s 73us/sample - loss: 0.3716 - accuracy: 0.8551 - AUC: 0.7368\n",
      "Train on 20480 samples, validate on 6400 samples\n",
      "Epoch 1/20\n",
      "20480/20480 [==============================] - 2s 107us/sample - loss: 0.3997 - accuracy: 0.8536 - AUC: 0.6387 - val_loss: 0.3751 - val_accuracy: 0.8555 - val_AUC: 0.7232\n",
      "Epoch 2/20\n",
      "20480/20480 [==============================] - 1s 68us/sample - loss: 0.3745 - accuracy: 0.8552 - AUC: 0.7232 - val_loss: 0.3776 - val_accuracy: 0.8570 - val_AUC: 0.7340\n",
      "Epoch 3/20\n",
      "20480/20480 [==============================] - 1s 65us/sample - loss: 0.3671 - accuracy: 0.8566 - AUC: 0.7403 - val_loss: 0.3708 - val_accuracy: 0.8537 - val_AUC: 0.7367\n",
      "Epoch 4/20\n",
      "20480/20480 [==============================] - 1s 65us/sample - loss: 0.3628 - accuracy: 0.8577 - AUC: 0.7483 - val_loss: 0.3708 - val_accuracy: 0.8564 - val_AUC: 0.7349\n",
      "Epoch 5/20\n",
      "20480/20480 [==============================] - 1s 64us/sample - loss: 0.3577 - accuracy: 0.8577 - AUC: 0.7606 - val_loss: 0.3724 - val_accuracy: 0.8536 - val_AUC: 0.7307\n",
      "Epoch 6/20\n",
      "20480/20480 [==============================] - 1s 68us/sample - loss: 0.3547 - accuracy: 0.8603 - AUC: 0.7652 - val_loss: 0.3713 - val_accuracy: 0.8564 - val_AUC: 0.7311\n",
      "Epoch 7/20\n",
      "20480/20480 [==============================] - 1s 64us/sample - loss: 0.3503 - accuracy: 0.8623 - AUC: 0.7736 - val_loss: 0.3720 - val_accuracy: 0.8530 - val_AUC: 0.7327\n",
      "Epoch 8/20\n",
      "20480/20480 [==============================] - 1s 64us/sample - loss: 0.3443 - accuracy: 0.8638 - AUC: 0.7837 - val_loss: 0.3798 - val_accuracy: 0.8497 - val_AUC: 0.7269\n",
      "Epoch 9/20\n",
      "20480/20480 [==============================] - 1s 66us/sample - loss: 0.3416 - accuracy: 0.8647 - AUC: 0.7875 - val_loss: 0.3943 - val_accuracy: 0.8352 - val_AUC: 0.7178\n",
      "5120/5120 [==============================] - 0s 68us/sample - loss: 0.3738 - accuracy: 0.8521 - AUC: 0.7467\n",
      "Train on 20480 samples, validate on 6400 samples\n",
      "Epoch 1/20\n",
      "20480/20480 [==============================] - 2s 112us/sample - loss: 0.4058 - accuracy: 0.8510 - AUC: 0.6343 - val_loss: 0.3795 - val_accuracy: 0.8555 - val_AUC: 0.7144\n",
      "Epoch 2/20\n",
      "20480/20480 [==============================] - 1s 68us/sample - loss: 0.3803 - accuracy: 0.8535 - AUC: 0.7142 - val_loss: 0.3759 - val_accuracy: 0.8548 - val_AUC: 0.7334\n",
      "Epoch 3/20\n",
      "20480/20480 [==============================] - 1s 67us/sample - loss: 0.3707 - accuracy: 0.8548 - AUC: 0.7368 - val_loss: 0.3658 - val_accuracy: 0.8575 - val_AUC: 0.7419\n",
      "Epoch 4/20\n",
      "20480/20480 [==============================] - 1s 69us/sample - loss: 0.3662 - accuracy: 0.8564 - AUC: 0.7452 - val_loss: 0.3716 - val_accuracy: 0.8567 - val_AUC: 0.7322\n",
      "Epoch 5/20\n",
      "20480/20480 [==============================] - 1s 69us/sample - loss: 0.3611 - accuracy: 0.8580 - AUC: 0.7574 - val_loss: 0.3695 - val_accuracy: 0.8558 - val_AUC: 0.7361\n"
     ]
    },
    {
     "name": "stdout",
     "output_type": "stream",
     "text": [
      "Epoch 6/20\n",
      "20480/20480 [==============================] - 1s 66us/sample - loss: 0.3569 - accuracy: 0.8580 - AUC: 0.7653 - val_loss: 0.3802 - val_accuracy: 0.8561 - val_AUC: 0.7305\n",
      "Epoch 7/20\n",
      "20480/20480 [==============================] - 1s 64us/sample - loss: 0.3522 - accuracy: 0.8601 - AUC: 0.7723 - val_loss: 0.3781 - val_accuracy: 0.8553 - val_AUC: 0.7255\n",
      "Epoch 8/20\n",
      "20480/20480 [==============================] - 1s 66us/sample - loss: 0.3471 - accuracy: 0.8625 - AUC: 0.7828 - val_loss: 0.3864 - val_accuracy: 0.8491 - val_AUC: 0.7158\n",
      "5120/5120 [==============================] - 0s 67us/sample - loss: 0.3601 - accuracy: 0.8574 - AUC: 0.7551\n",
      "Train on 20480 samples, validate on 6400 samples\n",
      "Epoch 1/20\n",
      "20480/20480 [==============================] - 2s 95us/sample - loss: 0.4006 - accuracy: 0.8529 - AUC: 0.6458 - val_loss: 0.3799 - val_accuracy: 0.8545 - val_AUC: 0.7147\n",
      "Epoch 2/20\n",
      "20480/20480 [==============================] - 1s 61us/sample - loss: 0.3783 - accuracy: 0.8544 - AUC: 0.7129 - val_loss: 0.3694 - val_accuracy: 0.8573 - val_AUC: 0.7347\n",
      "Epoch 3/20\n",
      "20480/20480 [==============================] - 1s 63us/sample - loss: 0.3681 - accuracy: 0.8548 - AUC: 0.7395 - val_loss: 0.3673 - val_accuracy: 0.8572 - val_AUC: 0.7375\n",
      "Epoch 4/20\n",
      "20480/20480 [==============================] - 1s 60us/sample - loss: 0.3627 - accuracy: 0.8578 - AUC: 0.7506 - val_loss: 0.3673 - val_accuracy: 0.8559 - val_AUC: 0.7362\n",
      "Epoch 5/20\n",
      "20480/20480 [==============================] - 1s 62us/sample - loss: 0.3573 - accuracy: 0.8603 - AUC: 0.7601 - val_loss: 0.3665 - val_accuracy: 0.8584 - val_AUC: 0.7404\n",
      "Epoch 6/20\n",
      "20480/20480 [==============================] - 1s 63us/sample - loss: 0.3531 - accuracy: 0.8597 - AUC: 0.7688 - val_loss: 0.3775 - val_accuracy: 0.8555 - val_AUC: 0.7263\n",
      "Epoch 7/20\n",
      "20480/20480 [==============================] - 1s 73us/sample - loss: 0.3500 - accuracy: 0.8621 - AUC: 0.7737 - val_loss: 0.3739 - val_accuracy: 0.8511 - val_AUC: 0.7309\n",
      "Epoch 8/20\n",
      "20480/20480 [==============================] - 1s 69us/sample - loss: 0.3443 - accuracy: 0.8645 - AUC: 0.7839 - val_loss: 0.3724 - val_accuracy: 0.8550 - val_AUC: 0.7319\n",
      "Epoch 9/20\n",
      "20480/20480 [==============================] - 1s 70us/sample - loss: 0.3386 - accuracy: 0.8660 - AUC: 0.7933 - val_loss: 0.3864 - val_accuracy: 0.8539 - val_AUC: 0.7134\n",
      "Epoch 10/20\n",
      "20480/20480 [==============================] - 1s 68us/sample - loss: 0.3341 - accuracy: 0.8677 - AUC: 0.7998 - val_loss: 0.3797 - val_accuracy: 0.8531 - val_AUC: 0.7248\n",
      "5120/5120 [==============================] - 0s 72us/sample - loss: 0.3755 - accuracy: 0.8508 - AUC: 0.7403\n",
      "Train on 20480 samples, validate on 6400 samples\n",
      "Epoch 1/20\n",
      "20480/20480 [==============================] - 2s 119us/sample - loss: 0.4025 - accuracy: 0.8513 - AUC: 0.6477 - val_loss: 0.3805 - val_accuracy: 0.8553 - val_AUC: 0.7151\n",
      "Epoch 2/20\n",
      "20480/20480 [==============================] - 1s 63us/sample - loss: 0.3758 - accuracy: 0.8535 - AUC: 0.7269 - val_loss: 0.3701 - val_accuracy: 0.8558 - val_AUC: 0.7337\n",
      "Epoch 3/20\n",
      "20480/20480 [==============================] - 1s 65us/sample - loss: 0.3684 - accuracy: 0.8553 - AUC: 0.7425 - val_loss: 0.3732 - val_accuracy: 0.8556 - val_AUC: 0.7288\n",
      "Epoch 4/20\n",
      "20480/20480 [==============================] - 1s 61us/sample - loss: 0.3636 - accuracy: 0.8559 - AUC: 0.7533 - val_loss: 0.3767 - val_accuracy: 0.8553 - val_AUC: 0.7414\n",
      "Epoch 5/20\n",
      "20480/20480 [==============================] - 1s 67us/sample - loss: 0.3597 - accuracy: 0.8580 - AUC: 0.7600 - val_loss: 0.3721 - val_accuracy: 0.8528 - val_AUC: 0.7346\n",
      "Epoch 6/20\n",
      "20480/20480 [==============================] - 1s 66us/sample - loss: 0.3551 - accuracy: 0.8595 - AUC: 0.7690 - val_loss: 0.3706 - val_accuracy: 0.8539 - val_AUC: 0.7312\n",
      "Epoch 7/20\n",
      "20480/20480 [==============================] - 1s 64us/sample - loss: 0.3502 - accuracy: 0.8611 - AUC: 0.7786 - val_loss: 0.3724 - val_accuracy: 0.8558 - val_AUC: 0.7297\n",
      "5120/5120 [==============================] - 0s 70us/sample - loss: 0.3642 - accuracy: 0.8584 - AUC: 0.7393\n",
      "Train on 20480 samples, validate on 6400 samples\n",
      "Epoch 1/20\n",
      "20480/20480 [==============================] - 2s 100us/sample - loss: 0.4004 - accuracy: 0.8528 - AUC: 0.6457 - val_loss: 0.3777 - val_accuracy: 0.8558 - val_AUC: 0.7140\n",
      "Epoch 2/20\n",
      "20480/20480 [==============================] - 1s 64us/sample - loss: 0.3738 - accuracy: 0.8555 - AUC: 0.7262 - val_loss: 0.3706 - val_accuracy: 0.8562 - val_AUC: 0.7339\n",
      "Epoch 3/20\n",
      "20480/20480 [==============================] - 1s 64us/sample - loss: 0.3661 - accuracy: 0.8564 - AUC: 0.7440 - val_loss: 0.3758 - val_accuracy: 0.8572 - val_AUC: 0.7331\n",
      "Epoch 4/20\n",
      "20480/20480 [==============================] - 1s 65us/sample - loss: 0.3621 - accuracy: 0.8572 - AUC: 0.7533 - val_loss: 0.3734 - val_accuracy: 0.8548 - val_AUC: 0.7350\n",
      "Epoch 5/20\n",
      "20480/20480 [==============================] - 1s 62us/sample - loss: 0.3582 - accuracy: 0.8591 - AUC: 0.7610 - val_loss: 0.3726 - val_accuracy: 0.8516 - val_AUC: 0.7385\n",
      "Epoch 6/20\n",
      "20480/20480 [==============================] - 1s 65us/sample - loss: 0.3552 - accuracy: 0.8590 - AUC: 0.7668 - val_loss: 0.3744 - val_accuracy: 0.8525 - val_AUC: 0.7311\n",
      "Epoch 7/20\n",
      "20480/20480 [==============================] - 1s 66us/sample - loss: 0.3497 - accuracy: 0.8620 - AUC: 0.7750 - val_loss: 0.3894 - val_accuracy: 0.8369 - val_AUC: 0.7250\n",
      "5120/5120 [==============================] - 0s 69us/sample - loss: 0.3720 - accuracy: 0.8545 - AUC: 0.7363\n",
      "Train on 20480 samples, validate on 6400 samples\n",
      "Epoch 1/20\n",
      "20480/20480 [==============================] - 2s 107us/sample - loss: 0.3991 - accuracy: 0.8539 - AUC: 0.6450 - val_loss: 0.3809 - val_accuracy: 0.8552 - val_AUC: 0.7176\n",
      "Epoch 2/20\n",
      "20480/20480 [==============================] - 1s 67us/sample - loss: 0.3745 - accuracy: 0.8557 - AUC: 0.7216 - val_loss: 0.3715 - val_accuracy: 0.8523 - val_AUC: 0.7302\n",
      "Epoch 3/20\n",
      "20480/20480 [==============================] - 1s 66us/sample - loss: 0.3689 - accuracy: 0.8557 - AUC: 0.7368 - val_loss: 0.3707 - val_accuracy: 0.8562 - val_AUC: 0.7375\n",
      "Epoch 4/20\n",
      "20480/20480 [==============================] - 1s 69us/sample - loss: 0.3641 - accuracy: 0.8577 - AUC: 0.7466 - val_loss: 0.3705 - val_accuracy: 0.8570 - val_AUC: 0.7354\n",
      "Epoch 5/20\n",
      "20480/20480 [==============================] - 1s 68us/sample - loss: 0.3579 - accuracy: 0.8597 - AUC: 0.7586 - val_loss: 0.3697 - val_accuracy: 0.8559 - val_AUC: 0.7303\n",
      "Epoch 6/20\n",
      "20480/20480 [==============================] - 1s 71us/sample - loss: 0.3538 - accuracy: 0.8603 - AUC: 0.7672 - val_loss: 0.3727 - val_accuracy: 0.8506 - val_AUC: 0.7413\n",
      "Epoch 7/20\n",
      "20480/20480 [==============================] - 1s 70us/sample - loss: 0.3497 - accuracy: 0.8599 - AUC: 0.7756 - val_loss: 0.3725 - val_accuracy: 0.8541 - val_AUC: 0.7286\n",
      "Epoch 8/20\n",
      "20480/20480 [==============================] - 1s 73us/sample - loss: 0.3441 - accuracy: 0.8633 - AUC: 0.7835 - val_loss: 0.3710 - val_accuracy: 0.8536 - val_AUC: 0.7347\n",
      "Epoch 9/20\n",
      "20480/20480 [==============================] - 2s 76us/sample - loss: 0.3370 - accuracy: 0.8684 - AUC: 0.7950 - val_loss: 0.3737 - val_accuracy: 0.8525 - val_AUC: 0.7273\n",
      "Epoch 10/20\n",
      "20480/20480 [==============================] - 1s 70us/sample - loss: 0.3313 - accuracy: 0.8685 - AUC: 0.8044 - val_loss: 0.3828 - val_accuracy: 0.8525 - val_AUC: 0.7194\n",
      "5120/5120 [==============================] - 0s 72us/sample - loss: 0.3700 - accuracy: 0.8523 - AUC: 0.7484\n",
      "Train on 20480 samples, validate on 6400 samples\n",
      "Epoch 1/20\n",
      "20480/20480 [==============================] - 2s 104us/sample - loss: 0.4060 - accuracy: 0.8518 - AUC: 0.6304 - val_loss: 0.3794 - val_accuracy: 0.8550 - val_AUC: 0.7115\n",
      "Epoch 2/20\n",
      "20480/20480 [==============================] - 1s 69us/sample - loss: 0.3792 - accuracy: 0.8532 - AUC: 0.7168 - val_loss: 0.3799 - val_accuracy: 0.8483 - val_AUC: 0.7259\n",
      "Epoch 3/20\n",
      "20480/20480 [==============================] - 1s 68us/sample - loss: 0.3716 - accuracy: 0.8542 - AUC: 0.7347 - val_loss: 0.3738 - val_accuracy: 0.8572 - val_AUC: 0.7278\n",
      "Epoch 4/20\n",
      "20480/20480 [==============================] - 1s 68us/sample - loss: 0.3662 - accuracy: 0.8552 - AUC: 0.7466 - val_loss: 0.3720 - val_accuracy: 0.8567 - val_AUC: 0.7315\n"
     ]
    },
    {
     "name": "stdout",
     "output_type": "stream",
     "text": [
      "Epoch 5/20\n",
      "20480/20480 [==============================] - 1s 67us/sample - loss: 0.3618 - accuracy: 0.8562 - AUC: 0.7560 - val_loss: 0.3695 - val_accuracy: 0.8567 - val_AUC: 0.7355\n",
      "Epoch 6/20\n",
      "20480/20480 [==============================] - 1s 65us/sample - loss: 0.3573 - accuracy: 0.8572 - AUC: 0.7639 - val_loss: 0.3753 - val_accuracy: 0.8567 - val_AUC: 0.7278\n",
      "Epoch 7/20\n",
      "20480/20480 [==============================] - 1s 65us/sample - loss: 0.3545 - accuracy: 0.8590 - AUC: 0.7700 - val_loss: 0.3755 - val_accuracy: 0.8580 - val_AUC: 0.7319\n",
      "Epoch 8/20\n",
      "20480/20480 [==============================] - 1s 64us/sample - loss: 0.3474 - accuracy: 0.8626 - AUC: 0.7815 - val_loss: 0.3759 - val_accuracy: 0.8525 - val_AUC: 0.7257\n",
      "Epoch 9/20\n",
      "20480/20480 [==============================] - 1s 66us/sample - loss: 0.3417 - accuracy: 0.8637 - AUC: 0.7912 - val_loss: 0.3910 - val_accuracy: 0.8452 - val_AUC: 0.7222\n",
      "Epoch 10/20\n",
      "20480/20480 [==============================] - 1s 67us/sample - loss: 0.3373 - accuracy: 0.8672 - AUC: 0.7977 - val_loss: 0.3861 - val_accuracy: 0.8472 - val_AUC: 0.7122\n",
      "5120/5120 [==============================] - 0s 67us/sample - loss: 0.3633 - accuracy: 0.8574 - AUC: 0.7507\n",
      "Train on 20480 samples, validate on 6400 samples\n",
      "Epoch 1/20\n",
      "20480/20480 [==============================] - 2s 99us/sample - loss: 0.3999 - accuracy: 0.8538 - AUC: 0.6472 - val_loss: 0.3820 - val_accuracy: 0.8548 - val_AUC: 0.7178\n",
      "Epoch 2/20\n",
      "20480/20480 [==============================] - 1s 64us/sample - loss: 0.3761 - accuracy: 0.8549 - AUC: 0.7199 - val_loss: 0.3728 - val_accuracy: 0.8545 - val_AUC: 0.7286\n",
      "Epoch 3/20\n",
      "20480/20480 [==============================] - 1s 69us/sample - loss: 0.3671 - accuracy: 0.8567 - AUC: 0.7415 - val_loss: 0.3789 - val_accuracy: 0.8544 - val_AUC: 0.7380\n",
      "Epoch 4/20\n",
      "20480/20480 [==============================] - 1s 69us/sample - loss: 0.3637 - accuracy: 0.8565 - AUC: 0.7483 - val_loss: 0.3671 - val_accuracy: 0.8562 - val_AUC: 0.7368\n",
      "Epoch 5/20\n",
      "20480/20480 [==============================] - 1s 71us/sample - loss: 0.3604 - accuracy: 0.8587 - AUC: 0.7525 - val_loss: 0.3739 - val_accuracy: 0.8548 - val_AUC: 0.7340\n",
      "Epoch 6/20\n",
      "20480/20480 [==============================] - 2s 76us/sample - loss: 0.3557 - accuracy: 0.8594 - AUC: 0.7640 - val_loss: 0.3687 - val_accuracy: 0.8572 - val_AUC: 0.7370\n",
      "Epoch 7/20\n",
      "20480/20480 [==============================] - 2s 76us/sample - loss: 0.3510 - accuracy: 0.8615 - AUC: 0.7714 - val_loss: 0.3728 - val_accuracy: 0.8564 - val_AUC: 0.7344\n",
      "Epoch 8/20\n",
      "20480/20480 [==============================] - 2s 79us/sample - loss: 0.3444 - accuracy: 0.8655 - AUC: 0.7806 - val_loss: 0.3758 - val_accuracy: 0.8498 - val_AUC: 0.7332\n",
      "Epoch 9/20\n",
      "20480/20480 [==============================] - 2s 83us/sample - loss: 0.3415 - accuracy: 0.8664 - AUC: 0.7858 - val_loss: 0.3790 - val_accuracy: 0.8484 - val_AUC: 0.7238\n",
      "5120/5120 [==============================] - 1s 156us/sample - loss: 0.3737 - accuracy: 0.8529 - AUC: 0.7410\n",
      "Train on 20480 samples, validate on 6400 samples\n",
      "Epoch 1/20\n",
      "20480/20480 [==============================] - 2s 116us/sample - loss: 0.4022 - accuracy: 0.8528 - AUC: 0.6451 - val_loss: 0.3782 - val_accuracy: 0.8566 - val_AUC: 0.7151\n",
      "Epoch 2/20\n",
      "20480/20480 [==============================] - 1s 71us/sample - loss: 0.3784 - accuracy: 0.8532 - AUC: 0.7194 - val_loss: 0.3790 - val_accuracy: 0.8527 - val_AUC: 0.7339\n",
      "Epoch 3/20\n",
      "20480/20480 [==============================] - 2s 75us/sample - loss: 0.3696 - accuracy: 0.8554 - AUC: 0.7396 - val_loss: 0.3717 - val_accuracy: 0.8573 - val_AUC: 0.7265\n",
      "Epoch 4/20\n",
      "20480/20480 [==============================] - 1s 72us/sample - loss: 0.3656 - accuracy: 0.8562 - AUC: 0.7477 - val_loss: 0.3670 - val_accuracy: 0.8548 - val_AUC: 0.7394\n",
      "Epoch 5/20\n",
      "20480/20480 [==============================] - 1s 73us/sample - loss: 0.3615 - accuracy: 0.8571 - AUC: 0.7563 - val_loss: 0.3697 - val_accuracy: 0.8533 - val_AUC: 0.7317\n",
      "Epoch 6/20\n",
      "20480/20480 [==============================] - 1s 72us/sample - loss: 0.3563 - accuracy: 0.8597 - AUC: 0.7663 - val_loss: 0.3759 - val_accuracy: 0.8527 - val_AUC: 0.7373\n",
      "Epoch 7/20\n",
      "20480/20480 [==============================] - 1s 72us/sample - loss: 0.3507 - accuracy: 0.8616 - AUC: 0.7762 - val_loss: 0.3779 - val_accuracy: 0.8514 - val_AUC: 0.7305\n",
      "Epoch 8/20\n",
      "20480/20480 [==============================] - 1s 71us/sample - loss: 0.3465 - accuracy: 0.8628 - AUC: 0.7833 - val_loss: 0.3793 - val_accuracy: 0.8495 - val_AUC: 0.7278\n",
      "Epoch 9/20\n",
      "20480/20480 [==============================] - 1s 70us/sample - loss: 0.3397 - accuracy: 0.8674 - AUC: 0.7924 - val_loss: 0.3789 - val_accuracy: 0.8544 - val_AUC: 0.7248\n",
      "5120/5120 [==============================] - 0s 70us/sample - loss: 0.3609 - accuracy: 0.8586 - AUC: 0.7464\n",
      "Train on 20480 samples, validate on 6400 samples\n",
      "Epoch 1/20\n",
      "20480/20480 [==============================] - 2s 104us/sample - loss: 0.3977 - accuracy: 0.8533 - AUC: 0.6549 - val_loss: 0.3782 - val_accuracy: 0.8550 - val_AUC: 0.7155\n",
      "Epoch 2/20\n",
      "20480/20480 [==============================] - 1s 66us/sample - loss: 0.3755 - accuracy: 0.8534 - AUC: 0.7242 - val_loss: 0.3729 - val_accuracy: 0.8577 - val_AUC: 0.7298\n",
      "Epoch 3/20\n",
      "20480/20480 [==============================] - 1s 66us/sample - loss: 0.3678 - accuracy: 0.8565 - AUC: 0.7407 - val_loss: 0.4035 - val_accuracy: 0.8550 - val_AUC: 0.7267\n",
      "Epoch 4/20\n",
      "20480/20480 [==============================] - 1s 65us/sample - loss: 0.3646 - accuracy: 0.8568 - AUC: 0.7464 - val_loss: 0.3801 - val_accuracy: 0.8561 - val_AUC: 0.7217\n",
      "Epoch 5/20\n",
      "20480/20480 [==============================] - 1s 66us/sample - loss: 0.3576 - accuracy: 0.8598 - AUC: 0.7593 - val_loss: 0.3759 - val_accuracy: 0.8530 - val_AUC: 0.7243\n",
      "Epoch 6/20\n",
      "20480/20480 [==============================] - 1s 66us/sample - loss: 0.3548 - accuracy: 0.8599 - AUC: 0.7658 - val_loss: 0.3784 - val_accuracy: 0.8525 - val_AUC: 0.7231\n",
      "Epoch 7/20\n",
      "20480/20480 [==============================] - 2s 76us/sample - loss: 0.3473 - accuracy: 0.8639 - AUC: 0.7793 - val_loss: 0.3766 - val_accuracy: 0.8522 - val_AUC: 0.7223\n",
      "5120/5120 [==============================] - 0s 79us/sample - loss: 0.3778 - accuracy: 0.8539 - AUC: 0.7261\n",
      "Train on 25600 samples, validate on 6400 samples\n",
      "Epoch 1/20\n",
      "25600/25600 [==============================] - 2s 93us/sample - loss: 0.3977 - accuracy: 0.8525 - AUC: 0.6564 - val_loss: 0.3782 - val_accuracy: 0.8544 - val_AUC: 0.7233\n",
      "Epoch 2/20\n",
      "25600/25600 [==============================] - 2s 60us/sample - loss: 0.3743 - accuracy: 0.8542 - AUC: 0.7266 - val_loss: 0.3677 - val_accuracy: 0.8566 - val_AUC: 0.7361\n",
      "Epoch 3/20\n",
      "25600/25600 [==============================] - 2s 65us/sample - loss: 0.3676 - accuracy: 0.8555 - AUC: 0.7417 - val_loss: 0.3724 - val_accuracy: 0.8573 - val_AUC: 0.7370\n",
      "Epoch 4/20\n",
      "25600/25600 [==============================] - 2s 64us/sample - loss: 0.3638 - accuracy: 0.8570 - AUC: 0.7507 - val_loss: 0.3681 - val_accuracy: 0.8561 - val_AUC: 0.7376\n",
      "Epoch 5/20\n",
      "25600/25600 [==============================] - 2s 64us/sample - loss: 0.3602 - accuracy: 0.8575 - AUC: 0.7562 - val_loss: 0.3716 - val_accuracy: 0.8550 - val_AUC: 0.7354\n",
      "Epoch 6/20\n",
      "25600/25600 [==============================] - 2s 63us/sample - loss: 0.3576 - accuracy: 0.8593 - AUC: 0.7627 - val_loss: 0.3684 - val_accuracy: 0.8566 - val_AUC: 0.7353\n",
      "Epoch 7/20\n",
      "25600/25600 [==============================] - 2s 60us/sample - loss: 0.3534 - accuracy: 0.8616 - AUC: 0.7698 - val_loss: 0.3704 - val_accuracy: 0.8512 - val_AUC: 0.7392\n",
      "CPU times: user 15min 17s, sys: 3min 2s, total: 18min 19s\n",
      "Wall time: 8min 37s\n"
     ]
    },
    {
     "data": {
      "text/plain": [
       "GridSearchCV(cv=5,\n",
       "             estimator=<tensorflow.python.keras.wrappers.scikit_learn.KerasClassifier object at 0x7f8b7d69c3d0>,\n",
       "             param_grid={'dropout': [True], 'n_hidden_add': [2, 3],\n",
       "                         'n_neurons1': [200, 300], 'n_neurons2': [100, 200],\n",
       "                         'n_neurons_add': [30]})"
      ]
     },
     "execution_count": 108,
     "metadata": {},
     "output_type": "execute_result"
    }
   ],
   "source": [
    "%%time\n",
    "\n",
    "# Use early stopping if model does not improve after 5 epochs\n",
    "early_stopping_cb = keras.callbacks.EarlyStopping(patience=5, restore_best_weights=True)\n",
    "\n",
    "DNN_grid_search.fit(X_train_train_np, y_train_train_np, epochs=20,\n",
    "                validation_data=(X_train_val_np, y_train_val_np),\n",
    "                callbacks=[early_stopping_cb])"
   ]
  },
  {
   "cell_type": "code",
   "execution_count": 109,
   "metadata": {},
   "outputs": [
    {
     "data": {
      "text/plain": [
       "{'dropout': True,\n",
       " 'n_hidden_add': 2,\n",
       " 'n_neurons1': 300,\n",
       " 'n_neurons2': 100,\n",
       " 'n_neurons_add': 30}"
      ]
     },
     "execution_count": 109,
     "metadata": {},
     "output_type": "execute_result"
    }
   ],
   "source": [
    "DNN_grid_search.best_params_"
   ]
  },
  {
   "cell_type": "code",
   "execution_count": 110,
   "metadata": {},
   "outputs": [],
   "source": [
    "DNN_best = DNN_grid_search.best_estimator_.model"
   ]
  },
  {
   "cell_type": "code",
   "execution_count": 111,
   "metadata": {
    "scrolled": true
   },
   "outputs": [
    {
     "name": "stdout",
     "output_type": "stream",
     "text": [
      "Model: \"sequential_41\"\n",
      "_________________________________________________________________\n",
      "Layer (type)                 Output Shape              Param #   \n",
      "=================================================================\n",
      "dense_220 (Dense)            (None, 300)               54300     \n",
      "_________________________________________________________________\n",
      "dense_221 (Dense)            (None, 100)               30100     \n",
      "_________________________________________________________________\n",
      "dense_222 (Dense)            (None, 30)                3030      \n",
      "_________________________________________________________________\n",
      "dense_223 (Dense)            (None, 30)                930       \n",
      "_________________________________________________________________\n",
      "dropout_40 (Dropout)         (None, 30)                0         \n",
      "_________________________________________________________________\n",
      "dense_224 (Dense)            (None, 1)                 31        \n",
      "=================================================================\n",
      "Total params: 88,391\n",
      "Trainable params: 88,391\n",
      "Non-trainable params: 0\n",
      "_________________________________________________________________\n"
     ]
    }
   ],
   "source": [
    "DNN_best.summary()"
   ]
  },
  {
   "cell_type": "code",
   "execution_count": 112,
   "metadata": {},
   "outputs": [
    {
     "name": "stdout",
     "output_type": "stream",
     "text": [
      "25600/25600 [==============================] - 1s 28us/sample - loss: 0.3576 - accuracy: 0.8582 - AUC: 0.7658\n",
      "deep neural network best Train loss: \t0.3576\n",
      "deep neural network best Train accuracy: \t0.8582\n",
      "deep neural network best Train AUC: \t0.7658\n"
     ]
    }
   ],
   "source": [
    "# Evaluate train set\n",
    "DNN_train_loss_best, DNN_train_acc_best, DNN_train_auc_best = DNN_best.evaluate(X_train_train_np, y_train_train_np)\n",
    "print('deep neural network best Train loss: \\t%0.4f' % DNN_train_loss_best)\n",
    "print('deep neural network best Train accuracy: \\t%0.4f' % DNN_train_acc_best)\n",
    "print('deep neural network best Train AUC: \\t%0.4f' % DNN_train_auc_best)"
   ]
  },
  {
   "cell_type": "markdown",
   "metadata": {},
   "source": [
    "### 2.2.3 DNN Test optimized model against test set"
   ]
  },
  {
   "cell_type": "code",
   "execution_count": 113,
   "metadata": {},
   "outputs": [
    {
     "name": "stdout",
     "output_type": "stream",
     "text": [
      "8000/8000 [==============================] - 0s 32us/sample - loss: 0.3594 - accuracy: 0.8627 - AUC: 0.7356\n",
      "deep neural network best Test loss: \t0.3594\n",
      "deep neural network best Test accuracy: \t0.8627\n",
      "deep neural network best Test AUC: \t0.7356\n"
     ]
    }
   ],
   "source": [
    "# Evaluate against test set\n",
    "DNN_test_loss_best, DNN_test_acc_best, DNN_test_auc_best = DNN_best.evaluate(X_test_np, y_test_np)\n",
    "print('deep neural network best Test loss: \\t%0.4f' % DNN_test_loss_best)\n",
    "print('deep neural network best Test accuracy: \\t%0.4f' % DNN_test_acc_best)\n",
    "print('deep neural network best Test AUC: \\t%0.4f' % DNN_test_auc_best)"
   ]
  },
  {
   "cell_type": "code",
   "execution_count": 114,
   "metadata": {},
   "outputs": [],
   "source": [
    "# Predict label using predict_classes\n",
    "y_pred_test_DNN = (DNN_best.predict(X_test_np) > 0.5).astype(\"int32\")"
   ]
  },
  {
   "cell_type": "code",
   "execution_count": 115,
   "metadata": {},
   "outputs": [
    {
     "name": "stdout",
     "output_type": "stream",
     "text": [
      "              precision    recall  f1-score   support\n",
      "\n",
      "         0.0       0.87      0.99      0.93      6883\n",
      "         1.0       0.59      0.05      0.10      1117\n",
      "\n",
      "    accuracy                           0.86      8000\n",
      "   macro avg       0.73      0.52      0.51      8000\n",
      "weighted avg       0.83      0.86      0.81      8000\n",
      "\n"
     ]
    }
   ],
   "source": [
    "# Classification report\n",
    "print(classification_report(y_test, y_pred_test_DNN))"
   ]
  },
  {
   "cell_type": "code",
   "execution_count": 116,
   "metadata": {},
   "outputs": [
    {
     "name": "stdout",
     "output_type": "stream",
     "text": [
      "[[6842   41]\n",
      " [1057   60]]\n"
     ]
    }
   ],
   "source": [
    "# Examine confusion matrix\n",
    "print(confusion_matrix(y_test, y_pred_test_DNN))"
   ]
  },
  {
   "cell_type": "markdown",
   "metadata": {},
   "source": [
    "### 2.2.4 DNN Evaluate AUC for ROC and PR for performance against test set"
   ]
  },
  {
   "cell_type": "code",
   "execution_count": 117,
   "metadata": {},
   "outputs": [],
   "source": [
    "# Find probability estimates\n",
    "y_pred_proba_test_best_DNN = DNN_best.predict(X_test_np) # use predict for probabilities"
   ]
  },
  {
   "cell_type": "code",
   "execution_count": 118,
   "metadata": {},
   "outputs": [],
   "source": [
    "# # Calculate false positive rate and true positive rate:\n",
    "DNN_fpr_best, DNN_tpr_best, DNN_thresholds_roc_best = roc_curve(y_test_np, y_pred_proba_test_best_DNN)\n",
    "\n",
    "# # Calculate precision and recall\n",
    "DNN_precision_best, DNN_recall_best, DNN_thresholds_pr_best = precision_recall_curve(y_test_np, y_pred_proba_test_best_DNN)"
   ]
  },
  {
   "cell_type": "code",
   "execution_count": 119,
   "metadata": {},
   "outputs": [
    {
     "data": {
      "image/png": "[encoded data removed]",
      "text/plain": [
       "<Figure size 1152x432 with 2 Axes>"
      ]
     },
     "metadata": {
      "needs_background": "light"
     },
     "output_type": "display_data"
    }
   ],
   "source": [
    "# Plot Precision-Recall curve for clf_best:\n",
    "plt.figure(figsize=(16,6))\n",
    "plt.subplot(1,2,1)\n",
    "plt.step(DNN_recall_best, DNN_precision_best, label='Precision-recall curve (area = %0.4f)' % auc(DNN_recall_best, DNN_precision_best))\n",
    "plt.title('deep neural network model: Precision-recall curve', size=13)\n",
    "plt.xlabel('Recall')\n",
    "plt.ylabel('Precision')\n",
    "plt.legend(loc='lower left', fontsize=13)\n",
    "plt.ylim([-0.05, 1.05])\n",
    "plt.xlim([-0.05, 1.05])\n",
    "\n",
    "# Plot ROC curve for clf_best:\n",
    "plt.subplot(1,2,2)\n",
    "plt.plot(DNN_fpr_best, DNN_tpr_best, label='ROC curve (area = %0.4f)' % auc(DNN_fpr_best, DNN_tpr_best))\n",
    "plt.plot([0, 1], [0, 1], 'r--')\n",
    "plt.title('deep neural network model: ROC curve', size=13)\n",
    "plt.xlabel('False Positive Rate')\n",
    "plt.ylabel('True Positive Rate')\n",
    "plt.legend(loc='lower right', fontsize=13)\n",
    "plt.ylim([-0.05, 1.05])\n",
    "plt.xlim([-0.05, 1.05])\n",
    "\n",
    "plt.show()"
   ]
  },
  {
   "cell_type": "code",
   "execution_count": 120,
   "metadata": {
    "scrolled": true
   },
   "outputs": [
    {
     "data": {
      "text/plain": [
       "0.7357137347851823"
      ]
     },
     "execution_count": 120,
     "metadata": {},
     "output_type": "execute_result"
    }
   ],
   "source": [
    "# Area under curve for ROC\n",
    "auc(DNN_fpr_best, DNN_tpr_best)"
   ]
  },
  {
   "cell_type": "code",
   "execution_count": 121,
   "metadata": {},
   "outputs": [
    {
     "data": {
      "text/plain": [
       "0.32895689022179403"
      ]
     },
     "execution_count": 121,
     "metadata": {},
     "output_type": "execute_result"
    }
   ],
   "source": [
    "# Area under precision-recall curve\n",
    "auc(DNN_recall_best, DNN_precision_best)"
   ]
  },
  {
   "cell_type": "markdown",
   "metadata": {},
   "source": [
    "# 3 Generate predictions"
   ]
  },
  {
   "cell_type": "code",
   "execution_count": 122,
   "metadata": {},
   "outputs": [],
   "source": [
    "# Prepare test input\n",
    "X_fininal_test = test_transformed.drop(['y'], axis=1)"
   ]
  },
  {
   "cell_type": "code",
   "execution_count": 123,
   "metadata": {},
   "outputs": [],
   "source": [
    "# Predictions for Logistic Regression\n",
    "y_LR = LR_best.predict(X_fininal_test)"
   ]
  },
  {
   "cell_type": "code",
   "execution_count": 124,
   "metadata": {},
   "outputs": [],
   "source": [
    "# Prepare np test input for DNN\n",
    "X_fininal_test_np = X_fininal_test.to_numpy()"
   ]
  },
  {
   "cell_type": "code",
   "execution_count": 125,
   "metadata": {},
   "outputs": [],
   "source": [
    "# Predictions for DNN\n",
    "y_DNN = (DNN_best.predict(X_fininal_test_np) > 0.5).astype(\"int32\")"
   ]
  },
  {
   "cell_type": "code",
   "execution_count": 126,
   "metadata": {},
   "outputs": [],
   "source": [
    "#Save predictions to csv\n",
    "#pd.DataFrame(y_LR).to_csv(os.path.join(\"glmresults.csv\"))\n",
    "#pd.DataFrame(y_DNN).to_csv(os.path.join(\"nonglmresults.csv\"))"
   ]
  },
  {
   "cell_type": "markdown",
   "metadata": {},
   "source": [
    "# 4 Compare the modeling approaches\n",
    "\n",
    "To compare the two models, I will compare train accuracy, test accuracy, Area under ROC curve and Area under precision recall curve."
   ]
  },
  {
   "cell_type": "code",
   "execution_count": 127,
   "metadata": {},
   "outputs": [],
   "source": [
    "# define estimates for the logistic regression model\n",
    "LR_train_accuracy_best = \"{0:0.4f}\".format(LR_best.score(X_train, y_train))\n",
    "LR_test_accuracy_best = \"{0:0.4f}\".format(LR_best.score(X_test, y_test))\n",
    "LR_AUC_ROC = \"{0:0.4f}\".format(auc(fpr, tpr))\n",
    "LR_AUC_precision_recall = \"{0:0.4f}\".format(auc(recall, precision))"
   ]
  },
  {
   "cell_type": "code",
   "execution_count": 128,
   "metadata": {},
   "outputs": [],
   "source": [
    "# define estimates for the Deep neural network model\n",
    "DNN_train_accuracy_best = \"{0:0.4f}\".format(DNN_train_acc_best)\n",
    "DNN_test_accuracy_best = \"{0:0.4f}\".format(DNN_test_acc_best)\n",
    "DNN_AUC_ROC = \"{0:0.4f}\".format(auc(DNN_fpr_best, DNN_tpr_best))\n",
    "DNN_AUC_precision_recall = \"{0:0.4f}\".format(auc(DNN_recall_best, DNN_precision_best))"
   ]
  },
  {
   "cell_type": "code",
   "execution_count": 129,
   "metadata": {},
   "outputs": [
    {
     "data": {
      "text/html": [
       "<div>\n",
       "<style scoped>\n",
       "    .dataframe tbody tr th:only-of-type {\n",
       "        vertical-align: middle;\n",
       "    }\n",
       "\n",
       "    .dataframe tbody tr th {\n",
       "        vertical-align: top;\n",
       "    }\n",
       "\n",
       "    .dataframe thead th {\n",
       "        text-align: right;\n",
       "    }\n",
       "</style>\n",
       "<table border=\"1\" class=\"dataframe\">\n",
       "  <thead>\n",
       "    <tr style=\"text-align: right;\">\n",
       "      <th></th>\n",
       "      <th>Model</th>\n",
       "      <th>Train Accuracy</th>\n",
       "      <th>Test Accuracy</th>\n",
       "      <th>AUC ROC</th>\n",
       "      <th>AUC precision recall</th>\n",
       "    </tr>\n",
       "  </thead>\n",
       "  <tbody>\n",
       "    <tr>\n",
       "      <th>0</th>\n",
       "      <td>Logistic Regression</td>\n",
       "      <td>0.8581</td>\n",
       "      <td>0.8612</td>\n",
       "      <td>0.7538</td>\n",
       "      <td>0.3507</td>\n",
       "    </tr>\n",
       "    <tr>\n",
       "      <th>1</th>\n",
       "      <td>Deep neural network</td>\n",
       "      <td>0.8582</td>\n",
       "      <td>0.8627</td>\n",
       "      <td>0.7357</td>\n",
       "      <td>0.3290</td>\n",
       "    </tr>\n",
       "  </tbody>\n",
       "</table>\n",
       "</div>"
      ],
      "text/plain": [
       "                 Model Train Accuracy Test Accuracy AUC ROC  \\\n",
       "0  Logistic Regression         0.8581        0.8612  0.7538   \n",
       "1  Deep neural network         0.8582        0.8627  0.7357   \n",
       "\n",
       "  AUC precision recall  \n",
       "0               0.3507  \n",
       "1               0.3290  "
      ]
     },
     "execution_count": 129,
     "metadata": {},
     "output_type": "execute_result"
    }
   ],
   "source": [
    "# Create a table to compare the estimates of the two models\n",
    "d = {'Model': ['Logistic Regression', 'Deep neural network'], \n",
    "     'Train Accuracy': [LR_train_accuracy_best, DNN_train_accuracy_best],\n",
    "     'Test Accuracy': [LR_test_accuracy_best, DNN_test_accuracy_best],\n",
    "     'AUC ROC':[LR_AUC_ROC,DNN_AUC_ROC],\n",
    "     'AUC precision recall':[LR_AUC_precision_recall,DNN_AUC_precision_recall]\n",
    "    }\n",
    "df = pd.DataFrame(data=d)\n",
    "df"
   ]
  },
  {
   "cell_type": "markdown",
   "metadata": {},
   "source": [
    "## executive summary\n",
    "\n",
    "Logistic regression (LR) model is a very basic model to solve classification problems. The model is easy to understand. With proper regulation, such as cross validation, overfitting can be avoided.  However, the model doesn’t have enough flexibility to handle data set with complex variables,\n",
    "\n",
    "Deep neural network (DNN) model is used for various of classification problems. The model has enough flexibility to handle complex problems. The disadvantage of the model is it needs feed by large amount of the data to perform better than other models.\n",
    "\n",
    "My model recommendation will be based on 2 assumptions. One assumption is the ration of 0 and 1 in the test set is similar to the train set. The other one is the predictions of the minority class is more important than the predictions of majority class. Based on these 2 assumptions, I think the logistic regression algorithm perform better. The accuracies of the 2 algorithms are very close, based on the train and test accuracy, no overfitting. However, I choose logistic regression for following reasons. First, the AUCs of logistic regression are better than the AUCs of Deep Neural Network, which means the logistic regression model has better prediction of the minority class.  Second, the dataset is relatively small. Generally, Deep Neural Network performance less good than logistic regression in small dataset.\n",
    "\n",
    "Logistic regression model has a better prediction on the minority class on our dataset. For example, you are trying to hire a talent people. However, you need to interview 10 people. So, you don’t care about the majority class are not qualified. You want to focus more on the minority which may qualified. So, the prediction for the minority is more important in this case. \n",
    "Back to our project, the prediction of the minority class is more important. So, we will use logistic regression model.\n",
    "\n"
   ]
  }
 ],
 "metadata": {
  "kernelspec": {
   "display_name": "Python 3",
   "language": "python",
   "name": "python3"
  },
  "language_info": {
   "codemirror_mode": {
    "name": "ipython",
    "version": 3
   },
   "file_extension": ".py",
   "mimetype": "text/x-python",
   "name": "python",
   "nbconvert_exporter": "python",
   "pygments_lexer": "ipython3",
   "version": "3.7.4"
  }
 },
 "nbformat": 4,
 "nbformat_minor": 2
}
