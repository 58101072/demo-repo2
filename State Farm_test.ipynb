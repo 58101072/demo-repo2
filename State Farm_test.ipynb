{
 "cells": [
  {
   "cell_type": "markdown",
   "metadata": {},
   "source": [
    "# State Farm Classification Exercise\n",
    "## 1. Data cleaning"
   ]
  },
  {
   "cell_type": "code",
   "execution_count": 1,
   "metadata": {},
   "outputs": [],
   "source": [
    "#standard import\n",
    "import numpy as np\n",
    "import pandas as pd\n",
    "import os \n",
    "# Suppress warnings\n",
    "import warnings\n",
    "warnings.filterwarnings('ignore')\n",
    "# Visualization\n",
    "%matplotlib inline\n",
    "import matplotlib.pyplot as plt"
   ]
  },
  {
   "cell_type": "markdown",
   "metadata": {},
   "source": [
    "### 1.1 loading and exploring the data"
   ]
  },
  {
   "cell_type": "markdown",
   "metadata": {
    "collapsed": true
   },
   "source": [
    "## 1.3 Prepare the data transformation pipeline"
   ]
  },
  {
   "cell_type": "code",
   "execution_count": 2,
   "metadata": {},
   "outputs": [],
   "source": [
    "from sklearn.preprocessing import OneHotEncoder, MinMaxScaler #, StandardScaler\n",
    "from sklearn.compose import ColumnTransformer"
   ]
  },
  {
   "cell_type": "markdown",
   "metadata": {},
   "source": [
    "## 1.5 Store prepared data in a pandas DataFrame:\n",
    "\n",
    "Find column names for transformed data (including one-hot transformed features)\n",
    "\n",
    "Find transformed column names"
   ]
  },
  {
   "cell_type": "code",
   "execution_count": 3,
   "metadata": {},
   "outputs": [],
   "source": [
    "# save data locally\n",
    "# train_transformed.to_pickle(os.path.join('train_transformed_minmax_final.pkl'))\n",
    "# test_transformed.to_pickle(os.path.join('test_transformed_minmax_final.pkl'))"
   ]
  },
  {
   "cell_type": "code",
   "execution_count": 4,
   "metadata": {},
   "outputs": [],
   "source": [
    "import pickle"
   ]
  },
  {
   "cell_type": "code",
   "execution_count": 5,
   "metadata": {
    "scrolled": true
   },
   "outputs": [],
   "source": [
    "train_transformed = pd.read_pickle(os.path.join('train_transformed_minmax_final.pkl'))"
   ]
  },
  {
   "cell_type": "code",
   "execution_count": 6,
   "metadata": {
    "scrolled": false
   },
   "outputs": [
    {
     "data": {
      "text/plain": [
       "0.0    34197\n",
       "1.0     5803\n",
       "Name: y, dtype: int64"
      ]
     },
     "execution_count": 6,
     "metadata": {},
     "output_type": "execute_result"
    }
   ],
   "source": [
    "train_transformed.y.value_counts()"
   ]
  },
  {
   "cell_type": "markdown",
   "metadata": {},
   "source": [
    "# 2 Modeling \n",
    "Create X & y objects with train_transformed"
   ]
  },
  {
   "cell_type": "code",
   "execution_count": 7,
   "metadata": {
    "scrolled": true
   },
   "outputs": [],
   "source": [
    "X = train_transformed.drop(['y'], axis=1)\n",
    "y = train_transformed.y"
   ]
  },
  {
   "cell_type": "code",
   "execution_count": 8,
   "metadata": {},
   "outputs": [
    {
     "data": {
      "text/plain": [
       "(40000, 180)"
      ]
     },
     "execution_count": 8,
     "metadata": {},
     "output_type": "execute_result"
    }
   ],
   "source": [
    "X.shape"
   ]
  },
  {
   "cell_type": "code",
   "execution_count": 9,
   "metadata": {},
   "outputs": [
    {
     "data": {
      "text/plain": [
       "(40000,)"
      ]
     },
     "execution_count": 9,
     "metadata": {},
     "output_type": "execute_result"
    }
   ],
   "source": [
    "y.shape"
   ]
  },
  {
   "cell_type": "markdown",
   "metadata": {},
   "source": [
    "Generate X_train, X_test, y_train & y_test. Use 80% for train & 20% for test."
   ]
  },
  {
   "cell_type": "code",
   "execution_count": 10,
   "metadata": {},
   "outputs": [],
   "source": [
    "from sklearn.model_selection import train_test_split\n",
    "X_train, X_test, y_train, y_test = train_test_split(X, y,test_size = 0.2, random_state = 365) "
   ]
  },
  {
   "cell_type": "markdown",
   "metadata": {},
   "source": [
    "## 2.1 logistic regression model"
   ]
  },
  {
   "cell_type": "code",
   "execution_count": 11,
   "metadata": {},
   "outputs": [],
   "source": [
    "# Import classification model:\n",
    "from sklearn.linear_model import LogisticRegression\n",
    "\n",
    "# Import other tools:\n",
    "from sklearn.metrics import precision_recall_curve, auc, recall_score, roc_auc_score, roc_curve\n",
    "from sklearn.metrics import accuracy_score\n",
    "from sklearn.metrics import classification_report, confusion_matrix\n",
    "from sklearn.model_selection import cross_val_score, cross_val_predict\n",
    "from sklearn.model_selection import GridSearchCV, RandomizedSearchCV\n",
    "\n",
    "\n",
    "# Visualization\n",
    "%matplotlib inline\n",
    "import matplotlib.pyplot as plt"
   ]
  },
  {
   "cell_type": "markdown",
   "metadata": {},
   "source": [
    "### 2.1.1 Run quick logistic regression model"
   ]
  },
  {
   "cell_type": "code",
   "execution_count": 12,
   "metadata": {},
   "outputs": [],
   "source": [
    "LR = LogisticRegression(multi_class='ovr')"
   ]
  },
  {
   "cell_type": "code",
   "execution_count": 13,
   "metadata": {},
   "outputs": [
    {
     "name": "stdout",
     "output_type": "stream",
     "text": [
      "{'C': 1.0, 'class_weight': None, 'dual': False, 'fit_intercept': True, 'intercept_scaling': 1, 'l1_ratio': None, 'max_iter': 100, 'multi_class': 'ovr', 'n_jobs': None, 'penalty': 'l2', 'random_state': None, 'solver': 'lbfgs', 'tol': 0.0001, 'verbose': 0, 'warm_start': False}\n"
     ]
    }
   ],
   "source": [
    "# Default hyperparameters\n",
    "print(LR.get_params())"
   ]
  },
  {
   "cell_type": "code",
   "execution_count": 14,
   "metadata": {},
   "outputs": [
    {
     "name": "stdout",
     "output_type": "stream",
     "text": [
      "CPU times: user 1.87 s, sys: 72.1 ms, total: 1.94 s\n",
      "Wall time: 534 ms\n"
     ]
    },
    {
     "data": {
      "text/plain": [
       "LogisticRegression(multi_class='ovr')"
      ]
     },
     "execution_count": 14,
     "metadata": {},
     "output_type": "execute_result"
    }
   ],
   "source": [
    "%%time\n",
    "# Fit model\n",
    "LR.fit(X_train, y_train)"
   ]
  },
  {
   "cell_type": "markdown",
   "metadata": {},
   "source": [
    "### 2.1.3 Test optimized model against test set"
   ]
  },
  {
   "cell_type": "code",
   "execution_count": 15,
   "metadata": {},
   "outputs": [],
   "source": [
    "y_pred_test_LR = LR.predict(X_test)"
   ]
  },
  {
   "cell_type": "code",
   "execution_count": 16,
   "metadata": {},
   "outputs": [
    {
     "name": "stdout",
     "output_type": "stream",
     "text": [
      "              precision    recall  f1-score   support\n",
      "\n",
      "         0.0       0.87      0.99      0.92      6883\n",
      "         1.0       0.52      0.09      0.16      1117\n",
      "\n",
      "    accuracy                           0.86      8000\n",
      "   macro avg       0.70      0.54      0.54      8000\n",
      "weighted avg       0.82      0.86      0.82      8000\n",
      "\n"
     ]
    }
   ],
   "source": [
    "# Classification report\n",
    "print(classification_report(y_test, y_pred_test_LR))"
   ]
  },
  {
   "cell_type": "code",
   "execution_count": 17,
   "metadata": {},
   "outputs": [
    {
     "name": "stdout",
     "output_type": "stream",
     "text": [
      "[[6786   97]\n",
      " [1012  105]]\n"
     ]
    }
   ],
   "source": [
    "# Confusion matrix\n",
    "print(confusion_matrix(y_test, y_pred_test_LR))"
   ]
  },
  {
   "cell_type": "markdown",
   "metadata": {},
   "source": [
    "### 2.1.4 Evaluate AUC for ROC and PR for performance against test set\n",
    "\n",
    "For imbalanced targets, area under the precision-recall curve is usually a better indicator of model performance than area under the receiver operating characteristic curve."
   ]
  },
  {
   "cell_type": "code",
   "execution_count": 18,
   "metadata": {},
   "outputs": [],
   "source": [
    "# Find probability estimates for y_pred_test\n",
    "y_pred_proba_test_LR = LR.predict_proba(X_test)[:, 1] # use second column for probabilities"
   ]
  },
  {
   "cell_type": "code",
   "execution_count": 19,
   "metadata": {},
   "outputs": [],
   "source": [
    "# Calculate false positive rate and true positive rate:\n",
    "fpr, tpr, thresholds_roc = roc_curve(y_test, y_pred_proba_test_LR)\n",
    "\n",
    "# Calculate precision and recall\n",
    "precision, recall, thresholds_pr = precision_recall_curve(y_test, y_pred_proba_test_LR)"
   ]
  },
  {
   "cell_type": "code",
   "execution_count": 20,
   "metadata": {},
   "outputs": [
    {
     "data": {
      "text/plain": [
       "0.7539943428407098"
      ]
     },
     "execution_count": 20,
     "metadata": {},
     "output_type": "execute_result"
    }
   ],
   "source": [
    "# Area under curve for ROC\n",
    "auc(fpr, tpr)"
   ]
  },
  {
   "cell_type": "code",
   "execution_count": 21,
   "metadata": {},
   "outputs": [
    {
     "data": {
      "text/plain": [
       "0.3535523719372374"
      ]
     },
     "execution_count": 21,
     "metadata": {},
     "output_type": "execute_result"
    }
   ],
   "source": [
    "# Area under precision-recall curve\n",
    "auc(recall, precision)"
   ]
  },
  {
   "cell_type": "code",
   "execution_count": 22,
   "metadata": {},
   "outputs": [],
   "source": [
    "# Visualization\n",
    "%matplotlib inline\n",
    "import matplotlib.pyplot as plt"
   ]
  },
  {
   "cell_type": "code",
   "execution_count": 39,
   "metadata": {},
   "outputs": [],
   "source": [
    "from sklearn.dummy import DummyClassifier"
   ]
  },
  {
   "cell_type": "code",
   "execution_count": null,
   "metadata": {},
   "outputs": [],
   "source": [
    "def plot_pr_curve(test_y, model_probs):\n",
    "\t# calculate the no skill line as the proportion of the positive class\n",
    "\tno_skill = len(test_y[test_y==1]) / len(test_y)\n",
    "\t# plot the no skill precision-recall curve\n",
    "\tpyplot.plot([0, 1], [no_skill, no_skill], linestyle='--', label='No Skill')"
   ]
  },
  {
   "cell_type": "code",
   "execution_count": 41,
   "metadata": {},
   "outputs": [],
   "source": [
    "# no skill model, stratified random class predictions\n",
    "model = DummyClassifier(strategy='stratified')\n",
    "model.fit(X_train, y_train)\n",
    "yhat = model.predict_proba(X_test)\n",
    "naive_probs = yhat[:, 1]\n",
    "\n",
    "# Calculate false positive rate and true positive rate:\n",
    "naive_fpr, naive_tpr, naive_thresholds_roc = roc_curve(y_test, naive_probs)\n",
    "\n",
    "# Calculate precision and recall\n",
    "naive_precision, naive_recall, naive_thresholds_pr = precision_recall_curve(y_test, naive_probs)"
   ]
  },
  {
   "cell_type": "code",
   "execution_count": 46,
   "metadata": {},
   "outputs": [
    {
     "data": {
      "image/png": "[encoded data removed]",
      "text/plain": [
       "<Figure size 1152x432 with 2 Axes>"
      ]
     },
     "metadata": {
      "needs_background": "light"
     },
     "output_type": "display_data"
    }
   ],
   "source": [
    "# Plot Precision-Recall curve for clf_best:\n",
    "plt.figure(figsize=(16,6))\n",
    "plt.subplot(1,2,1)\n",
    "plt.plot(naive_precision, naive_recall, 'r--', label='No-skill Precision-recall curve (area = %0.3f)' % auc(naive_recall, naive_precision))\n",
    "plt.step(recall, precision,label='Precision-recall curve (area = %0.3f)' % auc(recall, precision))\n",
    "plt.title('XGBoost classifier Stage 3: Precision-recall curve', size=13)\n",
    "plt.xlabel('Recall')\n",
    "plt.ylabel('Precision')\n",
    "plt.legend(loc='lower left', fontsize=13)\n",
    "plt.ylim([-0.05, 1.05])\n",
    "plt.xlim([-0.05, 1.05])\n",
    "\n",
    "# Plot ROC curve for clf_best:\n",
    "plt.subplot(1,2,2)\n",
    "plt.plot(fpr, tpr, label='ROC curve (area = %0.3f)' % auc(fpr, tpr))\n",
    "plt.plot([0, 1], [0, 1], 'r--')\n",
    "plt.title('XGBoost classifier Stage 3: ROC curve', size=13)\n",
    "plt.xlabel('False Positive Rate')\n",
    "plt.ylabel('True Positive Rate')\n",
    "plt.legend(loc='lower right', fontsize=13)\n",
    "plt.ylim([-0.05, 1.05])\n",
    "plt.xlim([-0.05, 1.05])\n",
    "\n",
    "plt.show()"
   ]
  },
  {
   "cell_type": "markdown",
   "metadata": {},
   "source": [
    "## 2.2 DNN in Keras model"
   ]
  },
  {
   "cell_type": "code",
   "execution_count": 24,
   "metadata": {},
   "outputs": [],
   "source": [
    "# Import Keras and Tensorflow\n",
    "import tensorflow as tf\n",
    "from tensorflow import keras\n",
    "from tensorflow.keras import layers"
   ]
  },
  {
   "cell_type": "markdown",
   "metadata": {},
   "source": [
    "### Create validation set from training data to evaluate model training"
   ]
  },
  {
   "cell_type": "code",
   "execution_count": 25,
   "metadata": {},
   "outputs": [],
   "source": [
    "X_train_train, X_train_val, y_train_train, y_train_val = train_test_split(X_train, y_train,test_size = 0.2, random_state = 365) "
   ]
  },
  {
   "cell_type": "markdown",
   "metadata": {},
   "source": [
    "### Convert pandas dataframes to NumPy arrays\n",
    "\n",
    "NOTE: In order to use validation_split or validation_data during model training, the training data should be in NumPy format."
   ]
  },
  {
   "cell_type": "code",
   "execution_count": 26,
   "metadata": {},
   "outputs": [],
   "source": [
    "X_train_train_np = X_train_train.to_numpy()\n",
    "y_train_train_np = y_train_train.to_numpy()\n",
    "X_train_val_np = X_train_val.to_numpy()\n",
    "y_train_val_np = y_train_val.to_numpy()\n",
    "\n",
    "X_test_np = X_test.to_numpy()\n",
    "y_test_np = y_test.to_numpy()"
   ]
  },
  {
   "cell_type": "markdown",
   "metadata": {},
   "source": [
    "### 2.2.1 Run a quick DNN model "
   ]
  },
  {
   "cell_type": "code",
   "execution_count": 27,
   "metadata": {},
   "outputs": [],
   "source": [
    "# Create Sequential model with 2 hidden layers\n",
    "\n",
    "DNN = keras.Sequential()\n",
    "DNN.add(layers.Dense(300, input_shape=(X_train.shape[1],), activation='relu', name='layer1'))\n",
    "DNN.add(layers.Dense(100, activation='relu', name='layer2'))\n",
    "DNN.add(layers.Dense(30, activation='relu', name='layer3'))\n",
    "DNN.add(layers.Dense(1, activation='sigmoid', name='ouput'))"
   ]
  },
  {
   "cell_type": "code",
   "execution_count": 28,
   "metadata": {},
   "outputs": [
    {
     "name": "stdout",
     "output_type": "stream",
     "text": [
      "Model: \"sequential\"\n",
      "_________________________________________________________________\n",
      "Layer (type)                 Output Shape              Param #   \n",
      "=================================================================\n",
      "layer1 (Dense)               (None, 300)               54300     \n",
      "_________________________________________________________________\n",
      "layer2 (Dense)               (None, 100)               30100     \n",
      "_________________________________________________________________\n",
      "layer3 (Dense)               (None, 30)                3030      \n",
      "_________________________________________________________________\n",
      "ouput (Dense)                (None, 1)                 31        \n",
      "=================================================================\n",
      "Total params: 87,461\n",
      "Trainable params: 87,461\n",
      "Non-trainable params: 0\n",
      "_________________________________________________________________\n"
     ]
    }
   ],
   "source": [
    "DNN.summary()"
   ]
  },
  {
   "cell_type": "code",
   "execution_count": 29,
   "metadata": {},
   "outputs": [],
   "source": [
    "# Compile model\n",
    "DNN.compile(loss='binary_crossentropy', optimizer='adam', metrics=['accuracy', 'AUC'])"
   ]
  },
  {
   "cell_type": "code",
   "execution_count": 30,
   "metadata": {},
   "outputs": [
    {
     "name": "stdout",
     "output_type": "stream",
     "text": [
      "Train on 25600 samples, validate on 6400 samples\n",
      "Epoch 1/20\n",
      "25600/25600 [==============================] - 2s 67us/sample - loss: 0.3946 - accuracy: 0.8522 - AUC: 0.6674 - val_loss: 0.3769 - val_accuracy: 0.8548 - val_AUC: 0.7176\n",
      "Epoch 2/20\n",
      "25600/25600 [==============================] - 1s 45us/sample - loss: 0.3711 - accuracy: 0.8542 - AUC: 0.7339 - val_loss: 0.3723 - val_accuracy: 0.8558 - val_AUC: 0.7407\n",
      "Epoch 3/20\n",
      "25600/25600 [==============================] - 1s 45us/sample - loss: 0.3582 - accuracy: 0.8585 - AUC: 0.7621 - val_loss: 0.3799 - val_accuracy: 0.8566 - val_AUC: 0.7417\n",
      "Epoch 4/20\n",
      "25600/25600 [==============================] - 1s 49us/sample - loss: 0.3500 - accuracy: 0.8600 - AUC: 0.7783 - val_loss: 0.3708 - val_accuracy: 0.8566 - val_AUC: 0.7322\n",
      "Epoch 5/20\n",
      "25600/25600 [==============================] - 1s 48us/sample - loss: 0.3341 - accuracy: 0.8666 - AUC: 0.8033 - val_loss: 0.3812 - val_accuracy: 0.8464 - val_AUC: 0.7247\n",
      "Epoch 6/20\n",
      "25600/25600 [==============================] - 1s 47us/sample - loss: 0.3158 - accuracy: 0.8732 - AUC: 0.8304 - val_loss: 0.3983 - val_accuracy: 0.8492 - val_AUC: 0.7098\n",
      "Epoch 7/20\n",
      "25600/25600 [==============================] - 1s 48us/sample - loss: 0.2887 - accuracy: 0.8830 - AUC: 0.8652 - val_loss: 0.4269 - val_accuracy: 0.8422 - val_AUC: 0.6950\n",
      "Epoch 8/20\n",
      "25600/25600 [==============================] - 1s 44us/sample - loss: 0.2605 - accuracy: 0.8952 - AUC: 0.8932 - val_loss: 0.4507 - val_accuracy: 0.8277 - val_AUC: 0.6688\n",
      "Epoch 9/20\n",
      "25600/25600 [==============================] - 1s 46us/sample - loss: 0.2296 - accuracy: 0.9084 - AUC: 0.9194 - val_loss: 0.5009 - val_accuracy: 0.8380 - val_AUC: 0.6589\n",
      "CPU times: user 20.4 s, sys: 4.12 s, total: 24.6 s\n",
      "Wall time: 11.3 s\n"
     ]
    }
   ],
   "source": [
    " %%time\n",
    "\n",
    " # Use early stopping if model does not improve after 5 epochs\n",
    "early_stopping_cb = keras.callbacks.EarlyStopping(patience=5, restore_best_weights=True)\n",
    "\n",
    " # Fit model\n",
    " history = DNN.fit(X_train_train_np, y_train_train_np,\n",
    "                    epochs=20,\n",
    "                    validation_data=(X_train_val_np, y_train_val_np),\n",
    "                    callbacks=[early_stopping_cb]) "
   ]
  },
  {
   "cell_type": "code",
   "execution_count": 31,
   "metadata": {},
   "outputs": [
    {
     "name": "stdout",
     "output_type": "stream",
     "text": [
      "8000/8000 [==============================] - 0s 23us/sample - loss: 0.3606 - accuracy: 0.8609 - AUC: 0.7375\n",
      "deep neural network quick Test loss: \t0.3606\n",
      "deep neural network quick Test accuracy: \t0.8609\n",
      "deep neural network quick Test AUC: \t0.7375\n"
     ]
    }
   ],
   "source": [
    "# Evaluate against test set\n",
    "DNN_test_loss, DNN_test_acc, DNN_test_auc = DNN.evaluate(X_test_np, y_test_np)\n",
    "print('deep neural network quick Test loss: \\t%0.4f' % DNN_test_loss)\n",
    "print('deep neural network quick Test accuracy: \\t%0.4f' % DNN_test_acc)\n",
    "print('deep neural network quick Test AUC: \\t%0.4f' % DNN_test_auc)"
   ]
  },
  {
   "cell_type": "code",
   "execution_count": 32,
   "metadata": {},
   "outputs": [],
   "source": [
    "# Find probability estimates\n",
    "y_pred_proba_test_quick_DNN = DNN.predict(X_test_np) # use predict for probabilities"
   ]
  },
  {
   "cell_type": "code",
   "execution_count": 33,
   "metadata": {},
   "outputs": [],
   "source": [
    "# # Calculate false positive rate and true positive rate:\n",
    "DNN_fpr_quick, DNN_tpr_quick, DNN_thresholds_roc_quick = roc_curve(y_test_np, y_pred_proba_test_quick_DNN)\n",
    "\n",
    "# # Calculate precision and recall\n",
    "DNN_precision_quick, DNN_recall_quick, DNN_thresholds_pr_quick = precision_recall_curve(y_test_np, y_pred_proba_test_quick_DNN)"
   ]
  },
  {
   "cell_type": "code",
   "execution_count": 34,
   "metadata": {},
   "outputs": [
    {
     "data": {
      "text/plain": [
       "0.7373758033461445"
      ]
     },
     "execution_count": 34,
     "metadata": {},
     "output_type": "execute_result"
    }
   ],
   "source": [
    "# Area under curve for ROC\n",
    "auc(DNN_fpr_quick, DNN_tpr_quick)"
   ]
  },
  {
   "cell_type": "code",
   "execution_count": 35,
   "metadata": {},
   "outputs": [
    {
     "data": {
      "text/plain": [
       "0.3322175302704722"
      ]
     },
     "execution_count": 35,
     "metadata": {},
     "output_type": "execute_result"
    }
   ],
   "source": [
    "# Area under precision-recall curve\n",
    "auc(DNN_recall_quick, DNN_precision_quick)"
   ]
  },
  {
   "cell_type": "code",
   "execution_count": 36,
   "metadata": {
    "scrolled": true
   },
   "outputs": [
    {
     "data": {
      "image/png": "[encoded data removed]",
      "text/plain": [
       "<Figure size 1152x432 with 2 Axes>"
      ]
     },
     "metadata": {
      "needs_background": "light"
     },
     "output_type": "display_data"
    }
   ],
   "source": [
    "# Plot Precision-Recall curve for clf_best:\n",
    "plt.figure(figsize=(16,6))\n",
    "plt.subplot(1,2,1)\n",
    "plt.step(DNN_recall_quick, DNN_precision_quick, label='Precision-recall curve (area = %0.3f)' % auc(recall, precision))\n",
    "\n",
    "plt.title('XGBoost classifier Stage 3: Precision-recall curve', size=13)\n",
    "plt.xlabel('Recall')\n",
    "plt.ylabel('Precision')\n",
    "plt.legend(loc='lower left', fontsize=13)\n",
    "plt.ylim([-0.05, 1.05])\n",
    "plt.xlim([-0.05, 1.05])\n",
    "\n",
    "# Plot ROC curve for clf_best:\n",
    "plt.subplot(1,2,2)\n",
    "plt.plot(DNN_fpr_quick, DNN_tpr_quick, label='ROC curve (area = %0.3f)' % auc(fpr, tpr))\n",
    "plt.plot([0, 1], [0, 1], 'r--')\n",
    "plt.title('XGBoost classifier Stage 3: ROC curve', size=13)\n",
    "plt.xlabel('False Positive Rate')\n",
    "plt.ylabel('True Positive Rate')\n",
    "plt.legend(loc='lower right', fontsize=13)\n",
    "plt.ylim([-0.05, 1.05])\n",
    "plt.xlim([-0.05, 1.05])\n",
    "\n",
    "plt.show()"
   ]
  },
  {
   "cell_type": "markdown",
   "metadata": {},
   "source": [
    "# 4 Compare the modeling approaches"
   ]
  },
  {
   "cell_type": "code",
   "execution_count": null,
   "metadata": {},
   "outputs": [],
   "source": []
  }
 ],
 "metadata": {
  "kernelspec": {
   "display_name": "Python 3",
   "language": "python",
   "name": "python3"
  },
  "language_info": {
   "codemirror_mode": {
    "name": "ipython",
    "version": 3
   },
   "file_extension": ".py",
   "mimetype": "text/x-python",
   "name": "python",
   "nbconvert_exporter": "python",
   "pygments_lexer": "ipython3",
   "version": "3.7.4"
  }
 },
 "nbformat": 4,
 "nbformat_minor": 2
}
